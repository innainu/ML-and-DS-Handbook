{
  "nbformat": 4,
  "nbformat_minor": 0,
  "metadata": {
    "colab": {
      "name": "ML_Notes.ipynb",
      "version": "0.3.2",
      "views": {},
      "default_view": {},
      "provenance": [],
      "collapsed_sections": [
        "EQVX7NTPLYCt",
        "D_eGUycxO3nf",
        "y5ukkAeMTh9v"
      ],
      "toc_visible": true
    },
    "kernelspec": {
      "name": "python3",
      "display_name": "Python 3"
    }
  },
  "cells": [
    {
      "metadata": {
        "id": "rqpISJgsmGAr",
        "colab_type": "code",
        "colab": {
          "autoexec": {
            "startup": false,
            "wait_interval": 0
          }
        }
      },
      "cell_type": "code",
      "source": [
        "%matplotlib inline\n",
        "from google.colab import files"
      ],
      "execution_count": 0,
      "outputs": []
    },
    {
      "metadata": {
        "id": "8dSwNdKOmT_c",
        "colab_type": "code",
        "colab": {
          "autoexec": {
            "startup": false,
            "wait_interval": 0
          }
        }
      },
      "cell_type": "code",
      "source": [
        "import matplotlib.pyplot as plt\n",
        "import math\n",
        "import numpy as np\n",
        "np.random.seed(5)"
      ],
      "execution_count": 0,
      "outputs": []
    },
    {
      "metadata": {
        "id": "UqHsR1XRVZ9V",
        "colab_type": "code",
        "colab": {
          "autoexec": {
            "startup": false,
            "wait_interval": 0
          }
        }
      },
      "cell_type": "code",
      "source": [
        "import scipy.stats as stats\n",
        "import random\n",
        "import math\n",
        "import pandas as pd\n"
      ],
      "execution_count": 0,
      "outputs": []
    },
    {
      "metadata": {
        "id": "xry62MZNUEIy",
        "colab_type": "code",
        "colab": {
          "autoexec": {
            "startup": false,
            "wait_interval": 0
          },
          "output_extras": [
            {
              "item_id": 6
            },
            {
              "item_id": 7
            }
          ],
          "base_uri": "https://localhost:8080/",
          "height": 457
        },
        "outputId": "683cbaaf-bd0a-43e9-8e97-d68328c37209",
        "executionInfo": {
          "status": "ok",
          "timestamp": 1519106085369,
          "user_tz": 300,
          "elapsed": 5137,
          "user": {
            "displayName": "Inna Shteinbuk",
            "photoUrl": "//lh5.googleusercontent.com/-_vXxKfahMKs/AAAAAAAAAAI/AAAAAAAAK8k/srNREuaEhA8/s50-c-k-no/photo.jpg",
            "userId": "109370904258545758972"
          }
        }
      },
      "cell_type": "code",
      "source": [
        "from sklearn import decomposition\n",
        "from sklearn import datasets\n",
        "\n",
        "# datasets\n",
        "!pip install ggplot\n",
        "from ggplot import mtcars\n",
        "iris = datasets.load_iris()"
      ],
      "execution_count": 1,
      "outputs": [
        {
          "output_type": "stream",
          "text": [
            "Collecting ggplot\n",
            "  Downloading ggplot-0.11.5-py2.py3-none-any.whl (2.2MB)\n",
            "\u001b[K    100% |████████████████████████████████| 2.2MB 530kB/s \n",
            "\u001b[?25hRequirement already satisfied: numpy in /usr/local/lib/python3.6/dist-packages (from ggplot)\n",
            "Requirement already satisfied: scipy in /usr/local/lib/python3.6/dist-packages (from ggplot)\n",
            "Collecting brewer2mpl (from ggplot)\n",
            "  Downloading brewer2mpl-1.4.1-py2.py3-none-any.whl\n",
            "Requirement already satisfied: pandas in /usr/local/lib/python3.6/dist-packages (from ggplot)\n",
            "Requirement already satisfied: matplotlib in /usr/local/lib/python3.6/dist-packages (from ggplot)\n",
            "Requirement already satisfied: six in /usr/local/lib/python3.6/dist-packages (from ggplot)\n",
            "Requirement already satisfied: patsy>=0.4 in /usr/local/lib/python3.6/dist-packages (from ggplot)\n",
            "Requirement already satisfied: cycler in /usr/local/lib/python3.6/dist-packages (from ggplot)\n",
            "Requirement already satisfied: statsmodels in /usr/local/lib/python3.6/dist-packages (from ggplot)\n",
            "Requirement already satisfied: pytz>=2011k in /usr/local/lib/python3.6/dist-packages (from pandas->ggplot)\n",
            "Requirement already satisfied: python-dateutil>=2 in /usr/local/lib/python3.6/dist-packages (from pandas->ggplot)\n",
            "Requirement already satisfied: pyparsing!=2.0.4,!=2.1.2,!=2.1.6,>=2.0.1 in /usr/local/lib/python3.6/dist-packages (from matplotlib->ggplot)\n",
            "Installing collected packages: brewer2mpl, ggplot\n",
            "Successfully installed brewer2mpl-1.4.1 ggplot-0.11.5\n"
          ],
          "name": "stdout"
        },
        {
          "output_type": "stream",
          "text": [
            "/usr/local/lib/python3.6/dist-packages/ggplot/utils.py:81: FutureWarning: pandas.tslib is deprecated and will be removed in a future version.\n",
            "You can access Timestamp as pandas.Timestamp\n",
            "  pd.tslib.Timestamp,\n",
            "/usr/local/lib/python3.6/dist-packages/ggplot/stats/smoothers.py:4: FutureWarning: The pandas.lib module is deprecated and will be removed in a future version. These are private functions and can be accessed from pandas._libs.lib instead\n",
            "  from pandas.lib import Timestamp\n",
            "/usr/local/lib/python3.6/dist-packages/statsmodels/compat/pandas.py:56: FutureWarning: The pandas.core.datetools module is deprecated and will be removed in a future version. Please use the pandas.tseries module instead.\n",
            "  from pandas.core import datetools\n"
          ],
          "name": "stderr"
        }
      ]
    },
    {
      "metadata": {
        "id": "LqYodiPVW_iE",
        "colab_type": "text"
      },
      "cell_type": "markdown",
      "source": [
        "# Outline"
      ]
    },
    {
      "metadata": {
        "id": "zlL29X5VG9rV",
        "colab_type": "text"
      },
      "cell_type": "markdown",
      "source": [
        "**We intend for each topic has a TL;DR, then a more detailed definition and a coding example.**\n",
        "\n",
        "- [Reference Material](#reference)\n",
        "- [Math](#math)\n",
        "- [Stats](#stats)\n",
        "- [ML](#ml)\n",
        "- [Applied ML](#appliedML)\n",
        "- [Data](#data)\n",
        "\n",
        "\n"
      ]
    },
    {
      "metadata": {
        "id": "33TOjTusP2PY",
        "colab_type": "text"
      },
      "cell_type": "markdown",
      "source": [
        "<a id='reference'></a>\n",
        "# Reference Material\n",
        "\n",
        "## General\n",
        "\n",
        "- http://web.stanford.edu/~hastie/ElemStatLearn/\n",
        "- https://github.com/josephmisiti/awesome-machine-learning/blob/master/books.md\n",
        "\n",
        "## Linear Algebra and Probability\n",
        "- http://www.deeplearningbook.org/contents/linear_algebra.html\n",
        "- http://www.deeplearningbook.org/contents/prob.html\n",
        "- https://ocw.mit.edu/courses/mathematics/18-05-introduction-to-probability-and-statistics-spring-2014/readings/MIT18_05S14_Reading24.pdf\n",
        "- https://ocw.mit.edu/courses/mathematics/18-05-introduction-to-probability-and-statistics-spring-2014/readings/MIT18_05S14_Reading18.pdf\n",
        "\n",
        "## ML\n",
        "\n",
        "- http://cs231n.github.io/linear-classify/\n",
        "\n",
        "## Blogs and Posts\n",
        "\n",
        "- http://cs231n.github.io/optimization-1/\n",
        "- https://hamelg.blogspot.com/2015/12/python-for-data-analysis-index.html?view=sidebar\n",
        "- http://colah.github.io/posts/2015-09-Visual-Information/\n",
        "- http://worrydream.com/refs/Shannon%20-%20A%20Mathematical%20Theory%20of%20Communication.pdf\n",
        "- http://varianceexplained.org/r/bayesian-ab-testing/\n",
        "\n"
      ]
    },
    {
      "metadata": {
        "id": "EHNcQwO_IkaH",
        "colab_type": "text"
      },
      "cell_type": "markdown",
      "source": [
        "<a id='math'></a>\n",
        "# Math"
      ]
    },
    {
      "metadata": {
        "id": "tpgV08kpW5LQ",
        "colab_type": "text"
      },
      "cell_type": "markdown",
      "source": [
        "## Linear Algebra Review\n",
        "\n",
        "[chapter 2(dl book)](http://www.deeplearningbook.org/contents/linear_algebra.html) as reference"
      ]
    },
    {
      "metadata": {
        "id": "m8AG-hyPYQzJ",
        "colab_type": "text"
      },
      "cell_type": "markdown",
      "source": [
        "\n",
        "### Eigenvectors, Eigenvalues and Eigendecomposition\n",
        "\n",
        "TLDR: A square matrix  $A$ can be described as a geometric transformation, and an eigenvector $v$ is transformed by that matrix only by a scaling parameter $\\lambda$. So $Av = \\lambda v$. You can use this property to decompose $A$ into several matrix multiplications.\n",
        "\n",
        "#### Definition of eigenvector, eigenvalue\n",
        "\n",
        "\n",
        "\n",
        "- An Eigenvector  $v$ of a square matrix $A$, when multiplied by $A$ only alters the scale of $v$. $\\lambda$ is the eigenvalue corresponding to this eigenvector. \n",
        "- $$ \\textbf{Av} = \\boldsymbol\\lambda \\textbf{v}$$\n",
        "- If $s  \\epsilon R $ and $ s \\neq 0 $, then $sv$ is also an eigenvector and has the same eigenvalue. \n",
        "\n",
        "#### Eigendecomposition\n",
        "\n",
        "- The eigendecomposition of $\\textbf{A}$ is:\n",
        "\n",
        "$$ \\textbf{A} = \\textbf{V}diag(\\boldsymbol\\lambda)\\textbf{V}^{-1}$$\n",
        "\n",
        "Where\n",
        "\n",
        "- $\\textbf{A}$ has to be a square matrix. Every real symmetric matrix  $\\textbf{A}$ can be decomposed into an expression using only real-valued eigenvectors and eigenvalues.\n",
        "- Matrix $\\textbf{A}$ has $n$ linearly independent eigenvectors { $\\textbf{v}^{(1)}$, ...  $\\textbf{v}^{(n)}$}, with corresponding eigenvalues {$\\lambda^{(1)}$, ...  $\\lambda^{(n)}$}. \n",
        "\n",
        "- matrix $\\textbf{V}$ has all eigenvectors, one eigenvector per column, $\\textbf{V} = [\\textbf{v}^{(1)}, ...,  \\textbf{v}^{(n)}]$.\n",
        "- vector $\\boldsymbol\\lambda  = [\\lambda^{(1)}, ..., \\lambda^{(n)}]$, with all eigenvalues.\n",
        "\n",
        "- Can think of A as scaling space by $\\lambda_i$ in direction $v_i$ (think of a unit circle being scaled)\n",
        "\n",
        "#### Definitions coming from eigendecomposition\n",
        "- Eigendecomposition may not be unique. (only unique if all eigenvalues are unique).\n",
        "- Matrix is **singular** if any of the eigenvalues are 0.\n",
        "- Matrix is **positive definite** if all eigenvalues are positive\n",
        "- Matrix is **positive semidefinite** if all eigenvalues are positive or 0.\n",
        "     - This guarantees that $ \\forall \\textbf{x}, \\textbf{x}^T\\textbf{Ax}\\geq0 $\n",
        "- Matrix is **negative definite** if all eigenvalues are negative\n",
        "- Matrix is **negative semidefinite** if all eigenvalues are negative or 0.\n",
        "\n"
      ]
    },
    {
      "metadata": {
        "id": "G2ZneXuSl5Kg",
        "colab_type": "text"
      },
      "cell_type": "markdown",
      "source": [
        "Let's look at a coding example with eigendecomposition:"
      ]
    },
    {
      "metadata": {
        "id": "ariqoEDCltq2",
        "colab_type": "code",
        "colab": {
          "autoexec": {
            "startup": false,
            "wait_interval": 0
          },
          "output_extras": [
            {
              "item_id": 1
            }
          ],
          "base_uri": "https://localhost:8080/",
          "height": 51
        },
        "outputId": "74073992-25eb-47d8-f1cd-54270cd303b0",
        "executionInfo": {
          "status": "ok",
          "timestamp": 1519003269925,
          "user_tz": 300,
          "elapsed": 548,
          "user": {
            "displayName": "Baruch Tabanpour",
            "photoUrl": "//lh3.googleusercontent.com/-QdGwhAZwzFk/AAAAAAAAAAI/AAAAAAAAB3k/YuLNs6IqnJA/s50-c-k-no/photo.jpg",
            "userId": "117368641394038196827"
          }
        }
      },
      "cell_type": "code",
      "source": [
        "X = iris.data\n",
        "A = X.T.dot(X)  # a square matrix\n",
        "V = np.linalg.eig(A)\n",
        "\n",
        "\n",
        "# check that A v = lambda v\n",
        "print('lambda * v', A.dot(V[1][:, 0]) / V[1][:, 0])\n",
        "print('lambda', V[0][0])"
      ],
      "execution_count": 5,
      "outputs": [
        {
          "output_type": "stream",
          "text": [
            "lambda * v [9206.53059607 9206.53059607 9206.53059607 9206.53059607]\n",
            "lambda 9206.530596067096\n"
          ],
          "name": "stdout"
        }
      ]
    },
    {
      "metadata": {
        "id": "gQksXz6vmEA9",
        "colab_type": "text"
      },
      "cell_type": "markdown",
      "source": [
        "### SVD and PCA\n",
        "\n",
        "TLDR: Other ways to decompose matrices.\n",
        "\n",
        "#### Singular Value Decomposition\n",
        "\n",
        "TLDR: if you can't do eigendecomposition on a matrix(i.e. matrix is not square) use SVD to decompose that matrix instead.\n",
        "\n",
        "- Every real matrix has an SVD (e.g. if matrix is not square, eigendecomposition is undefined, so use SVD instead)\n",
        "$$\\textbf{A} = \\textbf{UDV}^T $$\n",
        "- $$\\textbf{A}(mxn) = \\textbf{U}(mxm)\\textbf{D}(mxn)\\textbf{V}^T(nxn) $$\n",
        "- **U** and **V** are orthogonal (inner product is zero).\n",
        "- **D** is diagonal and it's diagonal values are singular values of **A**, columns of **U** are left singular vectors (eigenvectors of $\\textbf{AA}^T$), columns of **V** are right-singular vectors (eigenvectors of $\\textbf{A}^T\\textbf{A}$).\n",
        "    - singular values are the eigenvalues of matrix $\\sqrt{A^T A}$ or  $\\sqrt{A A^T}$"
      ]
    },
    {
      "metadata": {
        "id": "fwNKJqfNHSsA",
        "colab_type": "text"
      },
      "cell_type": "markdown",
      "source": [
        "#### Moore-Penrose Pseudoinverse:\n",
        "To solve $\\textbf{Ax = y}$, we want $\\textbf{A}^{-1}$ which isn't possible if **A** is not square. We can use the Moore-Penrose pseudoinverse:\n",
        "$$\\textbf{A}^+ = \\textbf{VD}^+\\textbf{U}^T $$\n",
        "where + indicaes pseudoinverse, **U, D, V** are from SVD of **A**\n",
        "- $D^{+}$ is reciprocal of its nonzero elements, then transpose."
      ]
    },
    {
      "metadata": {
        "id": "hMKNr6e2Km29",
        "colab_type": "text"
      },
      "cell_type": "markdown",
      "source": [
        "#### PCA\n",
        "\n",
        "TLDR: PCA helps us lower the dimensionality of our data while keeping the most relevant information.\n",
        "\n",
        "Use PCA to get a lower dimensional version of points that requires less memory, if it is okay to lose some precision.\n",
        "\n",
        "$\\textbf{X}$ is our data with shape $R^{m,n}$. We want a function to approximately encode $\\textbf{X}$ to $\\textbf{C} \\in R^{m, l}$, where $l < n$. We can use $\\textbf{D}$ to encode $\\textbf{X}$ where $\\textbf{D}^T\\textbf{X} = \\textbf{C}$ and $\\textbf{D}$ is composed of the largest $l$ eigenvectors of $\\textbf{X}^T\\textbf{X}$.  $D \\in R^{nxl}$.  \n",
        "- D is unitary ($DD^T=I$) because eigenvectors are orthogonal and they are normalized.\n",
        "\n",
        "---\n",
        "\n",
        "*Derivation:*\n",
        "\n",
        "- For each $ x^i \\epsilon R^n$, find a corresponding code vector, $c^i \\epsilon R^l$ (l < n for less memory)\n",
        "- We want an encoding function $f(x) = c$, and a decoding function, $x \\approx g(f(x))$\n",
        "- Find D for $g(c) = Dc$ where $D \\epsilon R^{nxl}$\n",
        "- PCA constrains columns of D to be orthogonal to each other, and all columns of D to have unit norm (for unique solution)\n",
        "- Find optimal $c^{*}$ for each x. Minimize distance between input point x and reconstruction g($c^{*}$) (measure this using L^2 norm):\n",
        "  - $c* = \\underset{c}{\\operatorname{argmin}} \\|x - g(c) \\|_2^2$\n",
        "  - ... expand, substitute g(c) and do optimization ...\n",
        "  - $ c = D^T x $\n",
        "  - $ f(x) = D^T x $\n",
        "  - $ r(x) = g(f(x)) = D D^T x $\n",
        "  - to find matrix D, solve this:\n",
        "  - $D* = \\underset{D}{\\operatorname{argmin}} \\sqrt{\\underset{i,j}\\sum(X_j^i - r(x^i)_j)}$, subject to $D^TD = I_l$\n",
        "    - $X \\epsilon R^{mxn}$ is all vectors stacked, $ X_{i,:} = X^{i^T}$\n",
        "    - When l = 1, D is just a vector, d, and you get $ \\underset{d}{\\operatorname{argmax}} Tr(d^TX^TXD)$ subject to $d^Td=1$, and optimization problem can be solved using eigendecomposition.\n",
        "    - Optimal d is given by eigenvector of $X^TX$, corresponding to largest eigenvalue.\n",
        "\n",
        "#### PCA Coding Example"
      ]
    },
    {
      "metadata": {
        "id": "k8EMQlycQsgL",
        "colab_type": "code",
        "colab": {
          "autoexec": {
            "startup": false,
            "wait_interval": 0
          },
          "output_extras": [
            {
              "item_id": 1
            }
          ],
          "base_uri": "https://localhost:8080/",
          "height": 105
        },
        "outputId": "8b7d92f3-09a4-4fde-dfd6-f4483708aeab",
        "executionInfo": {
          "status": "ok",
          "timestamp": 1514840262200,
          "user_tz": 300,
          "elapsed": 579,
          "user": {
            "displayName": "Baruch Tabanpour",
            "photoUrl": "//lh3.googleusercontent.com/-QdGwhAZwzFk/AAAAAAAAAAI/AAAAAAAAB3k/YuLNs6IqnJA/s50-c-k-no/photo.jpg",
            "userId": "117368641394038196827"
          }
        }
      },
      "cell_type": "code",
      "source": [
        "# Get PCA with 2 components from Iris Data using sklearn\n",
        "X = iris.data\n",
        "\n",
        "pca = decomposition.PCA(n_components=2, svd_solver='full')\n",
        "pca.fit(X)\n",
        "C = pca.transform(X)\n",
        "D = pca.components_.T\n",
        "\n",
        "print('X shape is ', X.shape)\n",
        "print('C shape is ', C.shape)\n",
        "print('D shape is ', D.shape)"
      ],
      "execution_count": 84,
      "outputs": [
        {
          "output_type": "stream",
          "text": [
            "X shape is  (150, 4)\n",
            "C shape is  (150, 2)\n",
            "D shape is  (4, 2)\n"
          ],
          "name": "stdout"
        }
      ]
    },
    {
      "metadata": {
        "id": "bx_8y9eLatNN",
        "colab_type": "code",
        "colab": {
          "autoexec": {
            "startup": false,
            "wait_interval": 0
          },
          "output_extras": [
            {
              "item_id": 1
            }
          ],
          "base_uri": "https://localhost:8080/",
          "height": 96
        },
        "outputId": "07f9781d-3ac6-4f4d-fad2-dffc0c110116",
        "executionInfo": {
          "status": "ok",
          "timestamp": 1514843195354,
          "user_tz": 300,
          "elapsed": 444,
          "user": {
            "displayName": "Baruch Tabanpour",
            "photoUrl": "//lh3.googleusercontent.com/-QdGwhAZwzFk/AAAAAAAAAAI/AAAAAAAAB3k/YuLNs6IqnJA/s50-c-k-no/photo.jpg",
            "userId": "117368641394038196827"
          }
        }
      },
      "cell_type": "code",
      "source": [
        "# Do it manually by getting eigendecomposition of X^T X\n",
        "Xm = X - X.mean(axis=0)\n",
        "d = np.linalg.eig(Xm.T.dot(Xm))\n",
        "\n",
        "# get top 2 eigenvalues\n",
        "D1 = d[1][:, :2]\n",
        "\n",
        "C1 = Xm.dot(D1)\n",
        "\n",
        "print('Actual X[0]', X[0])\n",
        "print('Sklearn reconstruction', C.dot(D.T)[0] + X.mean(axis=0))\n",
        "print('Numpy reconstruction', C1.dot(D1.T)[0] + X.mean(axis=0))"
      ],
      "execution_count": 142,
      "outputs": [
        {
          "output_type": "stream",
          "text": [
            "Acutal X[0] [ 5.1  3.5  1.4  0.2]\n",
            "Sklearn reconstruction [ 5.08718247  3.51315614  1.4020428   0.21105556]\n",
            "Numpy reconstruction [ 5.08718247  3.51315614  1.4020428   0.21105556]\n"
          ],
          "name": "stdout"
        }
      ]
    },
    {
      "metadata": {
        "id": "H4rmurpdgypM",
        "colab_type": "text"
      },
      "cell_type": "markdown",
      "source": [
        "## Probability  Review\n",
        "[chapter3(dl book)](http://www.deeplearningbook.org/contents/prob.html) as reference"
      ]
    },
    {
      "metadata": {
        "id": "Skt_T5LWg5vW",
        "colab_type": "text"
      },
      "cell_type": "markdown",
      "source": [
        "#### Variance/Covariance Equations:\n",
        "\n",
        "TLDR: Variance is the expected squared distanec from each point to the mean.\n",
        "\n",
        "$Var(f(x)) = E[ (f(x) − E[f(x)])^2 ] $\n",
        "\n",
        "$stdev = \\sqrt(Var) $\n",
        "\n",
        "$Cov(f(x), g(y)) = \\mathrm{E}[ (f(x) - \\mathrm{E}[f(x)]) (g(y) - \\mathrm{E}[g(y)]) ]$\n",
        " - 2 independent variables have 0 covariance.\n",
        " - 2 variables with non-zero covariance are dependent.\n",
        " - 2 dependent variables can have 0 covariance."
      ]
    },
    {
      "metadata": {
        "id": "CSXc0aY4mrbN",
        "colab_type": "code",
        "colab": {
          "autoexec": {
            "startup": false,
            "wait_interval": 0
          },
          "output_extras": [
            {
              "item_id": 1
            }
          ],
          "base_uri": "https://localhost:8080/",
          "height": 84
        },
        "outputId": "0f5b2798-34d0-4142-a6f6-a179418e8cc8",
        "executionInfo": {
          "status": "ok",
          "timestamp": 1514849905223,
          "user_tz": 300,
          "elapsed": 586,
          "user": {
            "displayName": "Baruch Tabanpour",
            "photoUrl": "//lh3.googleusercontent.com/-QdGwhAZwzFk/AAAAAAAAAAI/AAAAAAAAB3k/YuLNs6IqnJA/s50-c-k-no/photo.jpg",
            "userId": "117368641394038196827"
          }
        }
      },
      "cell_type": "code",
      "source": [
        "# Compute covariance with numpy\n",
        "\n",
        "X = iris.data\n",
        "\n",
        "print(np.mean((X - np.mean(X, axis=0)) ** 2, axis=0))\n",
        "\n",
        "print(np.std(X, axis=0) ** 2)"
      ],
      "execution_count": 147,
      "outputs": [
        {
          "output_type": "stream",
          "text": [
            "[ 0.68112222  0.18675067  3.09242489  0.57853156]\n",
            "[ 0.68112222  0.18675067  3.09242489  0.57853156]\n"
          ],
          "name": "stdout"
        }
      ]
    },
    {
      "metadata": {
        "id": "DeddMZHrpw4c",
        "colab_type": "text"
      },
      "cell_type": "markdown",
      "source": [
        "### Baye's Formula\n",
        "\n",
        "TLDR: A formula for conditional probability distributions\n",
        "\n",
        "The probability of getting a model with parameters $\\theta$ given an observation $x$, based on prior beliefs $p(\\theta)$ of the model parameters is: \n",
        "\n",
        "$$ P(\\theta|x) = \\frac{P(x|\\theta)P(\\theta)}{P(x)}$$\n",
        "\n",
        "- $P(\\theta)$ is the prior, initial belief in $\\theta$\n",
        "- P($\\theta$| x) is the posterior, probability of getting a model $\\theta$ given an observation $x$\n",
        "- P(x|$\\theta$) is the likelihood of seeing an observation $x$ given your model $\\theta$"
      ]
    },
    {
      "metadata": {
        "id": "ter-b3CY_2nM",
        "colab_type": "text"
      },
      "cell_type": "markdown",
      "source": [
        "### Common Probability Distributions"
      ]
    },
    {
      "metadata": {
        "id": "EXuOFUrvJxq8",
        "colab_type": "text"
      },
      "cell_type": "markdown",
      "source": [
        "#### Uniform Distribution\n",
        "\n",
        "TLDR: Flat distribution over a specified interval.\n",
        "\n",
        "$$\n",
        "\\begin{equation}\n",
        "  P(x)=\\begin{cases}\n",
        "    0, & \\text{if $x<a$}.\\\\\n",
        "    \\frac{1}{b - a}, & \\text{if $a \\le x \\le b$}\\\\\n",
        "    0, & \\text{if $x > b$}.\n",
        "  \\end{cases}\n",
        "\\end{equation}\n",
        "$$\n",
        "\n",
        "- It is a maximum entropy distribution given a specified interval over real numbers."
      ]
    },
    {
      "metadata": {
        "id": "dJ0dtE6pAcyA",
        "colab_type": "text"
      },
      "cell_type": "markdown",
      "source": [
        "#### Bernoulli distribution\n",
        "\n",
        "TLDR: think of a coin\n",
        "\n",
        "  - Single binary R.V.\n",
        "  - $\\phi \\in [0,1]$\n",
        "  - $P(x=1) = \\phi $\n",
        "  - $P(x=0) = 1 - \\phi$\n",
        "  - $P(x = x) = \\phi^x(1-\\phi)^{1-x}$\n",
        "  - $\\mathrm{E}_X[x] = \\phi$\n",
        "  - $\\mathrm{Var}_X(x) = \\phi(1-\\phi) $"
      ]
    },
    {
      "metadata": {
        "id": "_Lwu6NMJBysm",
        "colab_type": "text"
      },
      "cell_type": "markdown",
      "source": [
        "#### Multinomial distribution\n",
        "\n",
        "TLDR: think of dice\n",
        "\n",
        "  - Categorical. Single discrete variable with k different states (k is finite)\n",
        "  - $\\textbf{p} \\in [0,1]^{k-1}$ where $p_i$ is the $i$th state's probability.\n",
        "  - $k$th state probability given by $1- \\textbf{1}^T\\textbf{p}$, $\\textbf{1}^T\\textbf{p} \\leq 1$\n",
        " "
      ]
    },
    {
      "metadata": {
        "id": "LqcVedruADtC",
        "colab_type": "text"
      },
      "cell_type": "markdown",
      "source": [
        "#### Gaussian Distribution and Central Limit Theorem\n",
        "\n",
        "TLDR: Has a mean and variance, for continuous random variables, and it approximates a ton of other distributions because of the Central Limit Theorem.\n",
        "\n",
        "$$P(x)  = \\frac{1}{{\\sigma \\sqrt {2\\pi } }} e^{ -(x - \\mu)^2 / (2 \\sigma^2) }$$\n",
        "\n",
        "- Central Limit Theorem - the sum of many independent random variables is approximately normally distributed. \n",
        "- Out of all possible probability distributions over real numbers with a specified variance, the normal distribution encodes the maximum amount of uncertainty. In other words, it's a maximum entropy distribution."
      ]
    },
    {
      "metadata": {
        "id": "hlm3WX3wpZNe",
        "colab_type": "text"
      },
      "cell_type": "markdown",
      "source": [
        "#### Exponential and laplace distribution\n",
        "\n",
        "TLDR: often want a sharp point at x = 0\n",
        "\n",
        "- Exponential Distribution:\n",
        "$$p(x;\\lambda) = \\lambda \\textbf{1}_{x\\geq0}\\exp(-\\lambda x)$$\n",
        "- Laplace Distribution\n",
        "$$ Laplace(x; \\mu, \\gamma) = \\frac{1}{2\\gamma} \\exp(-\\frac{| x - \\mu |}{\\gamma})$$\n"
      ]
    },
    {
      "metadata": {
        "id": "I5WcwQkgFjI8",
        "colab_type": "text"
      },
      "cell_type": "markdown",
      "source": [
        "\n",
        "#### Dirac and Empirical distribution\n",
        "\n",
        "You can make an empirical distribution by putting all the mass in a probability distribution around the actual points of the data.\n",
        "\n",
        "- Dirac delta function:\n",
        "$$ p(x) = \\delta(x - \\mu) $$\n",
        "  - zero everywhere except 0\n",
        "  - infinitely narrow peak where $x = \\mu$\n",
        "  - Empirical distribution (common use of Dirac delta distribution)\n",
        "  $$ p(\\textbf{x}) = \\frac{1}{m} \\sum_{i=1}^m \\delta(\\textbf{x} - \\textbf{x}^{(i)})$$\n",
        "  - Used to define empirical distribution over continuous variables.\n",
        "  - For discrete variables, empirical distribution is a multinoulli distribution, where probability of each input value is the empirical frequency in the training set.\n",
        "  - Empirical distribution is the probability density that maximizes the likelihood of the training data."
      ]
    },
    {
      "metadata": {
        "id": "UcsEB4AAbPEd",
        "colab_type": "text"
      },
      "cell_type": "markdown",
      "source": [
        "#### Mixtures of Distributions:\n",
        "\n",
        "TLDR: break up a distribution instead several smaller ones\n",
        "\n",
        "- Made up of several component distributions\n",
        "- For example, we could first sample a component identity $P(c)$ from multinoulli distribution, which tells us which distribution to sample from $P(x|c)$.\n",
        "$$ P(x) = \\sum_iP(c=i)P(x|c = i) $$\n",
        "  - P(c) is the multinoulli distribution over component identities\n",
        "\n",
        "**Latent variable**\n",
        "- Random variable that we can't observe directly\n",
        "- above, $c$ is an example. \n",
        "- Latent variables are related to x through joint distribution, i.e. $ P(x,c) = P(x|c)P(c)$\n",
        "\n",
        "**Gaussian mixture model (GMM)**\n",
        "\n",
        "TLDR: A model consisting of several gaussian distributions.\n",
        "\n",
        "- $p(\\textbf{x}|c=i)$ are Gaussians.\n",
        "- Each component has separately parametrized $\\mathbf{\\mu}^{(i)}$ and $\\mathbf{\\Sigma}^{(i)}$\n",
        "- Parameters also specify prior probability: $\\alpha_i = P(c=i)$ given to each component $i$ (prior because it is the model's belief about c before it has observed x.)\n",
        "- $P(c|\\textbf{x})$ is a posterior probability\n",
        "- This is a universal approximator of densities (any smooth density can be approximated with a gmm with enough components.)\n"
      ]
    },
    {
      "metadata": {
        "id": "7uc4_3DUk2Bd",
        "colab_type": "text"
      },
      "cell_type": "markdown",
      "source": [
        "### Common functions and useful properties:\n"
      ]
    },
    {
      "metadata": {
        "id": "5EQy3WBGlleF",
        "colab_type": "text"
      },
      "cell_type": "markdown",
      "source": [
        "#### Logistic Sigmoid\n",
        "\n",
        "Sigmoid converts a real number $\\in (-\\inf, \\inf)$ to a probability $\\in [0, 1]$.\n",
        "\n",
        "$$\\sigma(x) = \\frac{1}{1 + \\exp{(-x)}} $$\n",
        "\n",
        "\n",
        "The inverse of the sigmoidal function is the logit function $log(\\frac{p}{1 - p})$."
      ]
    },
    {
      "metadata": {
        "id": "WL7UG96kk1c0",
        "colab_type": "code",
        "colab": {
          "autoexec": {
            "startup": false,
            "wait_interval": 0
          },
          "output_extras": [
            {
              "item_id": 1
            }
          ],
          "base_uri": "https://localhost:8080/",
          "height": 265
        },
        "outputId": "11254145-b91f-461a-ea01-468c58f98223",
        "executionInfo": {
          "status": "ok",
          "timestamp": 1514489981825,
          "user_tz": 300,
          "elapsed": 426,
          "user": {
            "displayName": "Inna Shteinbuk",
            "photoUrl": "//lh5.googleusercontent.com/-_vXxKfahMKs/AAAAAAAAAAI/AAAAAAAAK8k/srNREuaEhA8/s50-c-k-no/photo.jpg",
            "userId": "109370904258545758972"
          }
        }
      },
      "cell_type": "code",
      "source": [
        "def sigmoid(x):\n",
        "  y = []\n",
        "  for item in x:\n",
        "    y.append(1/(1 + math.exp(-item)))\n",
        "  return y\n",
        "\n",
        "x = np.arange(-10, 10, 0.2)\n",
        "y = sigmoid(x)\n",
        "plt.plot(x, y)\n",
        "plt.show()"
      ],
      "execution_count": 31,
      "outputs": [
        {
          "output_type": "display_data",
          "data": {
            "image/png": "[encoded data removed]",
            "text/plain": [
              "<matplotlib.figure.Figure at 0x7f706a8c8cf8>"
            ]
          },
          "metadata": {
            "tags": []
          }
        }
      ]
    },
    {
      "metadata": {
        "id": "LaiFB7REqpbx",
        "colab_type": "text"
      },
      "cell_type": "markdown",
      "source": [
        "#### Softplus Function:\n",
        "\n",
        "$$\\varsigma(x) = log(1 + \\exp(x))$$, sometimes used as an activation function in neural nets."
      ]
    },
    {
      "metadata": {
        "id": "h4WrxB-6FwsQ",
        "colab_type": "code",
        "colab": {
          "autoexec": {
            "startup": false,
            "wait_interval": 0
          },
          "output_extras": [
            {
              "item_id": 1
            }
          ],
          "base_uri": "https://localhost:8080/",
          "height": 265
        },
        "outputId": "c3afbdc2-f183-41ad-e5bf-cb4109c4f475",
        "executionInfo": {
          "status": "ok",
          "timestamp": 1514490770323,
          "user_tz": 300,
          "elapsed": 635,
          "user": {
            "displayName": "Inna Shteinbuk",
            "photoUrl": "//lh5.googleusercontent.com/-_vXxKfahMKs/AAAAAAAAAAI/AAAAAAAAK8k/srNREuaEhA8/s50-c-k-no/photo.jpg",
            "userId": "109370904258545758972"
          }
        }
      },
      "cell_type": "code",
      "source": [
        " def soft_plus(x):\n",
        "    y = []\n",
        "    for item in x:\n",
        "      y.append(math.log(1 + math.exp(item)))\n",
        "    return y\n",
        "  \n",
        "x = np.arange(-10, 10, 0.2)\n",
        "y = soft_plus(x)\n",
        "plt.plot(x, y)\n",
        "plt.show()"
      ],
      "execution_count": 34,
      "outputs": [
        {
          "output_type": "display_data",
          "data": {
            "image/png": "[encoded data removed]",
            "text/plain": [
              "<matplotlib.figure.Figure at 0x7f706a838cf8>"
            ]
          },
          "metadata": {
            "tags": []
          }
        }
      ]
    },
    {
      "metadata": {
        "id": "3PfC469JsSMs",
        "colab_type": "text"
      },
      "cell_type": "markdown",
      "source": [
        "#### Properties of Sigmoid ($\\sigma$) and Softplus ($\\varsigma$):\n",
        "$$\\sigma(x) = \\frac{\\exp{(x)}}{\\exp{(x)} +  \\exp{(0)}} $$\n",
        "\n",
        "$$\\frac{d}{dx} \\sigma(x) = \\sigma(x)(1-\\sigma(x)) $$\n",
        "\n",
        "$$ 1 - \\sigma(x) = \\sigma(-x)$$\n",
        "\n",
        "$$ log\\sigma(x) = -\\varsigma(-x) $$\n",
        "\n",
        "$$\\frac{d}{dx}\\varsigma(x) = \\sigma(x)$$\n",
        "\n",
        "$$\\forall \\in (0,1), \\sigma^{-1}(x) = log(\\frac{x}{1-x})$$\n",
        "\n",
        "$$\\forall > 0, \\varsigma^{-1}(x) = log(\\exp(x) - 1)$$\n",
        "\n",
        "$$ \\varsigma(x) = \\int_{-\\infty}^{x} \\sigma(y)dy $$\n",
        "\n",
        "$$ \\varsigma(x) -  \\varsigma(-x) = x$$\n",
        "\n",
        "- This last one is similar to identity $x^+ - x^- = x $"
      ]
    },
    {
      "metadata": {
        "id": "KZxvTUqrOjik",
        "colab_type": "text"
      },
      "cell_type": "markdown",
      "source": [
        "## Information Theory\n",
        "\n",
        "http://colah.github.io/posts/2015-09-Visual-Information/\n",
        "\n",
        "http://worrydream.com/refs/Shannon%20-%20A%20Mathematical%20Theory%20of%20Communication.pdf\n",
        "\n"
      ]
    },
    {
      "metadata": {
        "id": "7nj98UgRFxdV",
        "colab_type": "text"
      },
      "cell_type": "markdown",
      "source": [
        "\n",
        "#### Self-information\n",
        "\n",
        "$$I(x) = -logP(x)$$\n",
        "\n",
        "#### Entropy\n",
        "\n",
        "TLDR: Used to quantify the uncertainty in a probability distribution or the minimum number of bits to encode events from a probability distribution.\n",
        "\n",
        "$$H(X) = \\mathrm{E}_{X \\sim P} I(x) = - \\sum_{i= 1}^n P(x_i)log(P(x_i)) $$\n",
        "\n",
        "\n",
        "#### KL Divergence\n",
        "\n",
        "TLDR: Measure the difference between 2 probability distribution with the same random variable.\n",
        "\n",
        "Random variable $x$, and 2 probability distributions P(x), Q(x)\n",
        "\n",
        "$$ D_{KL}(P \\parallel Q) = \\mathrm{E}_{X \\sim P}[ \\ log \\frac{P(x)}{Q(x)} ] =  \\sum_i P(x_i) log(\\frac{P(x_i)}{Q(x_i)}) $$\n",
        "- measures difference between 2 distributions: the extra information sent if we sent a message with symbols drawn from distribution P using code that minimized the length of messages drawn from distribution Q\n",
        "- Difference between cross-entropy and entropy.\n",
        "- Not a distance measure, not symmetric, i.e. $ D_{KL}(P \\parallel Q) \\neq D_{KL}(Q \\parallel P) $\n",
        "\n",
        "\n",
        "#### Cross Entropy\n",
        "\n",
        "TLDR: Measures the number of bits needed if we encode events from P using the wrong distribution Q.\n",
        "\n",
        "$$H(P, Q) = -\\sum_{i=1}^n P(x_i) log(Q(x_i))$$\n",
        "$$H(P,Q) = H(P) +  D_{KL}(P \\parallel Q)$$\n",
        "\n",
        "- If $P$ and $Q$ are the same distribution, we just get entropy.\n",
        "- Cross-entropy loss for random guesses in a binary classifier is $-log(0.5)\\approx0.693$. In this case $P$ are the ground truth labels and $Q$ is our model's predictions.\n",
        "- minimizing cross-entropy is the same as minimizing KL divergence.\n",
        "\n",
        "#### Graphical Models\n",
        "TLDR: factorization of a probability distribution using a graph\n",
        "\n",
        "- We can split up a probability distribution into many factors, like:\n",
        "$$ p(a,b,c) = p(a)p(b|a)p(c|b)$$\n",
        "- The factorization of a probability distribution with a graph is called a graphical model\n",
        "- directed and undirected models (use directed and undirected graphs respectively)\n",
        "  - Directed Models:\n",
        "      - factorizations into conditional probability distributions:\n",
        "      $$ p(\\textbf{x}) = \\prod_{i}p(x_i|Pa_\\zeta(x_i)) $$\n",
        "      - $Pa_\\zeta(x_i)$ are the parents of $x_i$\n",
        "      ![Directed Graph](https://drive.google.com/uc?id=1ehrqV9YZ1gRO341FZtevjZBryvy0gJLH)\n",
        "  - Undirected Models:\n",
        "      - factorizations into a set of functions(usually not probability distributions)\n",
        "      - set of nodes that are all connected to eachother in $\\zeta$ is called a clique, $C^{(i)}$.\n",
        "      - Each clique, $C^{(i)}$ is associated with a factor $\\phi^{(i)}(C^{(i)})$. These are functions, non-negative, but don't have to sum to 1 like a probability distribution.\n",
        "      - Beacuse they don't sum to 1, we use a normalization constant $Z$.\n",
        "      $$p(\\textbf{x}) = \\frac{1}{Z} \\prod_{i} \\phi^{(i)}(C^{(i)})$$\n",
        "      ![Undirected Graph](https://drive.google.com/uc?id=142uvmDtEUc19orY_HKdwfVwI2X6_6ad5)\n",
        "\n",
        "      "
      ]
    },
    {
      "metadata": {
        "id": "EQVX7NTPLYCt",
        "colab_type": "text"
      },
      "cell_type": "markdown",
      "source": [
        "## Numerical Methods\n",
        "[chapter4(dl book)]\n",
        "(http://www.deeplearningbook.org/contents/numerical.html)\n",
        "\n",
        "http://cs231n.github.io/optimization-1/"
      ]
    },
    {
      "metadata": {
        "id": "bUoboHNf2D6e",
        "colab_type": "text"
      },
      "cell_type": "markdown",
      "source": [
        "#### Directional Derivative \n"
      ]
    },
    {
      "metadata": {
        "id": "GtMTAAT3AliN",
        "colab_type": "text"
      },
      "cell_type": "markdown",
      "source": [
        "\n",
        "\n",
        "### Convex Optimization\n",
        "\n",
        "#### Newton's method\n",
        "\n",
        "#### Simplex Algorithm - Linear Programming\n",
        "\n",
        "#### Quadratic Programming\n",
        "\n",
        "\n",
        "### Non-convex Optimization\n",
        "\n",
        "#### Finite Differences\n",
        "#### Gradient Descent\n",
        "#### Conjugate Gradient\n",
        "#### BFGS\n",
        "#### Hessian\n",
        "#### Genetic Algorithms\n",
        "#### Differential Evolution"
      ]
    },
    {
      "metadata": {
        "id": "D_eGUycxO3nf",
        "colab_type": "text"
      },
      "cell_type": "markdown",
      "source": [
        "<a id='statistics'></a>\n",
        "# Statistics"
      ]
    },
    {
      "metadata": {
        "id": "Tt_hJtxtRi6A",
        "colab_type": "text"
      },
      "cell_type": "markdown",
      "source": [
        "## Sampling Statistics\n",
        "\n"
      ]
    },
    {
      "metadata": {
        "id": "9LSfJyPgIr_s",
        "colab_type": "text"
      },
      "cell_type": "markdown",
      "source": [
        "### Population Statistics\n",
        "\n",
        "\n",
        "#### Mean & Median\n",
        "- Mean: Sum of values divided by number of values.\n",
        "- Median: Middle value of sorted values, the 50th percentile.  This is a more robust statistic than mean, because it tends to resist effects of skew or outliers."
      ]
    },
    {
      "metadata": {
        "id": "LoKDoswYqJjQ",
        "colab_type": "code",
        "colab": {
          "autoexec": {
            "startup": false,
            "wait_interval": 0
          }
        }
      },
      "cell_type": "code",
      "source": [
        "# change the index from numbers to the name of the car\n",
        "mtcars.index = mtcars['name']"
      ],
      "execution_count": 0,
      "outputs": []
    },
    {
      "metadata": {
        "id": "8oWG3KtHp6jI",
        "colab_type": "code",
        "colab": {
          "autoexec": {
            "startup": false,
            "wait_interval": 0
          },
          "output_extras": [
            {
              "item_id": 1
            }
          ],
          "base_uri": "https://localhost:8080/",
          "height": 227
        },
        "outputId": "a1bad10d-7ae6-4486-b483-13804d368e41",
        "executionInfo": {
          "status": "ok",
          "timestamp": 1515034289153,
          "user_tz": 300,
          "elapsed": 564,
          "user": {
            "displayName": "Baruch Tabanpour",
            "photoUrl": "//lh3.googleusercontent.com/-QdGwhAZwzFk/AAAAAAAAAAI/AAAAAAAAB3k/YuLNs6IqnJA/s50-c-k-no/photo.jpg",
            "userId": "117368641394038196827"
          }
        }
      },
      "cell_type": "code",
      "source": [
        "# Mean:\n",
        "mtcars.mean(axis=0) # mean of each column\n",
        "mtcars.mean(axis=1) # mean of each row\n",
        "mtcars.median(axis=0) # median of column"
      ],
      "execution_count": 11,
      "outputs": [
        {
          "output_type": "execute_result",
          "data": {
            "text/plain": [
              "mpg      19.200\n",
              "cyl       6.000\n",
              "disp    196.300\n",
              "hp      123.000\n",
              "drat      3.695\n",
              "wt        3.325\n",
              "qsec     17.710\n",
              "vs        0.000\n",
              "am        0.000\n",
              "gear      4.000\n",
              "carb      2.000\n",
              "dtype: float64"
            ]
          },
          "metadata": {
            "tags": []
          },
          "execution_count": 11
        }
      ]
    },
    {
      "metadata": {
        "id": "7Euf-NMap7Pu",
        "colab_type": "text"
      },
      "cell_type": "markdown",
      "source": [
        "\n",
        "#### Quantiles\n",
        "q-Quantiles partition your data into q subsets of (nearly) equal sizes. The median is the 2nd quantile of your data.\n",
        " you can get the 25% (1st quantile), 75% (3rd quantile)"
      ]
    },
    {
      "metadata": {
        "id": "flmmK33fswXk",
        "colab_type": "code",
        "colab": {
          "autoexec": {
            "startup": false,
            "wait_interval": 0
          },
          "output_extras": [
            {
              "item_id": 1
            },
            {
              "item_id": 2
            }
          ],
          "base_uri": "https://localhost:8080/",
          "height": 51
        },
        "outputId": "4b279b77-6683-4612-db1c-9dd7ffc71389",
        "executionInfo": {
          "status": "ok",
          "timestamp": 1514861614580,
          "user_tz": 300,
          "elapsed": 415,
          "user": {
            "displayName": "Inna Shteinbuk",
            "photoUrl": "//lh5.googleusercontent.com/-_vXxKfahMKs/AAAAAAAAAAI/AAAAAAAAK8k/srNREuaEhA8/s50-c-k-no/photo.jpg",
            "userId": "109370904258545758972"
          }
        }
      },
      "cell_type": "code",
      "source": [
        "# Defined as the 'five num' summary:\n",
        "\n",
        "five_num = [mtcars[\"mpg\"].quantile(0),   \n",
        "            mtcars[\"mpg\"].quantile(0.25),\n",
        "            mtcars[\"mpg\"].quantile(0.50),\n",
        "            mtcars[\"mpg\"].quantile(0.75),\n",
        "            mtcars[\"mpg\"].quantile(1)]\n",
        "\n",
        "print(five_num)\n",
        "\n",
        "# IQR(Interquartile range) is a measure of spread (upper quartile-lower quartile\n",
        "# 4-quantiles are called quartiles):\n",
        "mtcars[\"mpg\"].quantile(0.75) - mtcars[\"mpg\"].quantile(0.25)"
      ],
      "execution_count": 36,
      "outputs": [
        {
          "output_type": "stream",
          "text": [
            "[10.4, 15.425, 19.2, 22.8, 33.9]\n"
          ],
          "name": "stdout"
        },
        {
          "output_type": "execute_result",
          "data": {
            "text/plain": [
              "7.375"
            ]
          },
          "metadata": {
            "tags": []
          },
          "execution_count": 36
        }
      ]
    },
    {
      "metadata": {
        "id": "pHzHTfBAydOJ",
        "colab_type": "code",
        "colab": {
          "autoexec": {
            "startup": false,
            "wait_interval": 0
          },
          "output_extras": [
            {
              "item_id": 1
            }
          ],
          "base_uri": "https://localhost:8080/",
          "height": 486
        },
        "outputId": "04a8adb6-14fa-4e08-8c6b-4daf813d2f90",
        "executionInfo": {
          "status": "ok",
          "timestamp": 1514861834747,
          "user_tz": 300,
          "elapsed": 587,
          "user": {
            "displayName": "Inna Shteinbuk",
            "photoUrl": "//lh5.googleusercontent.com/-_vXxKfahMKs/AAAAAAAAAAI/AAAAAAAAK8k/srNREuaEhA8/s50-c-k-no/photo.jpg",
            "userId": "109370904258545758972"
          }
        }
      },
      "cell_type": "code",
      "source": [
        "# A boxplot plots these quantities, i.e.\n",
        "mtcars.boxplot(column='mpg', return_type='axes', figsize=(8,8))\n",
        "\n",
        "plt.text(x=0.74, y=22.25, s=\"3rd Quartile\")\n",
        "plt.text(x=0.8, y=18.75, s=\"Median\")\n",
        "plt.text(x=0.75, y=15.5, s=\"1st Quartile\")\n",
        "plt.text(x=0.9, y=10, s=\"Min\")\n",
        "plt.text(x=0.9, y=32, s=\"Max\")\n",
        "plt.text(x=0.7, y=19.5, s=\"IQR\", rotation=90, size=25)\n",
        "plt.show()"
      ],
      "execution_count": 39,
      "outputs": [
        {
          "output_type": "display_data",
          "data": {
            "image/png": "[encoded data removed]",
            "text/plain": [
              "<matplotlib.figure.Figure at 0x7f425283d208>"
            ]
          },
          "metadata": {
            "tags": []
          }
        }
      ]
    },
    {
      "metadata": {
        "id": "Hx4_FgJCzeSQ",
        "colab_type": "text"
      },
      "cell_type": "markdown",
      "source": [
        "#### Skew & Kurtosis\n",
        "*Skewness* is the measure of skew or asymmetry of a distribution, and *kurtosis* measures the 'peakedness'.\n",
        "\n",
        "\n",
        "- Mean, Variance, and Standard Deviation are all susceptible to influece of skew and outliers."
      ]
    },
    {
      "metadata": {
        "id": "Wp9zbWd60lkl",
        "colab_type": "code",
        "colab": {
          "autoexec": {
            "startup": false,
            "wait_interval": 0
          },
          "output_extras": [
            {
              "item_id": 1
            }
          ],
          "base_uri": "https://localhost:8080/",
          "height": 612
        },
        "outputId": "b66f548c-df8b-45cf-d5ef-e60cf039da9c",
        "executionInfo": {
          "status": "ok",
          "timestamp": 1514862266854,
          "user_tz": 300,
          "elapsed": 17001,
          "user": {
            "displayName": "Inna Shteinbuk",
            "photoUrl": "//lh5.googleusercontent.com/-_vXxKfahMKs/AAAAAAAAAAI/AAAAAAAAK8k/srNREuaEhA8/s50-c-k-no/photo.jpg",
            "userId": "109370904258545758972"
          }
        }
      },
      "cell_type": "code",
      "source": [
        "norm_data = np.random.normal(size=100000)\n",
        "skewed_data = np.concatenate((np.random.normal(size=35000)+2, \n",
        "                             np.random.exponential(size=65000)), \n",
        "                             axis=0)\n",
        "uniform_data = np.random.uniform(0,2, size=100000)\n",
        "peaked_data = np.concatenate((np.random.exponential(size=50000),\n",
        "                             np.random.exponential(size=50000)*(-1)),\n",
        "                             axis=0)\n",
        "\n",
        "data_df = pd.DataFrame({\"norm\":norm_data,\n",
        "                       \"skewed\":skewed_data,\n",
        "                       \"uniform\":uniform_data,\n",
        "                       \"peaked\":peaked_data})\n",
        "\n",
        "\n",
        "data_df.plot(kind=\"density\",\n",
        "            figsize=(10,10),\n",
        "            xlim=(-5,5))\n",
        "plt.show()"
      ],
      "execution_count": 42,
      "outputs": [
        {
          "output_type": "display_data",
          "data": {
            "image/png": "[encoded data removed]",
            "text/plain": [
              "<matplotlib.figure.Figure at 0x7f42527a0f98>"
            ]
          },
          "metadata": {
            "tags": []
          }
        }
      ]
    },
    {
      "metadata": {
        "id": "iRGu4xaC0wkV",
        "colab_type": "code",
        "colab": {
          "autoexec": {
            "startup": false,
            "wait_interval": 0
          },
          "output_extras": [
            {
              "item_id": 1
            }
          ],
          "base_uri": "https://localhost:8080/",
          "height": 255
        },
        "outputId": "bfb04e1b-a7b5-4a0b-df11-480d9053ecfc",
        "executionInfo": {
          "status": "ok",
          "timestamp": 1514862463755,
          "user_tz": 300,
          "elapsed": 466,
          "user": {
            "displayName": "Inna Shteinbuk",
            "photoUrl": "//lh5.googleusercontent.com/-_vXxKfahMKs/AAAAAAAAAAI/AAAAAAAAK8k/srNREuaEhA8/s50-c-k-no/photo.jpg",
            "userId": "109370904258545758972"
          }
        }
      },
      "cell_type": "code",
      "source": [
        "print('skew of graphs')\n",
        "print(data_df.skew())\n",
        "print('\\n')\n",
        "print('kurtosis of graphs')\n",
        "print(data_df.kurt())"
      ],
      "execution_count": 47,
      "outputs": [
        {
          "output_type": "stream",
          "text": [
            "skew of graphs\n",
            "norm       0.012523\n",
            "peaked    -0.030491\n",
            "skewed     1.004339\n",
            "uniform    0.005870\n",
            "dtype: float64\n",
            "\n",
            "\n",
            "kurtosis of graphs\n",
            "norm       0.004622\n",
            "peaked     2.861855\n",
            "skewed     1.276163\n",
            "uniform   -1.199963\n",
            "dtype: float64\n"
          ],
          "name": "stdout"
        }
      ]
    },
    {
      "metadata": {
        "id": "lpahwle-3zLD",
        "colab_type": "text"
      },
      "cell_type": "markdown",
      "source": [
        "#### Correlation\n",
        "A measure of dependence between 2 quantities.\n",
        "\n",
        "Pearson correlation coefficient:\n",
        "$$\\rho_{X,Y} = corr(X, Y) = \\frac{cov(X,Y)}{\\sigma_X\\sigma_Y} = \n",
        "\\frac{E [ (X-\\mu_X) (Y-\\mu_Y) ] } {\\sigma_X \\sigma_Y}  $$\n",
        "\n",
        "equals +1 in perfectly increasing linear relationship, equals -1 in perfectly decreasing linear relationship. It cannot exceed 1.\n",
        "\n"
      ]
    },
    {
      "metadata": {
        "id": "HJvs8fzh7cM_",
        "colab_type": "code",
        "colab": {
          "autoexec": {
            "startup": false,
            "wait_interval": 0
          },
          "output_extras": [
            {
              "item_id": 1
            }
          ],
          "base_uri": "https://localhost:8080/",
          "height": 365
        },
        "outputId": "0ae96101-36cb-4885-e53c-7b1d68ca632b",
        "executionInfo": {
          "status": "ok",
          "timestamp": 1515034299063,
          "user_tz": 300,
          "elapsed": 510,
          "user": {
            "displayName": "Baruch Tabanpour",
            "photoUrl": "//lh3.googleusercontent.com/-QdGwhAZwzFk/AAAAAAAAAAI/AAAAAAAAB3k/YuLNs6IqnJA/s50-c-k-no/photo.jpg",
            "userId": "117368641394038196827"
          }
        }
      },
      "cell_type": "code",
      "source": [
        "# Computes all pairwise correlation scores\n",
        "mtcars.corr(method='pearson')"
      ],
      "execution_count": 12,
      "outputs": [
        {
          "output_type": "execute_result",
          "data": {
            "text/html": [
              "<div>\n",
              "<style>\n",
              "    .dataframe thead tr:only-child th {\n",
              "        text-align: right;\n",
              "    }\n",
              "\n",
              "    .dataframe thead th {\n",
              "        text-align: left;\n",
              "    }\n",
              "\n",
              "    .dataframe tbody tr th {\n",
              "        vertical-align: top;\n",
              "    }\n",
              "</style>\n",
              "<table border=\"1\" class=\"dataframe\">\n",
              "  <thead>\n",
              "    <tr style=\"text-align: right;\">\n",
              "      <th></th>\n",
              "      <th>mpg</th>\n",
              "      <th>cyl</th>\n",
              "      <th>disp</th>\n",
              "      <th>hp</th>\n",
              "      <th>drat</th>\n",
              "      <th>wt</th>\n",
              "      <th>qsec</th>\n",
              "      <th>vs</th>\n",
              "      <th>am</th>\n",
              "      <th>gear</th>\n",
              "      <th>carb</th>\n",
              "    </tr>\n",
              "  </thead>\n",
              "  <tbody>\n",
              "    <tr>\n",
              "      <th>mpg</th>\n",
              "      <td>1.000000</td>\n",
              "      <td>-0.852162</td>\n",
              "      <td>-0.847551</td>\n",
              "      <td>-0.776168</td>\n",
              "      <td>0.681172</td>\n",
              "      <td>-0.867659</td>\n",
              "      <td>0.418684</td>\n",
              "      <td>0.664039</td>\n",
              "      <td>0.599832</td>\n",
              "      <td>0.480285</td>\n",
              "      <td>-0.550925</td>\n",
              "    </tr>\n",
              "    <tr>\n",
              "      <th>cyl</th>\n",
              "      <td>-0.852162</td>\n",
              "      <td>1.000000</td>\n",
              "      <td>0.902033</td>\n",
              "      <td>0.832447</td>\n",
              "      <td>-0.699938</td>\n",
              "      <td>0.782496</td>\n",
              "      <td>-0.591242</td>\n",
              "      <td>-0.810812</td>\n",
              "      <td>-0.522607</td>\n",
              "      <td>-0.492687</td>\n",
              "      <td>0.526988</td>\n",
              "    </tr>\n",
              "    <tr>\n",
              "      <th>disp</th>\n",
              "      <td>-0.847551</td>\n",
              "      <td>0.902033</td>\n",
              "      <td>1.000000</td>\n",
              "      <td>0.790949</td>\n",
              "      <td>-0.710214</td>\n",
              "      <td>0.887980</td>\n",
              "      <td>-0.433698</td>\n",
              "      <td>-0.710416</td>\n",
              "      <td>-0.591227</td>\n",
              "      <td>-0.555569</td>\n",
              "      <td>0.394977</td>\n",
              "    </tr>\n",
              "    <tr>\n",
              "      <th>hp</th>\n",
              "      <td>-0.776168</td>\n",
              "      <td>0.832447</td>\n",
              "      <td>0.790949</td>\n",
              "      <td>1.000000</td>\n",
              "      <td>-0.448759</td>\n",
              "      <td>0.658748</td>\n",
              "      <td>-0.708223</td>\n",
              "      <td>-0.723097</td>\n",
              "      <td>-0.243204</td>\n",
              "      <td>-0.125704</td>\n",
              "      <td>0.749812</td>\n",
              "    </tr>\n",
              "    <tr>\n",
              "      <th>drat</th>\n",
              "      <td>0.681172</td>\n",
              "      <td>-0.699938</td>\n",
              "      <td>-0.710214</td>\n",
              "      <td>-0.448759</td>\n",
              "      <td>1.000000</td>\n",
              "      <td>-0.712441</td>\n",
              "      <td>0.091205</td>\n",
              "      <td>0.440278</td>\n",
              "      <td>0.712711</td>\n",
              "      <td>0.699610</td>\n",
              "      <td>-0.090790</td>\n",
              "    </tr>\n",
              "    <tr>\n",
              "      <th>wt</th>\n",
              "      <td>-0.867659</td>\n",
              "      <td>0.782496</td>\n",
              "      <td>0.887980</td>\n",
              "      <td>0.658748</td>\n",
              "      <td>-0.712441</td>\n",
              "      <td>1.000000</td>\n",
              "      <td>-0.174716</td>\n",
              "      <td>-0.554916</td>\n",
              "      <td>-0.692495</td>\n",
              "      <td>-0.583287</td>\n",
              "      <td>0.427606</td>\n",
              "    </tr>\n",
              "    <tr>\n",
              "      <th>qsec</th>\n",
              "      <td>0.418684</td>\n",
              "      <td>-0.591242</td>\n",
              "      <td>-0.433698</td>\n",
              "      <td>-0.708223</td>\n",
              "      <td>0.091205</td>\n",
              "      <td>-0.174716</td>\n",
              "      <td>1.000000</td>\n",
              "      <td>0.744535</td>\n",
              "      <td>-0.229861</td>\n",
              "      <td>-0.212682</td>\n",
              "      <td>-0.656249</td>\n",
              "    </tr>\n",
              "    <tr>\n",
              "      <th>vs</th>\n",
              "      <td>0.664039</td>\n",
              "      <td>-0.810812</td>\n",
              "      <td>-0.710416</td>\n",
              "      <td>-0.723097</td>\n",
              "      <td>0.440278</td>\n",
              "      <td>-0.554916</td>\n",
              "      <td>0.744535</td>\n",
              "      <td>1.000000</td>\n",
              "      <td>0.168345</td>\n",
              "      <td>0.206023</td>\n",
              "      <td>-0.569607</td>\n",
              "    </tr>\n",
              "    <tr>\n",
              "      <th>am</th>\n",
              "      <td>0.599832</td>\n",
              "      <td>-0.522607</td>\n",
              "      <td>-0.591227</td>\n",
              "      <td>-0.243204</td>\n",
              "      <td>0.712711</td>\n",
              "      <td>-0.692495</td>\n",
              "      <td>-0.229861</td>\n",
              "      <td>0.168345</td>\n",
              "      <td>1.000000</td>\n",
              "      <td>0.794059</td>\n",
              "      <td>0.057534</td>\n",
              "    </tr>\n",
              "    <tr>\n",
              "      <th>gear</th>\n",
              "      <td>0.480285</td>\n",
              "      <td>-0.492687</td>\n",
              "      <td>-0.555569</td>\n",
              "      <td>-0.125704</td>\n",
              "      <td>0.699610</td>\n",
              "      <td>-0.583287</td>\n",
              "      <td>-0.212682</td>\n",
              "      <td>0.206023</td>\n",
              "      <td>0.794059</td>\n",
              "      <td>1.000000</td>\n",
              "      <td>0.274073</td>\n",
              "    </tr>\n",
              "    <tr>\n",
              "      <th>carb</th>\n",
              "      <td>-0.550925</td>\n",
              "      <td>0.526988</td>\n",
              "      <td>0.394977</td>\n",
              "      <td>0.749812</td>\n",
              "      <td>-0.090790</td>\n",
              "      <td>0.427606</td>\n",
              "      <td>-0.656249</td>\n",
              "      <td>-0.569607</td>\n",
              "      <td>0.057534</td>\n",
              "      <td>0.274073</td>\n",
              "      <td>1.000000</td>\n",
              "    </tr>\n",
              "  </tbody>\n",
              "</table>\n",
              "</div>"
            ],
            "text/plain": [
              "           mpg       cyl      disp        hp      drat        wt      qsec  \\\n",
              "mpg   1.000000 -0.852162 -0.847551 -0.776168  0.681172 -0.867659  0.418684   \n",
              "cyl  -0.852162  1.000000  0.902033  0.832447 -0.699938  0.782496 -0.591242   \n",
              "disp -0.847551  0.902033  1.000000  0.790949 -0.710214  0.887980 -0.433698   \n",
              "hp   -0.776168  0.832447  0.790949  1.000000 -0.448759  0.658748 -0.708223   \n",
              "drat  0.681172 -0.699938 -0.710214 -0.448759  1.000000 -0.712441  0.091205   \n",
              "wt   -0.867659  0.782496  0.887980  0.658748 -0.712441  1.000000 -0.174716   \n",
              "qsec  0.418684 -0.591242 -0.433698 -0.708223  0.091205 -0.174716  1.000000   \n",
              "vs    0.664039 -0.810812 -0.710416 -0.723097  0.440278 -0.554916  0.744535   \n",
              "am    0.599832 -0.522607 -0.591227 -0.243204  0.712711 -0.692495 -0.229861   \n",
              "gear  0.480285 -0.492687 -0.555569 -0.125704  0.699610 -0.583287 -0.212682   \n",
              "carb -0.550925  0.526988  0.394977  0.749812 -0.090790  0.427606 -0.656249   \n",
              "\n",
              "            vs        am      gear      carb  \n",
              "mpg   0.664039  0.599832  0.480285 -0.550925  \n",
              "cyl  -0.810812 -0.522607 -0.492687  0.526988  \n",
              "disp -0.710416 -0.591227 -0.555569  0.394977  \n",
              "hp   -0.723097 -0.243204 -0.125704  0.749812  \n",
              "drat  0.440278  0.712711  0.699610 -0.090790  \n",
              "wt   -0.554916 -0.692495 -0.583287  0.427606  \n",
              "qsec  0.744535 -0.229861 -0.212682 -0.656249  \n",
              "vs    1.000000  0.168345  0.206023 -0.569607  \n",
              "am    0.168345  1.000000  0.794059  0.057534  \n",
              "gear  0.206023  0.794059  1.000000  0.274073  \n",
              "carb -0.569607  0.057534  0.274073  1.000000  "
            ]
          },
          "metadata": {
            "tags": []
          },
          "execution_count": 12
        }
      ]
    },
    {
      "metadata": {
        "id": "0B91Y9n09v9d",
        "colab_type": "code",
        "colab": {
          "autoexec": {
            "startup": false,
            "wait_interval": 0
          },
          "output_extras": [
            {
              "item_id": 1
            }
          ],
          "base_uri": "https://localhost:8080/",
          "height": 56
        },
        "outputId": "1b16c52e-a282-43a1-ae5e-90be45ca82c9",
        "executionInfo": {
          "status": "ok",
          "timestamp": 1515034302548,
          "user_tz": 300,
          "elapsed": 625,
          "user": {
            "displayName": "Baruch Tabanpour",
            "photoUrl": "//lh3.googleusercontent.com/-QdGwhAZwzFk/AAAAAAAAAAI/AAAAAAAAB3k/YuLNs6IqnJA/s50-c-k-no/photo.jpg",
            "userId": "117368641394038196827"
          }
        }
      },
      "cell_type": "code",
      "source": [
        "mpg = mtcars['mpg']\n",
        "cyl = mtcars['cyl']\n",
        "\n",
        "cov_mc = np.mean((mpg - np.mean(mpg))* (cyl - np.mean(cyl)))\n",
        "cov_mc/(np.std(mtcars['mpg']) * np.std(mtcars['cyl']))"
      ],
      "execution_count": 13,
      "outputs": [
        {
          "output_type": "execute_result",
          "data": {
            "text/plain": [
              "-0.85216195942661332"
            ]
          },
          "metadata": {
            "tags": []
          },
          "execution_count": 13
        }
      ]
    },
    {
      "metadata": {
        "id": "fxNNKfUWDxxX",
        "colab_type": "text"
      },
      "cell_type": "markdown",
      "source": [
        "### Sampling\n",
        "\n",
        "#### Point Estimates and Sampling\n",
        "\n",
        "TLDR:\n",
        "\n",
        "- Population statistics are for an entire dataset. You don't really need anything fancy since you have the whole dataset already!\n",
        "- Sample statistics are for a sample of the population. You need fancy statistics since you need to adjust for bias from sampling in order to reflect statistics of the entire population.\n",
        "\n",
        "The sample mean is an unbiased estimator of the population mean. Let's get samples from a population with a population mean $\\mu$. Our samples are $X_1, X_2, ... , X_n$ and the sample mean is $E[X] = \\bar{X}$. The expectation of our sample mean, if we were to sample many times from the population, is $E[\\bar{X}] = \\mu$. See the derivation [here](https://onlinecourses.science.psu.edu/stat414/node/167).\n",
        "\n",
        "Let's make some fake data below, and see that re-sampling many samples from a population and taking the sample mean gives us an unbiased estimator of the population mean.\n",
        "\n"
      ]
    },
    {
      "metadata": {
        "id": "LMGQEugREHfi",
        "colab_type": "code",
        "colab": {
          "autoexec": {
            "startup": false,
            "wait_interval": 0
          },
          "output_extras": [
            {
              "item_id": 1
            }
          ],
          "base_uri": "https://localhost:8080/",
          "height": 87
        },
        "outputId": "de07b74e-4405-443b-cd3a-97fff67dfc17",
        "executionInfo": {
          "status": "ok",
          "timestamp": 1515035575657,
          "user_tz": 300,
          "elapsed": 760,
          "user": {
            "displayName": "Baruch Tabanpour",
            "photoUrl": "//lh3.googleusercontent.com/-QdGwhAZwzFk/AAAAAAAAAAI/AAAAAAAAB3k/YuLNs6IqnJA/s50-c-k-no/photo.jpg",
            "userId": "117368641394038196827"
          }
        }
      },
      "cell_type": "code",
      "source": [
        "np.random.seed(3)\n",
        "\n",
        "mu = 10\n",
        "sigma = 3\n",
        "sample_size = 8\n",
        "population_size = 50000\n",
        "population = np.random.normal(mu, sigma, size=population_size)\n",
        "sample_means = []\n",
        "\n",
        "for _ in range(10000):\n",
        "  sample = population[np.random.randint(0, len(population), sample_size)]\n",
        "  sample_means.append(np.mean(sample))\n",
        "  \n",
        "\n",
        "print('Mean of sample means is', np.mean(sample_means), 'and the true mean is', mu)\n",
        "print('Standard deviation of sample means is ', np.std(sample_means))\n",
        "print('Theoretical standard deviation of sample means is', np.sqrt(sigma**2 / sample_size))\n"
      ],
      "execution_count": 51,
      "outputs": [
        {
          "output_type": "stream",
          "text": [
            "Mean of sample means is 9.9933643506 and the true mean is 10\n",
            "Standard deviation of sample means is  1.05264195357\n",
            "Theoretical standard deviation of sample means is 1.06066017178\n"
          ],
          "name": "stdout"
        }
      ]
    },
    {
      "metadata": {
        "id": "HgvNxzvrCtik",
        "colab_type": "text"
      },
      "cell_type": "markdown",
      "source": [
        "In the example above, we calculate the variance around our sample mean $\\bar{X}$, which seems quite high at 1.053. This is because the variance around our sample mean depends on the sample size (i.e. if we sampled the whole population, the variance around our sample mean would be 0, since the sample mean would equal the population mean). We can calculate the variance around our sample mean as such:\n",
        "\n",
        "$$\n",
        "\\begin{aligned}\n",
        "Var(\\bar{X}) &= Var(\\frac{X_1 + X_2 + ... + X_n}{n}) \\\\\n",
        "&= Var(\\frac{X_1}{n} + \\frac{X_2}{n} +... + \\frac{X_n}{n})\\\\\n",
        "&= \\frac{Var(X_1)}{n^2} + \\frac{Var(X_2)}{n^2} +... + \\frac{Var(X_n)}{n^2}\\\\\n",
        "&= \\frac{1}{n^2} [\\sigma^2] n\\\\\n",
        "&= \\frac{\\sigma^2}{n}\n",
        "\\end{aligned}\n",
        "$$\n",
        "\n",
        "We validated this formula in the example above. In summary, the variance of our sample mean is $Var(\\bar{X}) = \\frac{\\sigma^2}{n}$.\n",
        "\n",
        "\n",
        "\n",
        "What if we now take standard deviations of our samples to estimate the population standard deviation? Is it unbiased?\n",
        "\n"
      ]
    },
    {
      "metadata": {
        "id": "1qmklwozKTcG",
        "colab_type": "code",
        "colab": {
          "autoexec": {
            "startup": false,
            "wait_interval": 0
          },
          "output_extras": [
            {
              "item_id": 1
            }
          ],
          "base_uri": "https://localhost:8080/",
          "height": 51
        },
        "outputId": "73573118-4c62-424c-fad7-6c4cb916b9e9",
        "executionInfo": {
          "status": "ok",
          "timestamp": 1519014899957,
          "user_tz": 300,
          "elapsed": 1440,
          "user": {
            "displayName": "Baruch Tabanpour",
            "photoUrl": "//lh3.googleusercontent.com/-QdGwhAZwzFk/AAAAAAAAAAI/AAAAAAAAB3k/YuLNs6IqnJA/s50-c-k-no/photo.jpg",
            "userId": "117368641394038196827"
          }
        }
      },
      "cell_type": "code",
      "source": [
        "np.random.seed(3)\n",
        "\n",
        "mu = 10\n",
        "sigma = 3\n",
        "sample_size = 15\n",
        "population_size = 50000\n",
        "population = np.random.normal(mu, sigma, size=population_size)\n",
        "sample_stds = []\n",
        "unbiased_sample_stds = []\n",
        "\n",
        "for _ in range(10000):\n",
        "  sample = population[np.random.randint(0, len(population), sample_size)]\n",
        "  sample_stds.append(np.std(sample))\n",
        "  unbiased_sample_stds.append(np.std(sample, ddof=1)**2)\n",
        "  \n",
        "\n",
        "print('Mean of sample stds is', np.mean(sample_stds), 'and the true std is', sigma)\n",
        "print('Mean of unbiased sample stds is', np.sqrt(np.mean(unbiased_sample_stds)))\n"
      ],
      "execution_count": 6,
      "outputs": [
        {
          "output_type": "stream",
          "text": [
            "Mean of sample stds is 2.8458362328361426 and the true std is 3\n",
            "Mean of unbiased sample stds is 2.9987127401285933\n"
          ],
          "name": "stdout"
        }
      ]
    },
    {
      "metadata": {
        "id": "T2v_K9wLK8G3",
        "colab_type": "text"
      },
      "cell_type": "markdown",
      "source": [
        "We see in the example above that sample standard deviations are very far from the true standard deviation! \n",
        "\n",
        "This is because standard deviation is a biased estimator of the population standard deviation. An unbiased estimator of the population standard deviation is the **sample standard deviation**:\n",
        "\n",
        "$$s_N = \\sqrt{\\frac{1}{N - 1} \\sum_{i=1}^{N} (x_i - \\bar{x})^2}$$\n",
        "\n",
        "See [Bessel's correction](https://en.wikipedia.org/wiki/Bessel%27s_correction) for a derivation.\n",
        "\n",
        "\n"
      ]
    },
    {
      "metadata": {
        "id": "g0CrEP6tszQv",
        "colab_type": "text"
      },
      "cell_type": "markdown",
      "source": [
        "#### Confidence Intervals Around Sample Mean\n",
        "\n",
        "TLDR: You should add a margin of error to your point estimate to create a \"confidence interval.\"\n",
        "\n",
        "##### Known Population Standard Deviation\n",
        "\n",
        "We saw above that the standard deviation of a sample mean scales as $\\frac{\\sigma}{\\sqrt{n}}$. If we assume that the sample means are normally distributed (i.e. $\\frac{\\bar{x} - \\mu}{\\frac{\\sigma}{\\sqrt(n)}} \\sim N(0,1)$, which is a reasonable assumption for large $n$ due to the Central Limit Theorem), we can calculate our confidence interval as $z * \\frac{\\sigma}{\\sqrt{n}}$\n",
        "\n",
        "where $z$ ($z$-critical value) is the number of standard deviations you would have to go from the mean to capture the proportion of data equal to your confidence interval. $\\sigma$ is of the population, and $n$ is your sample size.\n",
        "\n",
        "Let's get a 95% confidence interval for the mean sample age point estimate:\n"
      ]
    },
    {
      "metadata": {
        "id": "5qMoH5aHIznm",
        "colab_type": "code",
        "colab": {
          "autoexec": {
            "startup": false,
            "wait_interval": 0
          },
          "output_extras": [
            {
              "item_id": 1
            }
          ],
          "base_uri": "https://localhost:8080/",
          "height": 85
        },
        "outputId": "5a149301-8283-4d05-8c44-c0851f2f757e",
        "executionInfo": {
          "status": "ok",
          "timestamp": 1519014904124,
          "user_tz": 300,
          "elapsed": 551,
          "user": {
            "displayName": "Baruch Tabanpour",
            "photoUrl": "//lh3.googleusercontent.com/-QdGwhAZwzFk/AAAAAAAAAAI/AAAAAAAAB3k/YuLNs6IqnJA/s50-c-k-no/photo.jpg",
            "userId": "117368641394038196827"
          }
        }
      },
      "cell_type": "code",
      "source": [
        "#create population\n",
        "population1 = stats.poisson.rvs(mu=35, size=50000)\n",
        "population2 = stats.poisson.rvs(mu=35, size=100000)\n",
        "population = np.concatenate((population1, population2))\n",
        "print('actual population mean', population.mean())\n",
        "\n",
        "\n",
        "np.random.seed(5)\n",
        "sample_size = 500\n",
        "sample_ages = np.random.choice(a=population, size=sample_size)\n",
        "sample_mean = sample_ages.mean()\n",
        "print('sample mean', sample_mean)\n",
        "\n",
        "# 2 tailed distribution, so to get a 95% confidence interval, we need to use 97.5%\n",
        "\n",
        "z = stats.norm.ppf(q=.975)\n",
        "moe = z * (population.std() / math.sqrt(sample_size))\n",
        "print('margin of error', moe)\n",
        "print('95th% confidence interval:', (sample_mean - moe, sample_mean + moe))\n"
      ],
      "execution_count": 7,
      "outputs": [
        {
          "output_type": "stream",
          "text": [
            "actual population mean 35.006366666666665\n",
            "sample mean 34.834\n",
            "margin of error 0.5186390573204052\n",
            "95th% confidence interval: (34.3153609426796, 35.35263905732041)\n"
          ],
          "name": "stdout"
        }
      ]
    },
    {
      "metadata": {
        "id": "LvfGbr0BTCVK",
        "colab_type": "text"
      },
      "cell_type": "markdown",
      "source": [
        "In this case, the actual mean lies within the confidence interval. If we sampled the population $m$ times with the same confidence level of 95%, we should expect the actual mean to fall outside of the confidence interval of the sample mean 5% of the time."
      ]
    },
    {
      "metadata": {
        "id": "_i2qfhZKUXuf",
        "colab_type": "text"
      },
      "cell_type": "markdown",
      "source": [
        "----\n",
        "\n",
        "##### Uknown Population Standard Deviation\n",
        "\n",
        "https://onlinecourses.science.psu.edu/stat414/node/199\n",
        "\n",
        "*If you **don't** know $\\sigma$ of the population*, you can replace the population standard deviation $\\sigma$ with the unbiased sample standard deviation $s$ to estimate your confidence interval around the sample mean. Previously we assumed that $\\frac{X - \\mu}{\\frac{\\sigma}{\\sqrt(n)}} \\sim N(0,1)$, to get our confidence intervals. Now we have $\\frac{X - \\mu}{\\frac{s}{\\sqrt(n)}}$ instead, which turns out to follow the [T-distribution](https://en.wikipedia.org/wiki/Student%27s_t-distribution).\n",
        "\n",
        "So we can use the $t$-critical value to create our confidence interval around the sample mean. The $t$ value is drawn from the $t$-distribution. The $t$-distribution is symmetric and bell-shaped like the normal distribution but has heavier tails (wider, so more likely to produce values that fall far from it's mean).\n",
        "\n",
        "\n",
        "In the example below, we show how to use the t-distribution to get a confidence interval around a sample mean with unknown $\\sigma$ of the population."
      ]
    },
    {
      "metadata": {
        "id": "tzpNk3WXURhT",
        "colab_type": "code",
        "colab": {
          "autoexec": {
            "startup": false,
            "wait_interval": 0
          }
        }
      },
      "cell_type": "code",
      "source": [
        "sample_size = 50\n",
        "sample_ages = np.random.choice(a=population, size=sample_size)\n",
        "sample_mean = sample_ages.mean()"
      ],
      "execution_count": 0,
      "outputs": []
    },
    {
      "metadata": {
        "id": "6DSRoyujqRcQ",
        "colab_type": "code",
        "colab": {
          "autoexec": {
            "startup": false,
            "wait_interval": 0
          },
          "output_extras": [
            {
              "item_id": 1
            }
          ],
          "base_uri": "https://localhost:8080/",
          "height": 68
        },
        "outputId": "e6a2bece-c157-489c-c1b5-876b5b7550bb",
        "executionInfo": {
          "status": "ok",
          "timestamp": 1519020445865,
          "user_tz": 300,
          "elapsed": 578,
          "user": {
            "displayName": "Baruch Tabanpour",
            "photoUrl": "//lh3.googleusercontent.com/-QdGwhAZwzFk/AAAAAAAAAAI/AAAAAAAAB3k/YuLNs6IqnJA/s50-c-k-no/photo.jpg",
            "userId": "117368641394038196827"
          }
        }
      },
      "cell_type": "code",
      "source": [
        "# actually, we are getting t for q = .975 and q = .025\n",
        "# we are actually doing mu + moe(q=0.025) and mu + moe (q=0.975)\n",
        "t = stats.t.ppf(q=.975, df=sample_size - 1)\n",
        "sample_stdev = np.std(sample_ages, ddof=1)\n",
        "moe_t = t * (sample_stdev / math.sqrt(sample_size))\n",
        "\n",
        "print('margin of error with t value', moe_t)\n",
        "print('confidence interval:', (sample_mean - moe_t, sample_mean + moe_t))\n",
        "print('population mean', population.mean())"
      ],
      "execution_count": 44,
      "outputs": [
        {
          "output_type": "stream",
          "text": [
            "margin of error with t value 1.840016072380871\n",
            "confidence interval: (33.11998392761913, 36.80001607238087)\n",
            "population mean 35.006366666666665\n"
          ],
          "name": "stdout"
        }
      ]
    },
    {
      "metadata": {
        "id": "SXVSXgEeZyFd",
        "colab_type": "text"
      },
      "cell_type": "markdown",
      "source": [
        "*As sample size increases, the t-distribution approaches the normal distribution."
      ]
    },
    {
      "metadata": {
        "id": "Q5x0EffcqIOU",
        "colab_type": "text"
      },
      "cell_type": "markdown",
      "source": [
        "----\n",
        "\n",
        "##### Examples\n",
        "\n",
        "How do you know how many samples to take to estimate a sample mean?\n",
        "\n",
        "Let's look at an example: let's say I know the standard deviation of some true population statistic to be 1, how many samples do I need so that I'm 95% sure my sample mean is within 0.1 of the actual mean?\n"
      ]
    },
    {
      "metadata": {
        "id": "ntNrFF7VA5r0",
        "colab_type": "code",
        "colab": {
          "autoexec": {
            "startup": false,
            "wait_interval": 0
          },
          "output_extras": [
            {
              "item_id": 1
            }
          ],
          "base_uri": "https://localhost:8080/",
          "height": 34
        },
        "outputId": "3483c327-ff4a-430b-9308-ff4995a29161",
        "executionInfo": {
          "status": "ok",
          "timestamp": 1519022318570,
          "user_tz": 300,
          "elapsed": 1274,
          "user": {
            "displayName": "Baruch Tabanpour",
            "photoUrl": "//lh3.googleusercontent.com/-QdGwhAZwzFk/AAAAAAAAAAI/AAAAAAAAB3k/YuLNs6IqnJA/s50-c-k-no/photo.jpg",
            "userId": "117368641394038196827"
          }
        }
      },
      "cell_type": "code",
      "source": [
        "# you want your confidence interval to be within .1 unit of the actual mean\n",
        "moe = 0.1\n",
        "# for 95% confidence interval:\n",
        "z = stats.norm.ppf(q=.975)\n",
        "\n",
        "# moe = z * (sigma/sqrt(n))\n",
        "# so, n = (z * sigma / moe)^2\n",
        "sigma = 1\n",
        "\n",
        "print('The number of samples would be ', ((z * sigma) / moe) ** 2)"
      ],
      "execution_count": 48,
      "outputs": [
        {
          "output_type": "stream",
          "text": [
            "The number of samples would be  384.14588206941244\n"
          ],
          "name": "stdout"
        }
      ]
    },
    {
      "metadata": {
        "id": "zIRI_7CmPTPu",
        "colab_type": "code",
        "colab": {
          "autoexec": {
            "startup": false,
            "wait_interval": 0
          },
          "output_extras": [
            {
              "item_id": 1
            }
          ],
          "base_uri": "https://localhost:8080/",
          "height": 51
        },
        "outputId": "57418593-e977-44f1-e531-eb6635b80716",
        "executionInfo": {
          "status": "ok",
          "timestamp": 1519022319910,
          "user_tz": 300,
          "elapsed": 765,
          "user": {
            "displayName": "Baruch Tabanpour",
            "photoUrl": "//lh3.googleusercontent.com/-QdGwhAZwzFk/AAAAAAAAAAI/AAAAAAAAB3k/YuLNs6IqnJA/s50-c-k-no/photo.jpg",
            "userId": "117368641394038196827"
          }
        }
      },
      "cell_type": "code",
      "source": [
        "# Let's show that this sample size gives us the correct confidence interval\n",
        "mu = 2\n",
        "sigma = 1\n",
        "sample_size = 384\n",
        "population = np.random.normal(mu, sigma, 5000)\n",
        "\n",
        "sample_mean = []\n",
        "for _ in range(10000):\n",
        "  sample = population[np.random.randint(0, len(population), sample_size)]\n",
        "  sample_mean.append(np.mean(sample))\n",
        "\n",
        "print('Sampled 95% confidence interval', np.percentile(sample_mean, 2.5), np.percentile(sample_mean, 97.5))\n",
        "print('Sample mean is: ', np.mean(sample_mean))"
      ],
      "execution_count": 49,
      "outputs": [
        {
          "output_type": "stream",
          "text": [
            "Sampled 95% confidence interval 1.89703332080055 2.0990285951801337\n",
            "Sample mean is:  1.9972105309953014\n"
          ],
          "name": "stdout"
        }
      ]
    },
    {
      "metadata": {
        "id": "eHAKID-ROKsr",
        "colab_type": "text"
      },
      "cell_type": "markdown",
      "source": [
        "#### Bootstrapping Point Estimates with Confidence Intervals\n",
        "\n",
        "https://ocw.mit.edu/courses/mathematics/18-05-introduction-to-probability-and-statistics-spring-2014/readings/MIT18_05S14_Reading24.pdf"
      ]
    },
    {
      "metadata": {
        "id": "6hf3reOnfEaE",
        "colab_type": "text"
      },
      "cell_type": "markdown",
      "source": [
        "TLDR: If our data is drawn from some unknown distribution $F$ with unknown mean $\\mu$, and we use a sample mean $\\bar{x}$ as a point estimate of $\\mu$, we can use the ***empirical bootstrap*** to find a confidence interval around $\\bar{x}$.\n",
        "\n",
        "**Resampling**:\n",
        "Label your data, $x_1,x_2,...x_n$ by drawing a number j from the uniform distribution on {$1, 2, ..., n$}, and take $x_j$ as your resampled value. We sample with replacement.\n",
        "\n",
        "**Bootstrap Setup:**\n",
        "1. $x_1,x_2...x_n$ is a data sample from distribution $F$\n",
        "2. $u$ is a statistic computed from this sample\n",
        "3. $F^*$ is the resampling distribution\n",
        "4. $x_1^*,x_2^*...x_n^*$ is the resampled data. (Think of this as a sample size $n$ being drawn from $F^*$)\n",
        "5. $u*$ is the statistic computed from the resample.\n",
        "\n",
        "**The bootstrap principle says:**\n",
        "1. $F^* \\approx F $\n",
        "2. The variation of $u$ is well approximated by the variation of $u^*$\n",
        "\n",
        "We use step 2 of the bootstrap principle to estimate the size of the confidence intervals. See the link above for a justification.\n",
        "\n",
        "**Example**: Sampled data is $[30, 37, 36, 43, 42, 43, 43, 46, 41, 42]$. Estimate the mean $\\mu$ of the underlying distribution and give an 80% bootstrap confidence interval.\n",
        "\n",
        "Sample mean $\\bar{x}=40.3$. We want to know the distribution of $\\delta = \\bar{x} - \\mu$ which we can approximate using $\\delta^* = \\bar{x}^* - \\bar{x}$, where $\\bar{x}^*$ is the mean of an emperical bootstrap sample.\n"
      ]
    },
    {
      "metadata": {
        "id": "ROhV1P0fdEzM",
        "colab_type": "code",
        "colab": {
          "autoexec": {
            "startup": false,
            "wait_interval": 0
          }
        }
      },
      "cell_type": "code",
      "source": [
        "# 1. Perform resampling:\n",
        "sample_data = np.array([30,37,36,43,42,43,43,46,41,42])\n",
        "x_bar = np.mean(sample_data)\n",
        "\n",
        "# Let's perform 100 bootstrap samples\n",
        "bootstrap_samples_n = 100\n",
        "bootstrapped_x_bars = []\n",
        "for n in range(bootstrap_samples_n):\n",
        "  resample_idx = np.random.randint(0, len(sample_data), len(sample_data))\n",
        "  bootstrapped_x_bars.append(np.mean(sample_data[resample_idx]))\n",
        "\n",
        "bootstrapped_x_bars = np.sort(bootstrapped_x_bars)\n",
        "delta_star = bootstrapped_x_bars - x_bar"
      ],
      "execution_count": 0,
      "outputs": []
    },
    {
      "metadata": {
        "id": "615CFoxK1qe6",
        "colab_type": "code",
        "colab": {
          "autoexec": {
            "startup": false,
            "wait_interval": 0
          },
          "output_extras": [
            {
              "item_id": 1
            }
          ],
          "base_uri": "https://localhost:8080/",
          "height": 34
        },
        "outputId": "93bbcc16-9864-4186-bab7-46b91c493511",
        "executionInfo": {
          "status": "ok",
          "timestamp": 1516047564781,
          "user_tz": 300,
          "elapsed": 305,
          "user": {
            "displayName": "Baruch Tabanpour",
            "photoUrl": "//lh3.googleusercontent.com/-QdGwhAZwzFk/AAAAAAAAAAI/AAAAAAAAB3k/YuLNs6IqnJA/s50-c-k-no/photo.jpg",
            "userId": "117368641394038196827"
          }
        }
      },
      "cell_type": "code",
      "source": [
        "# 2. Now we can get the 80th percentile of delta_star distribution\n",
        "lower_bound_int = delta_star[int(bootstrap_samples_n * .1) - 1]\n",
        "upper_bound_int = delta_star[int(bootstrap_samples_n * .9) - 1]\n",
        "print('confidence interval is: ', [x_bar + lower_bound_int, \n",
        "                                   x_bar + upper_bound_int])"
      ],
      "execution_count": 11,
      "outputs": [
        {
          "output_type": "stream",
          "text": [
            "confidence interval is:  [1.5612398911159096, 1.9277749920844274]\n"
          ],
          "name": "stdout"
        }
      ]
    },
    {
      "metadata": {
        "id": "41MT-6rp7x3r",
        "colab_type": "text"
      },
      "cell_type": "markdown",
      "source": [
        "$*$ By the law of large numbers, we could increase the number of bootstrap samples to get a more and more accurate estimate.\n",
        "\n",
        "- The bootstrap is based on the law of large numbers, which says that with enough data, the empirical distribution will be a good approximation of the true distribution.\n",
        "\n",
        "- Resampling doesn't improve our point estimate.\n",
        "\n",
        "- The distribution of $\\delta = \\bar{x} - \\mu$ describes the variation of $\\bar{x}$ about its center, and distribution of $\\delta^* = \\bar{x}^* - \\bar{x}$ describes the variation of $\\bar{x}^*$ about its center. So, even if the centers $x$ and $\\mu$ are different, the variations of the two centers can be approximately equal.\n",
        "\n",
        "\n"
      ]
    },
    {
      "metadata": {
        "id": "bVmr7tUmsZRC",
        "colab_type": "text"
      },
      "cell_type": "markdown",
      "source": [
        "#### Stratified Sampling\n",
        "\n",
        "This is a sampling method where the population is divided into separate groups (strata) so that each strata is a good representation of that strata in the whole population. \n",
        "- In proportion allocation, each sampled strata has equal proportions to that of the strata in the total population.\n"
      ]
    },
    {
      "metadata": {
        "id": "UBvhJ1OsNwbN",
        "colab_type": "text"
      },
      "cell_type": "markdown",
      "source": [
        "#### Rejection Sampling\n",
        "\n",
        "#### Importance Sampling"
      ]
    },
    {
      "metadata": {
        "id": "lICCZ5X4Nl3u",
        "colab_type": "text"
      },
      "cell_type": "markdown",
      "source": [
        "#### Reservoir Sampling\n",
        "\n",
        "- https://en.wikipedia.org/wiki/Reservoir_sampling\n",
        "- https://gregable.com/2007/10/reservoir-sampling.html\n",
        "\n",
        "TLDR: A way to sample streaming data uniformly without wasting memory.\n",
        "\n",
        "For example, if I have a twitter stream, how do I sample 100 tweets uniformly, if I only have enough storage for 100 tweets?\n",
        "\n",
        "First, we fill our reservoir (that holds only 100 tweets) with the first 100 tweets. Next, we'll want to process the 101th, 102nd,... nth tweet such that after processing, the 100 elements in the reservoir are randomly sampled amongst all the tweets we've seen so far.\n",
        "\n",
        "*Solution:*\n",
        "- When the 101st item arrives, we need the probability of keeping any element we've seen so far to be $\\frac{100}{101}$. That means that we need to get rid of the 101st element with probability $\\frac{1}{101} = 1 - \\frac{1}{101}$.\n",
        "- We also need the probabilty of getting rid of any item in the reservoir to be $\\frac{1}{101}$, which can be done with:\n",
        "\n",
        "P(101th element getting selected) * P(element in reservoir getting chosen as replacement) $$ = \\frac{100}{101}*\\frac{1}{100}= \\frac{1}{101}$$\n",
        "\n",
        "\n",
        "That means that:\n",
        "\n",
        "- For the ith round, the probability we keep the ith item coming in is $\\frac{100}{i}$. The probability any element will be removed from the reservoir in that round is $\\frac{1}{i}$, and the probability we will keep any item is $\\frac{100}{i}$."
      ]
    },
    {
      "metadata": {
        "id": "j2uaq_IVgld7",
        "colab_type": "code",
        "colab": {
          "autoexec": {
            "startup": false,
            "wait_interval": 0
          }
        }
      },
      "cell_type": "code",
      "source": [
        "from collections import Counter\n",
        "import numpy as np"
      ],
      "execution_count": 0,
      "outputs": []
    },
    {
      "metadata": {
        "id": "g_BybwU2PviM",
        "colab_type": "code",
        "colab": {
          "autoexec": {
            "startup": false,
            "wait_interval": 0
          }
        }
      },
      "cell_type": "code",
      "source": [
        "def reservoir_alg(res_capacity=10, stream_size=100):\n",
        "  # For this example, let's say the reservoir is already filled to capacity\n",
        "  reservoir = []\n",
        "  for i in range(1, stream_size):\n",
        "    if i <= res_capacity:\n",
        "      reservoir.append(i)\n",
        "    else:\n",
        "      # Do reservoir sampling:\n",
        "      j = np.random.randint(1, i + 1)\n",
        "      if j <= res_capacity:\n",
        "        # remove j element and replace with i\n",
        "        reservoir[j - 1] = i\n",
        "  return reservoir"
      ],
      "execution_count": 0,
      "outputs": []
    },
    {
      "metadata": {
        "id": "ZclndNanlmNf",
        "colab_type": "code",
        "colab": {
          "autoexec": {
            "startup": false,
            "wait_interval": 0
          }
        }
      },
      "cell_type": "code",
      "source": [
        "# Now let's run this 10,000 times and see if we get uniform distribution\n",
        "# over the 100 items we see in total\n",
        "counts = Counter()\n",
        "num_sim = 10000\n",
        "for i in range(num_sim):\n",
        "  reservoir = reservoir_alg()\n",
        "  counts.update(reservoir)\n",
        "\n",
        "# We expect the counter to show that each number in stream_size\n",
        "# has an equal probability of occuring:\n",
        "probs = {x:counts[x] / num_sim for x in counts}"
      ],
      "execution_count": 0,
      "outputs": []
    },
    {
      "metadata": {
        "id": "bpWr2ni-n_BU",
        "colab_type": "code",
        "colab": {
          "autoexec": {
            "startup": false,
            "wait_interval": 0
          },
          "output_extras": [
            {
              "item_id": 1
            }
          ],
          "base_uri": "https://localhost:8080/",
          "height": 1700
        },
        "collapsed": true,
        "outputId": "03cd0e73-d776-4ae8-a339-716b4999d175",
        "executionInfo": {
          "status": "ok",
          "timestamp": 1516048506592,
          "user_tz": 300,
          "elapsed": 493,
          "user": {
            "displayName": "Baruch Tabanpour",
            "photoUrl": "//lh3.googleusercontent.com/-QdGwhAZwzFk/AAAAAAAAAAI/AAAAAAAAB3k/YuLNs6IqnJA/s50-c-k-no/photo.jpg",
            "userId": "117368641394038196827"
          }
        }
      },
      "cell_type": "code",
      "source": [
        "# Indeed we see that each has a ~1/stream_size probability of occuring!\n",
        "probs"
      ],
      "execution_count": 16,
      "outputs": [
        {
          "output_type": "execute_result",
          "data": {
            "text/plain": [
              "{1: 0.0985,\n",
              " 2: 0.1017,\n",
              " 3: 0.1012,\n",
              " 4: 0.0975,\n",
              " 5: 0.0997,\n",
              " 6: 0.0992,\n",
              " 7: 0.0975,\n",
              " 8: 0.1009,\n",
              " 9: 0.1061,\n",
              " 10: 0.1024,\n",
              " 11: 0.102,\n",
              " 12: 0.0988,\n",
              " 13: 0.1007,\n",
              " 14: 0.1024,\n",
              " 15: 0.103,\n",
              " 16: 0.1027,\n",
              " 17: 0.1003,\n",
              " 18: 0.1006,\n",
              " 19: 0.103,\n",
              " 20: 0.102,\n",
              " 21: 0.0981,\n",
              " 22: 0.1021,\n",
              " 23: 0.1002,\n",
              " 24: 0.0986,\n",
              " 25: 0.1028,\n",
              " 26: 0.099,\n",
              " 27: 0.1024,\n",
              " 28: 0.0993,\n",
              " 29: 0.1033,\n",
              " 30: 0.1034,\n",
              " 31: 0.1022,\n",
              " 32: 0.1046,\n",
              " 33: 0.0978,\n",
              " 34: 0.0984,\n",
              " 35: 0.0989,\n",
              " 36: 0.1007,\n",
              " 37: 0.1058,\n",
              " 38: 0.1017,\n",
              " 39: 0.1053,\n",
              " 40: 0.1038,\n",
              " 41: 0.1006,\n",
              " 42: 0.1054,\n",
              " 43: 0.0988,\n",
              " 44: 0.1046,\n",
              " 45: 0.0943,\n",
              " 46: 0.1009,\n",
              " 47: 0.097,\n",
              " 48: 0.1018,\n",
              " 49: 0.1036,\n",
              " 50: 0.0921,\n",
              " 51: 0.1003,\n",
              " 52: 0.0996,\n",
              " 53: 0.1056,\n",
              " 54: 0.0998,\n",
              " 55: 0.1004,\n",
              " 56: 0.0988,\n",
              " 57: 0.0993,\n",
              " 58: 0.0999,\n",
              " 59: 0.1032,\n",
              " 60: 0.1016,\n",
              " 61: 0.0987,\n",
              " 62: 0.1019,\n",
              " 63: 0.1037,\n",
              " 64: 0.1012,\n",
              " 65: 0.1003,\n",
              " 66: 0.1022,\n",
              " 67: 0.0975,\n",
              " 68: 0.1002,\n",
              " 69: 0.0975,\n",
              " 70: 0.1003,\n",
              " 71: 0.1025,\n",
              " 72: 0.1076,\n",
              " 73: 0.105,\n",
              " 74: 0.1019,\n",
              " 75: 0.0987,\n",
              " 76: 0.0976,\n",
              " 77: 0.1014,\n",
              " 78: 0.1013,\n",
              " 79: 0.1013,\n",
              " 80: 0.1002,\n",
              " 81: 0.0984,\n",
              " 82: 0.1036,\n",
              " 83: 0.108,\n",
              " 84: 0.0994,\n",
              " 85: 0.0992,\n",
              " 86: 0.1011,\n",
              " 87: 0.1027,\n",
              " 88: 0.0966,\n",
              " 89: 0.0962,\n",
              " 90: 0.0976,\n",
              " 91: 0.0982,\n",
              " 92: 0.102,\n",
              " 93: 0.1024,\n",
              " 94: 0.1053,\n",
              " 95: 0.1021,\n",
              " 96: 0.1035,\n",
              " 97: 0.1026,\n",
              " 98: 0.1063,\n",
              " 99: 0.0976}"
            ]
          },
          "metadata": {
            "tags": []
          },
          "execution_count": 16
        }
      ]
    },
    {
      "metadata": {
        "id": "NcHcs8-mofBf",
        "colab_type": "text"
      },
      "cell_type": "markdown",
      "source": [
        "\n",
        "## Significance Testing:\n",
        "\n",
        "https://ocw.mit.edu/courses/mathematics/18-05-introduction-to-probability-and-statistics-spring-2014/readings/MIT18_05S14_Reading18.pdf\n",
        "\n",
        "TLDR: Signficance Testing helps us test if data we collect matches some hypothesis about the data.\n",
        "\n",
        "In other words, Significance Testing helps us test if our data is in the region we expect under some default assumption called the Null Hypothesis (or Null Distribution). If the data is significantly outside the Null Distribution, we reject the Null Hypothesis.\n",
        "\n",
        "Terms:\n",
        "\n",
        "- $H_0$ Null Hypothesis: default assumption. This is usually a Hypothesis that nothing interesting is happening in the data, i.e. 'the click-through-rate (CTR) is not increasing with this new button.'\n",
        "- $H_A$ Alternative Hypothesis: This is the opposite of $H_0$, i.e. 'the CTR is increasing with this new button.' The Alternative Hypothesis is accepted if we reject the null hypothesis. \n",
        "- $X$: the test statistic, which we compute from the data\n",
        "- Null Distribution: Probability distribution of our data assuming $H_0$ is true\n",
        "- Significance level $\\alpha = P$(reject $H_0$ | $H_0$ is true)\n",
        "- Power = $P$(reject $H_0$ | $H_A$ is true)\n",
        "\n",
        "\n",
        "\n",
        "\n"
      ]
    },
    {
      "metadata": {
        "id": "aPr4xZFCreGH",
        "colab_type": "text"
      },
      "cell_type": "markdown",
      "source": [
        "### How to run a significance test:\n",
        "\n",
        "1. Design the experiment (look at [AB Test Design](#abtest-design)), choose a test statistic $X$ to collect. You must also choose a null distribution, $f(x|H_0)$ and the alternative distribution $f(x|H_A)$.\n",
        "2. Decide if test is one or two-sided based on $H_A$ and the null distribution.\n",
        "  - **Two-sided Hypothesis**\n",
        "    - Two sided if you care if the test statistic is greater or less than the Null distribution. \n",
        "    - Example: Decide whether a button on a website has the same click-through-rate (CTR) compared to another button. We are testing $\\mu = \\mu_0$ where $\\mu$ is the CTR of the new button and $\\mu_0$ is of the old button.\n",
        "  - **One-sided Hypothesis**\n",
        "    - Example: You want to know if a new button has a lower or higher CTR than a new one, but not both. You either pick: \n",
        "    - $\\mu > \\mu_0$ one-sided-greater\n",
        "    - $\\mu < \\mu_0$ one-sided-less\n",
        "3. Pick a significance level $\\alpha$ for rejecting the null hypothesis.\n",
        "  - The significance level is the probability of seeing a test statistic $X$ given that the Null Hypothesis is true, and then rejecting the Null Hypothesis. For example, if we choose $\\alpha=0.05$, any test statistic with a probability of occuring less than 0.05 under the Null distribution makes us reject the Null Hypothesis.\n",
        "4. Run the experiment to collect data, $x_1, x_2, ..., x_n$\n",
        "5. Compute the test-statistic\n",
        "6. Compute the $p$-value corresponding to $X$ using the null distribution.\n",
        "  - **$p$-value**:\n",
        "    - The p-value is the probability of observing your test statistic (in step 5) under the Null Distribution.\n",
        "7. If $p<\\alpha$, reject the Null Hypothesis and accept the alternative hypothesis. Otherwise, fail to reject the Null Hypothesis."
      ]
    },
    {
      "metadata": {
        "id": "C1KKJyObjbUS",
        "colab_type": "text"
      },
      "cell_type": "markdown",
      "source": [
        "#### Type-1 Error\n",
        "\n",
        "The probability of rejecting $H_0$ when $H_0$ is in fact true. This is also called a **false positive** because we incorrectly reject $H_0$, as opposed to a true positive when we reject $H_0$ when $H_A$ is true.\n",
        "\n",
        "\n",
        "Let's say we run the same test 100 times, and the test has a significance level  of .05. If we assume the Null Hypothesis is true, we would expect to reject the Null Hypothesis 5 times. Notice that the probability of a Type-1 Error is 0.05 (5 / 100), which is equivalent to the significance level. Thus, **the significance level is equal to the probability of a type-1 error.**\n",
        "\n",
        "\n",
        "See the example below related to Type-1 error. We sample from a distribution and test the Null Hypothesis 40,000 times with a 0.05 significance level, and we show that we get 5% chance of getting a Type-1 Error."
      ]
    },
    {
      "metadata": {
        "id": "PQrfwJmrMQ3s",
        "colab_type": "code",
        "colab": {
          "autoexec": {
            "startup": false,
            "wait_interval": 0
          },
          "output_extras": [
            {
              "item_id": 1
            }
          ],
          "base_uri": "https://localhost:8080/",
          "height": 34
        },
        "outputId": "151787e4-82f0-4cf1-f144-be33d1bdc5e8",
        "executionInfo": {
          "status": "ok",
          "timestamp": 1516048886033,
          "user_tz": 300,
          "elapsed": 6709,
          "user": {
            "displayName": "Baruch Tabanpour",
            "photoUrl": "//lh3.googleusercontent.com/-QdGwhAZwzFk/AAAAAAAAAAI/AAAAAAAAB3k/YuLNs6IqnJA/s50-c-k-no/photo.jpg",
            "userId": "117368641394038196827"
          }
        }
      },
      "cell_type": "code",
      "source": [
        "# Type-1 Error Example\n",
        "null_mu = 10\n",
        "null_std = 6\n",
        "experiment_sample_size = 20\n",
        "significance_level = 0.05\n",
        "N = 40000\n",
        "# Null Hypothesis is that our sampled mu = null_mu\n",
        "\n",
        "false_positive = 0\n",
        "for _ in range(N):\n",
        "  # run 1000 experiments\n",
        "  exp = np.random.normal(loc=null_mu, scale=null_std, size=20)\n",
        "  exp_mu = np.mean(exp)\n",
        "  \n",
        "  # do a 1-Sample Z-test, we divide by std of the sample mean\n",
        "  z = (exp_mu - null_mu) / (null_std / np.sqrt(experiment_sample_size))\n",
        "  test_statistic = stats.norm.cdf(z)\n",
        "  if test_statistic < (significance_level / 2)\\\n",
        "      or test_statistic > (1 - significance_level / 2):\n",
        "    false_positive += 1\n",
        "\n",
        "print('The Type-1 Error is: ', false_positive / N)"
      ],
      "execution_count": 17,
      "outputs": [
        {
          "output_type": "stream",
          "text": [
            "The Type-1 Error is:  0.049325\n"
          ],
          "name": "stdout"
        }
      ]
    },
    {
      "metadata": {
        "id": "Sb6frI3fji2t",
        "colab_type": "text"
      },
      "cell_type": "markdown",
      "source": [
        "#### Type-2 Error\n",
        "\n",
        "The probability of accepting $H_0$ when $H_0$ is false. (i.e. **false negative**, since we should have rejected $H_0$ but didn't).\n",
        "\n",
        "\n",
        "#### Power\n",
        "![Plot of Power](https://drive.google.com/uc?id=1JUHDo7rvp6hDXINVr6zvl4ty-qgQRCL8)\n",
        "\n",
        "https://ocw.mit.edu/courses/mathematics/18-05-introduction-to-probability-and-statistics-spring-2014/readings/MIT18_05S14_Reading17b.pdf\n",
        "\n",
        "The **power** is $P$(reject $H_0$ | $H_A$), so in other words it is $1$ - $P$(type 2 error).\n",
        "\n",
        "\n",
        "The shaded red region of $f(x|H_0)$ represents the significance level, and shaded violet region under $f(x|H_A)$ represents the power. Both tests have the same significance level, but if $f(x|H_A)$ has more overlap with $f(x|H_0)$, the power is lower.\n",
        "\n",
        "If $x$ is drawn from $H_A$, under a high power test, it is very likely that it will be in the rejection region.\n",
        "\n",
        "If $x$ is drawn from $H_A$, under a low power test, it is very likely that it will be in the non-rejection region.\n",
        "\n",
        "See [AB Test design](#abtest-design) for how to control the power of a test.\n"
      ]
    },
    {
      "metadata": {
        "id": "N_4FN67QjdQV",
        "colab_type": "text"
      },
      "cell_type": "markdown",
      "source": [
        "**Example 1**\n",
        "\n",
        "Let's say your CEO says that people open the company's app 2 times a day. You want to see if the app open-rate has increased over the past week. Assume the app open-rate follows a normal distribution with unknown mean $\\mu$ and known population variance of 4.\n",
        "\n",
        "- $H_0$: $\\mu = 2$\n",
        "- $H_A$: $\\mu > 2$\n",
        "- Data: 1, 2, 3, 6, 0\n",
        "\n",
        "At a significance level $\\alpha=0.05$, should we reject the null hypothesis and tell the CEO that the app open-rate has increased?"
      ]
    },
    {
      "metadata": {
        "id": "rKzmteVpqU-B",
        "colab_type": "code",
        "colab": {
          "autoexec": {
            "startup": false,
            "wait_interval": 0
          }
        }
      },
      "cell_type": "code",
      "source": [
        "from scipy.stats import norm\n",
        "import scipy.stats as stats"
      ],
      "execution_count": 0,
      "outputs": []
    },
    {
      "metadata": {
        "id": "uTQK-zImmilh",
        "colab_type": "code",
        "colab": {
          "autoexec": {
            "startup": false,
            "wait_interval": 0
          },
          "output_extras": [
            {
              "item_id": 1
            }
          ],
          "base_uri": "https://localhost:8080/",
          "height": 34
        },
        "outputId": "68648403-77ff-410d-84a5-1734035a7893",
        "executionInfo": {
          "status": "ok",
          "timestamp": 1515269597538,
          "user_tz": 300,
          "elapsed": 592,
          "user": {
            "displayName": "Inna Shteinbuk",
            "photoUrl": "//lh5.googleusercontent.com/-_vXxKfahMKs/AAAAAAAAAAI/AAAAAAAAK8k/srNREuaEhA8/s50-c-k-no/photo.jpg",
            "userId": "109370904258545758972"
          }
        }
      },
      "cell_type": "code",
      "source": [
        "# Use a z test bc we have normal data and a known variance:\n",
        "data = np.array([1, 2, 3, 6, 0])\n",
        "N = len(data)\n",
        "mean_open_rate = np.mean(data)\n",
        "null_hypothesis_open_rate = 2\n",
        "known_variance = 4\n",
        "sigma = np.sqrt(known_variance)\n",
        "sqrt_N = np.sqrt(N)\n",
        "\n",
        "# calculate our Z statistic since our sample mean comes from a normal distribution\n",
        "z = (mean_open_rate - null_hypothesis_open_rate) / (sigma / sqrt_N)\n",
        "z"
      ],
      "execution_count": 15,
      "outputs": [
        {
          "output_type": "execute_result",
          "data": {
            "text/plain": [
              "0.44721359549995787"
            ]
          },
          "metadata": {
            "tags": []
          },
          "execution_count": 15
        }
      ]
    },
    {
      "metadata": {
        "id": "m22yu6t0n7bq",
        "colab_type": "code",
        "colab": {
          "autoexec": {
            "startup": false,
            "wait_interval": 0
          },
          "output_extras": [
            {
              "item_id": 1
            }
          ],
          "base_uri": "https://localhost:8080/",
          "height": 71
        },
        "outputId": "3990ce4c-8726-4c0d-f5c6-a12419aa04a7",
        "executionInfo": {
          "status": "ok",
          "timestamp": 1515269725771,
          "user_tz": 300,
          "elapsed": 575,
          "user": {
            "displayName": "Inna Shteinbuk",
            "photoUrl": "//lh5.googleusercontent.com/-_vXxKfahMKs/AAAAAAAAAAI/AAAAAAAAK8k/srNREuaEhA8/s50-c-k-no/photo.jpg",
            "userId": "109370904258545758972"
          }
        }
      },
      "cell_type": "code",
      "source": [
        "# Find P(Z > z)\n",
        "print('Probability that we get this mean open-rate if the Null Hypothesis is true')\n",
        "print(1 - stats.norm.cdf(z))"
      ],
      "execution_count": 18,
      "outputs": [
        {
          "output_type": "stream",
          "text": [
            "Probability that we get this mean open-rate if the Null Hypothesis is true\n",
            "0.327360423009\n"
          ],
          "name": "stdout"
        }
      ]
    },
    {
      "metadata": {
        "id": "w5zAdUaXmkwQ",
        "colab_type": "text"
      },
      "cell_type": "markdown",
      "source": [
        "The p-value $ p > \\alpha$, so we do not reject the null hypothesis. In other words, The mean app open-rate is not greater than 2 with a 5% significance level."
      ]
    },
    {
      "metadata": {
        "id": "lRX7CpFkRna5",
        "colab_type": "text"
      },
      "cell_type": "markdown",
      "source": [
        "#### P-Values Recap\n",
        "\n",
        "TLDR: P-values help us decide if something is \"significant\" or not. The lower the p-value, the more significant our result is.\n",
        "\n",
        "\n",
        "The p-value is the probability of observing our test statistic, $X$ under the Null Distribution. The lower the p-value, the less likely you would observe $X$, assuming that the Null Hypothesis is true."
      ]
    },
    {
      "metadata": {
        "id": "yxBKF8oeRDS6",
        "colab_type": "text"
      },
      "cell_type": "markdown",
      "source": [
        "### Significance Testing In-Practice\n",
        "\n",
        "Significance testing depends on the distribution of your data. If we have continuous data, we usually assume that the Null Distribution is a fat-tailed normal distribution and use the **T-test** to test the Null Hypothesis. If we have data of positive counts, we usually use the **Chi-square** test instead.\n",
        "\n",
        "### T-test\n",
        "\n",
        "When we pick our distribution in significance testing, we don't always know $\\sigma$ (population standard deviation), so we cannot use the Z-test like in Example 1 above. In these instances, we use a t-test.\n",
        "\n",
        "Under the t-test we use a [t-distribution](https://en.wikipedia.org/wiki/Student's_t-distribution#Derivation), which is shaped like the normal distribution and has a parameter $df$ called the degrees of freedom. When $df$ is small, the tails are fatter than the normal distribution, and as $df$ increases, it looks more like the standard normal distribution.\n",
        "\n",
        "There are two types of T-tests used in practice, the one-sample and two-sample T-test, described below with examples.\n",
        "\n",
        "#### One Sample T-test\n",
        "Use this to test if you want to see if a sample mean equals a hypothesized mean ($\\mu_0$) of some population where the population $\\sigma$ is unknown. It's called One Sample because you only have one sample of data from the population.\n",
        "\n",
        "- *Data*: $x_1, x_2, ..., x_n$\n",
        "- *Assume*: The data are independent normal samples coming from the population. $x_i$ ~ $N(\\mu_0, \\sigma ^ 2)$ where $\\mu_0$ and $\\sigma$ are unknown.\n",
        "- *Null hypothesis*: $\\bar{X} = \\mu_0$\n",
        "- *Test statistic*: $t$, called the studentized mean: \n",
        "$$ t = \\frac{\\bar{X}-\\mu_0}{\\frac{s}{\\sqrt{n}}} $$\n",
        "and s is the sample standard deviation ([here](https://colab.research.google.com/notebook#fileId=1tlrfQPy7NcuIppzuz4xGdcFnrHyA4wtp&scrollTo=T2v_K9wLK8G3) for formula)\n",
        "    - If the sample mean is normal with mean $\\mu_0$, the studentized mean (t) follows a t-distribution [here](http://en.wikipedia.org/wiki/Student’s_t-distribution#Derivation)\n",
        "\n",
        "- *Null Distribution*: $f(t|H_0)$ is the probability distribution which follows th T-distribution $T$~$t(n-1)$ \n",
        "\n",
        "#### Example 2: \n",
        "Let's do an example similar to [Example 1](https://colab.research.google.com/notebook#fileId=1tlrfQPy7NcuIppzuz4xGdcFnrHyA4wtp&scrollTo=N_4FN67QjdQV), but now the variance is unknown.\n",
        "\n",
        "Let's say you need the battery life of a cell-phone produced at your company to be 2 hours. You sample 5 data points from the assembly line. Is it possible that the battery life on the assembly line is not 2 hours?\n",
        "\n",
        "- $H_0$: $\\mu = 2$\n",
        "- $H_A$: $\\mu \\neq 2$\n",
        "- Data: 1, 2, 3, 6, 0\n",
        "\n",
        "At a significance level $\\alpha=0.05$, should we reject the null hypothesis and tell the CEO that our battery life is not 2 hours?\n",
        "\n"
      ]
    },
    {
      "metadata": {
        "id": "t9N3O0M1g43H",
        "colab_type": "code",
        "colab": {
          "autoexec": {
            "startup": false,
            "wait_interval": 0
          },
          "output_extras": [
            {
              "item_id": 1
            }
          ],
          "base_uri": "https://localhost:8080/",
          "height": 34
        },
        "outputId": "50b2269c-9abc-4e47-fb2f-66611106d6eb",
        "executionInfo": {
          "status": "ok",
          "timestamp": 1519059026928,
          "user_tz": 300,
          "elapsed": 522,
          "user": {
            "displayName": "Baruch Tabanpour",
            "photoUrl": "//lh3.googleusercontent.com/-QdGwhAZwzFk/AAAAAAAAAAI/AAAAAAAAB3k/YuLNs6IqnJA/s50-c-k-no/photo.jpg",
            "userId": "117368641394038196827"
          }
        }
      },
      "cell_type": "code",
      "source": [
        "# Use a t test because we don't know mean or population variance:\n",
        "data = np.array([1, 2, 0, 1, 0])\n",
        "N = len(data)\n",
        "mean_life = np.mean(data)\n",
        "null_hypothesis_life = 2\n",
        "\n",
        "\n",
        "sigma = np.std(data, ddof=1)\n",
        "sqrt_N = np.sqrt(N)\n",
        "\n",
        "# calculate our t statistic\n",
        "t = (mean_life - null_hypothesis_life) / (sigma / sqrt_N)\n",
        "t"
      ],
      "execution_count": 5,
      "outputs": [
        {
          "output_type": "execute_result",
          "data": {
            "text/plain": [
              "-3.2071349029490928"
            ]
          },
          "metadata": {
            "tags": []
          },
          "execution_count": 5
        }
      ]
    },
    {
      "metadata": {
        "id": "N9BhDTJrrKq1",
        "colab_type": "code",
        "colab": {
          "autoexec": {
            "startup": false,
            "wait_interval": 0
          },
          "output_extras": [
            {
              "item_id": 1
            }
          ],
          "base_uri": "https://localhost:8080/",
          "height": 68
        },
        "outputId": "064389a2-1548-44db-d320-6c41cd655a46",
        "executionInfo": {
          "status": "ok",
          "timestamp": 1519059030895,
          "user_tz": 300,
          "elapsed": 725,
          "user": {
            "displayName": "Baruch Tabanpour",
            "photoUrl": "//lh3.googleusercontent.com/-QdGwhAZwzFk/AAAAAAAAAAI/AAAAAAAAB3k/YuLNs6IqnJA/s50-c-k-no/photo.jpg",
            "userId": "117368641394038196827"
          }
        }
      },
      "cell_type": "code",
      "source": [
        "# p-value = P(|T| > |t|) = 1 - t_dist(t, df)\n",
        "df = N - 1\n",
        "p_value = 2 * (1 -  stats.t.cdf(abs(t), df))\n",
        "\n",
        "print('The sample mean battery life is', mean_life)\n",
        "print('The p-value is', p_value)\n",
        "\n",
        "print('our p-value < .05 so we reject the null hypothesis. Good luck at your company')"
      ],
      "execution_count": 6,
      "outputs": [
        {
          "output_type": "stream",
          "text": [
            "The sample mean battery life is 0.8\n",
            "The p-value is 0.03267792333680308\n",
            "our p-value < .05 so we reject the null hypothesis. Good luck at your company\n"
          ],
          "name": "stdout"
        }
      ]
    },
    {
      "metadata": {
        "id": "RmEoBcLJhV2A",
        "colab_type": "text"
      },
      "cell_type": "markdown",
      "source": [
        "#### Two Sample T-test\n",
        "We use this test when we want to compare the means of samples from 2 different popuations, and we don't know the mean or variance of the 2 populations. It is called Two Sample, because we sample from 2 populations.\n",
        "\n",
        "\n",
        "- *Data* + *Assumptions*: 2 sets of data drawn from normal distributions:\n",
        "\n",
        " $ x_1, x_2, ... , x_n$ ~ $N(\\mu_1, \\sigma^2) $  \\\\\n",
        " $ y_1, y_2, ... , y_m$ ~ $N(\\mu_2, \\sigma^2) $\n",
        " \n",
        " $\\mu_1, \\mu_2,$ and $\\sigma$ are all unknown. Both distributions have the same variance*. The number of samples can be different as well.\n",
        "\n",
        "- *Null hypothesis*: $\\mu_1 = \\mu_2$\n",
        "- *Test statistic:*\n",
        "$$t = \\frac{\\bar{x} - \\bar{y}}{s_p} $$\n",
        "where $s_p^2$ is the pooled variance:\n",
        "$$ s_p^2 = \\frac{(n-1)s_x^2 + (m-1)s_y^2}{n + m - 2} (\\frac{1}{n} + \\frac{1}{m}) $$\n",
        "$s_x^2$ and $s_y^2$ are the sample variances of x_i and y_j. \n",
        "- *Null distribution*:\n",
        "$f(t|H_0)$ is the pdf of $T$ ~ $t(n+m-2)$\n",
        "\n",
        "*There is also a version of the two-sample t-test where 2 groups have different variances. The test statistic is a little bit more complicated, and is called the Welch's t-test. https://en.wikipedia.org/wiki/Welch%27s_t-test"
      ]
    },
    {
      "metadata": {
        "id": "Byz-3KoJuIBl",
        "colab_type": "text"
      },
      "cell_type": "markdown",
      "source": [
        "**Example 3:**\n",
        "Suppose you write a new prompt for your donation website that you think will increase the amount of donations you get. You then show two groups of users the different versions and collect the number of money donated. Which button is better?\n"
      ]
    },
    {
      "metadata": {
        "id": "rQ_2qI01hUWx",
        "colab_type": "code",
        "colab": {
          "autoexec": {
            "startup": false,
            "wait_interval": 0
          },
          "output_extras": [
            {
              "item_id": 1
            }
          ],
          "base_uri": "https://localhost:8080/",
          "height": 51
        },
        "outputId": "18d805f8-2122-4899-846e-56ef4006a64b",
        "executionInfo": {
          "status": "ok",
          "timestamp": 1519059224510,
          "user_tz": 300,
          "elapsed": 553,
          "user": {
            "displayName": "Baruch Tabanpour",
            "photoUrl": "//lh3.googleusercontent.com/-QdGwhAZwzFk/AAAAAAAAAAI/AAAAAAAAB3k/YuLNs6IqnJA/s50-c-k-no/photo.jpg",
            "userId": "117368641394038196827"
          }
        }
      },
      "cell_type": "code",
      "source": [
        "\n",
        "N1 = 800\n",
        "N2 = 779\n",
        "# let's sample from the two populations\n",
        "button_one_obs = np.random.normal(3, 2.0, N1)\n",
        "button_two_obs = np.random.normal(3.3, 2.0, N2)\n",
        "\n",
        "mu1 = np.mean(button_one_obs)\n",
        "mu2 = np.mean(button_two_obs)\n",
        "std1 = np.std(button_one_obs, ddof=1)\n",
        "std2 = np.std(button_two_obs, ddof=1)\n",
        "\n",
        "# let's calculate the two-sample t-test manually\n",
        "pooled_variance = ((N1 - 1) * std1**2 + (N2 - 1) * std2**2) / (N1 + N2 - 2)\n",
        "pooled_variance *= ((1/N1) + (1/N2))\n",
        "t = (mu1 - mu2) / np.sqrt(pooled_variance)\n",
        "\n",
        "print('t', t)\n",
        "\n",
        "df = N1 + N2 - 2\n",
        "p_value = 2 * (1 -  stats.t.cdf(abs(t), df))\n",
        "\n",
        "\n",
        "print('p', p_value)\n"
      ],
      "execution_count": 7,
      "outputs": [
        {
          "output_type": "stream",
          "text": [
            "t -3.6115402379982764\n",
            "p 0.0003139185602183403\n"
          ],
          "name": "stdout"
        }
      ]
    },
    {
      "metadata": {
        "id": "5ABO9LQGFjMX",
        "colab_type": "code",
        "colab": {
          "autoexec": {
            "startup": false,
            "wait_interval": 0
          },
          "output_extras": [
            {
              "item_id": 1
            }
          ],
          "base_uri": "https://localhost:8080/",
          "height": 51
        },
        "outputId": "c1c9d651-436c-43af-b341-0dccf9680b9c",
        "executionInfo": {
          "status": "ok",
          "timestamp": 1519059233824,
          "user_tz": 300,
          "elapsed": 1136,
          "user": {
            "displayName": "Baruch Tabanpour",
            "photoUrl": "//lh3.googleusercontent.com/-QdGwhAZwzFk/AAAAAAAAAAI/AAAAAAAAB3k/YuLNs6IqnJA/s50-c-k-no/photo.jpg",
            "userId": "117368641394038196827"
          }
        }
      },
      "cell_type": "code",
      "source": [
        "# we can also get the same result using stats.ttest_ind_from_stats\n",
        "t, p = stats.ttest_ind_from_stats(mu1, std1, N1, mu2, std2, N2)\n",
        "\n",
        "print('t', t)\n",
        "print('p', p)"
      ],
      "execution_count": 8,
      "outputs": [
        {
          "output_type": "stream",
          "text": [
            "t -3.6115402379982764\n",
            "p 0.0003139185602183564\n"
          ],
          "name": "stdout"
        }
      ]
    },
    {
      "metadata": {
        "id": "plhiXR4uBPvY",
        "colab_type": "text"
      },
      "cell_type": "markdown",
      "source": [
        "Since our $p$-value is smaller than $\\alpha$ = .05, we can reject the null hypothesis and conclude that there is a difference in the means of the 2 samples. Since $\\mu$ from button two is bigger, we can conclude that button two is better."
      ]
    },
    {
      "metadata": {
        "id": "ky8iLuqRGf7q",
        "colab_type": "text"
      },
      "cell_type": "markdown",
      "source": [
        "#### ANOVA\n",
        "Test for comparing 2 or more group means. It generalizes the two-sample t-test to more than 2 groups/samples. ANOVA is more conservative than using multiple two sample t-tests for each combination of 2-samples because of Multiple Comparisons Problem (explained in AB Testing Gotchas). When you compare your sample means, you use the F-statistic."
      ]
    },
    {
      "metadata": {
        "id": "EEFYs-dz-tSv",
        "colab_type": "text"
      },
      "cell_type": "markdown",
      "source": [
        "\n",
        "\n",
        "---\n",
        "\n",
        "#### Chi-Square Tests\n",
        "\n",
        "##### Chi-Square Test for goodness of fit\n",
        "\n",
        "This test is used to determine whether a set of categorical data came from a hypothesized discrete probability distribution (i.e. think data of counts, like rolling a dice, and testing whether the dice is fair).\n",
        "\n",
        "\n",
        "The test statistic is the chi-square statistic, and null distribution follows a chi-square distribution, $\\chi^2(df)$ where $df$ is the degrees of freedom. This test is used to see if discrete data fits a specific probability mass function.\n",
        "\n",
        "- *Data:* Observed count $O_i$ for each possible outcome $w_i$, with $k$ outcomes.\n",
        "- $H_0$ = Data was drawn from a specific discrete distribution.\n",
        "- $H_A$ = Data was not drawn from $H_0$.\n",
        "- *Test Statistic*: From $H_0$ we can get a set of expected counts $E_i$ ($i = 1, 2, ..., k$) for each outcome $k$. We compare the observed counts $O_i$ to the expected counts $E_i$. There are 2 statistics we can use: Likelihood ratio statistic, $G$*, and Pearson's chi-square statistic $X^2$.\n",
        "\n",
        "$$G = 2 * \\sum_{i=1}^k O_i ln(\\frac{O_i}{E_i})$$\n",
        "$$ X^2 = \\sum_{i=1}^k \\frac{(O_i - E_i)^2}{E_i}$$\n",
        "\n",
        "- *Degrees of freedom*: $n-1$ for $n$ data points\n",
        "\n",
        "- *Null distribution*: Assuming $H_0$, both $G$ and $X^2$ approximately follow a chi-square distribution with $n-1$ degrees of freedom. See [here](https://ocw.mit.edu/courses/mathematics/18-05-introduction-to-probability-and-statistics-spring-2014/readings/MIT18_05S14_Reading19.pdf) for a derivation.\n",
        "\n",
        "*If $G$ is used, this is also called a $G$-test or a likelihood ratio test.\n",
        "\n",
        "\n",
        "---\n",
        "##### Chi-Square Test for independence:\n",
        "\n",
        "Use this to determine whether two observed categorical variables are independent or not (i.e. is the click-through rate of a button independent of gender?). (See example 4 below)\n",
        "\n",
        "All same as above except:\n",
        "- $H_0$ = Categorical variables of population are independent.\n",
        "- $H_A$ = Categorical variables of population are dependent.\n",
        "- *df*: $(m-1)(n-1) $ where $m$ is the number of possibilities for the first categorical variable, and $n$ is the number of possibilities for the second categorical variable.\n",
        "\n",
        "**Example 4**\n",
        "\n",
        "Suppose you design a new Sign-up button for your website and create a new homepage for your website by changing this button. You show this version, Landing Page B, and the original version, Landing Page A to different users and monitor your sign-ups for each session.  The data collected is summarized in the table below. Can you determine whether the button helps with the number of sign ups with a significance of 10%?\n",
        "\n",
        "\n",
        "|                     | Landing Page A | Landing Page B | Total |\n",
        "|---------------------|----------------|----------------|-------|\n",
        "| **Observed Sign-ups**   | 135            | 170            | 305   |\n",
        "| **Observed No signups** | 365            | 328            | 693   |\n",
        "| **Total**               | 500            | 498            |  998  |\n",
        "\n",
        "Our null hypothesis is that the type of landing page is independent of whether someone signs up on your website or not.\n",
        "\n",
        "From this table, we can take the sample of total sign-ups and estimate what proportion of the whole population would sign up, i.e. $305/998$ is the estimated proportion of total sign-ups we should expect. We can now make a table of expected values under the null hypothesis, and compare the expected counts to the observed counts.\n",
        "\n",
        "|                     | Landing Page A | Landing Page B |\n",
        "|---------------------|----------------|----------------|\n",
        "| **Expected Sign-ups**   | 152.81         | 152.19         |\n",
        "| **Expected No signups** | 347.19         | 345.81         |\n",
        "\n",
        "\n",
        "\n",
        "\n"
      ]
    },
    {
      "metadata": {
        "id": "w6cqcdO9quJe",
        "colab_type": "code",
        "colab": {
          "autoexec": {
            "startup": false,
            "wait_interval": 0
          },
          "output_extras": [
            {
              "item_id": 1
            }
          ],
          "base_uri": "https://localhost:8080/",
          "height": 34
        },
        "outputId": "c21c8ce1-56ac-46e0-aa32-14b57abf9a89",
        "executionInfo": {
          "status": "ok",
          "timestamp": 1515382404349,
          "user_tz": 300,
          "elapsed": 737,
          "user": {
            "displayName": "Inna Shteinbuk",
            "photoUrl": "//lh5.googleusercontent.com/-_vXxKfahMKs/AAAAAAAAAAI/AAAAAAAAK8k/srNREuaEhA8/s50-c-k-no/photo.jpg",
            "userId": "109370904258545758972"
          }
        }
      },
      "cell_type": "code",
      "source": [
        "# let's calculate the test-statistic manually\n",
        "observed = [135, 170, 365, 328]\n",
        "expected = [152.81, 152.19, 347.19, 345.81]\n",
        "chi_sq_stat = sum([(e - o) ** 2 / e for o, e in zip(observed, expected)])\n",
        "print(chi_sq_stat)\n",
        "df = (2-1)*(2-1)"
      ],
      "execution_count": 14,
      "outputs": [
        {
          "output_type": "stream",
          "text": [
            "5.990831022612689\n"
          ],
          "name": "stdout"
        }
      ]
    },
    {
      "metadata": {
        "id": "4h8XqK1p0bU4",
        "colab_type": "code",
        "colab": {
          "autoexec": {
            "startup": false,
            "wait_interval": 0
          },
          "output_extras": [
            {
              "item_id": 1
            }
          ],
          "base_uri": "https://localhost:8080/",
          "height": 54
        },
        "outputId": "2d45a1a1-97fa-4e51-d3ed-3bae8ec6965d",
        "executionInfo": {
          "status": "ok",
          "timestamp": 1515382337585,
          "user_tz": 300,
          "elapsed": 696,
          "user": {
            "displayName": "Inna Shteinbuk",
            "photoUrl": "//lh5.googleusercontent.com/-_vXxKfahMKs/AAAAAAAAAAI/AAAAAAAAK8k/srNREuaEhA8/s50-c-k-no/photo.jpg",
            "userId": "109370904258545758972"
          }
        }
      },
      "cell_type": "code",
      "source": [
        "# stats.chisquare is equivalent as the above calculation\n",
        "stats.chisquare(observed, expected, ddof=df)"
      ],
      "execution_count": 13,
      "outputs": [
        {
          "output_type": "execute_result",
          "data": {
            "text/plain": [
              "Power_divergenceResult(statistic=5.990831022612689, pvalue=0.050015840621105236)"
            ]
          },
          "metadata": {
            "tags": []
          },
          "execution_count": 13
        }
      ]
    },
    {
      "metadata": {
        "id": "AEA0HANt1MEi",
        "colab_type": "text"
      },
      "cell_type": "markdown",
      "source": [
        "Based on these results, we can reject our null hypothesis that the landing pages are independent with a confidence of 10%. Thus, we can conclude that landing page B is better and the button does help with sign-ups!\n",
        "\n",
        "\n",
        "---\n",
        "#### Difference between t-test and chi-square\n",
        "- A T-test is used for continuous variables, and a chi-square test is used for categorical variables.\n",
        "\n",
        "#### Kolmogorov-Smirnov (KS) Test\n",
        "\n",
        "Test whether a sample of data came from a specific distribution, can be categorical or continuous.\n",
        "\n",
        "#### Anderson-Darling Test\n",
        "\n",
        "Same as KS test, but more sensitive.\n"
      ]
    },
    {
      "metadata": {
        "id": "zAL0FBZPRIy2",
        "colab_type": "text"
      },
      "cell_type": "markdown",
      "source": [
        "\n",
        "## [Designing an AB Test](#abtest-design)\n",
        "\n",
        "TLDR: Before running a test, you need to design it to make sure you will be able to measure a certain effect size within some probability bound. This is usually controlled by the sample size of your test.\n",
        "\n",
        "### Power Calculation\n",
        "\n",
        "When designing an AB Test, you need to know how many samples to collect to measure a certain effect size. The effect size is the difference in means or proportions of some event you are testing between a control group and test group. You can use the power calculation to determine what is the needed sample size for your experiment to achieve a certain desired power (i.e. recall that power is the probability you reject $H_0$ if $H_A$ is true).\n",
        "\n",
        "We have a different power calculation formula for continuous variables (difference in means) and for categorical variables (difference in proportions):\n",
        "\n",
        "**Sample size for difference in means:**\n",
        "$$n \\propto \\frac{\\sigma^2(Z_\\beta + Z_{\\alpha/2})^2}{difference^2} $$\n",
        "\n",
        "where:\n",
        "- $n$: sample size in each group\n",
        "- $\\sigma$: standard deviation of the outcome variable\n",
        "- $Z_\\beta$: The desired power\n",
        "- $Z_{\\alpha/2}$: Desired level of statistical significance( p-value)\n",
        "- $difference$: Effect size, i.e. the difference in means between $H_0$ and $H_A$\n",
        "\n",
        "As an example, you need to pick the sample size so that you have enough power (at least 0.9) to detect a difference of values greater than 1.\n",
        "\n",
        "**Sample size for difference in proportions:**\n",
        "$$n \\propto \\frac{(\\bar{p})(1 - \\bar{p})(Z_\\beta + Z_{\\alpha/2})^2 }{(p_1 - p_2)^2} $$\n",
        "\n",
        "where:\n",
        "- $n$: sample size in each group (assumes equal sized groups)\n",
        "- $(\\bar{p})(1 - \\bar{p})$: measure of variability (similar to standard deviation)\n",
        "- $Z_\\beta$: The desired power\n",
        "- $Z_{\\alpha/2}$: Desired level of statistical significance( p-value)\n",
        "- $p_1 - p_2$: Effect size (the difference in proportions)\n",
        "\n",
        "***could not find a good reference on this formula***\n",
        "\n",
        "As sample size increases, power increases. We need more data to keep the same power if:\n",
        "- Our desired effect size increases\n",
        "- Variance increases\n",
        "- Our significan level decreases"
      ]
    },
    {
      "metadata": {
        "id": "5oaxly7YSIzp",
        "colab_type": "code",
        "colab": {
          "autoexec": {
            "startup": false,
            "wait_interval": 0
          }
        }
      },
      "cell_type": "code",
      "source": [
        "# https://stackoverflow.com/questions/15204070/is-there-a-python-scipy-function-to-determine-parameters-needed-to-obtain-a-ta\n",
        "from scipy.stats import norm, zscore\n",
        "\n",
        "def sample_power_probtest(p1, p2, power=0.8, sig=0.05):\n",
        "    z = norm.isf([sig/2]) #two-sided t test\n",
        "    zp = -1 * norm.isf([power]) \n",
        "    d = (p1-p2)\n",
        "    s = 2*((p1+p2) /2)*(1-((p1+p2) /2))\n",
        "    n = s * ((zp + z)**2) / (d**2)\n",
        "    return n[0]\n",
        "\n",
        "def sample_power_difftest(d, s, power=0.8, sig=0.05):\n",
        "    z = norm.isf([sig/2])\n",
        "    zp = -1 * norm.isf([power])\n",
        "    n = s * ((zp + z)**2) / (d**2)\n",
        "    return int(round(n[0]))"
      ],
      "execution_count": 0,
      "outputs": []
    },
    {
      "metadata": {
        "id": "ajAzmBDKUIz9",
        "colab_type": "code",
        "colab": {
          "autoexec": {
            "startup": false,
            "wait_interval": 0
          },
          "output_extras": [
            {
              "item_id": 1
            }
          ],
          "base_uri": "https://localhost:8080/",
          "height": 34
        },
        "outputId": "267d4ba6-7970-4e4c-a11d-1e624d179e6d",
        "executionInfo": {
          "status": "ok",
          "timestamp": 1519061742472,
          "user_tz": 300,
          "elapsed": 607,
          "user": {
            "displayName": "Baruch Tabanpour",
            "photoUrl": "//lh3.googleusercontent.com/-QdGwhAZwzFk/AAAAAAAAAAI/AAAAAAAAB3k/YuLNs6IqnJA/s50-c-k-no/photo.jpg",
            "userId": "117368641394038196827"
          }
        }
      },
      "cell_type": "code",
      "source": [
        "sample_power_probtest(0.5, 0.75, power=0.9)"
      ],
      "execution_count": 10,
      "outputs": [
        {
          "output_type": "execute_result",
          "data": {
            "text/plain": [
              "78.80567296080467"
            ]
          },
          "metadata": {
            "tags": []
          },
          "execution_count": 10
        }
      ]
    },
    {
      "metadata": {
        "id": "kEdf2fnYT6WC",
        "colab_type": "code",
        "colab": {
          "autoexec": {
            "startup": false,
            "wait_interval": 0
          },
          "output_extras": [
            {
              "item_id": 1
            }
          ],
          "base_uri": "https://localhost:8080/",
          "height": 71
        },
        "outputId": "7a9670bf-4b6e-434b-fc43-e333d5e42eb3",
        "executionInfo": {
          "status": "ok",
          "timestamp": 1519061766685,
          "user_tz": 300,
          "elapsed": 879,
          "user": {
            "displayName": "Baruch Tabanpour",
            "photoUrl": "//lh3.googleusercontent.com/-QdGwhAZwzFk/AAAAAAAAAAI/AAAAAAAAB3k/YuLNs6IqnJA/s50-c-k-no/photo.jpg",
            "userId": "117368641394038196827"
          }
        }
      },
      "cell_type": "code",
      "source": [
        "import statsmodels.stats.api as sms\n",
        "es = sms.proportion_effectsize(0.5, 0.75)"
      ],
      "execution_count": 11,
      "outputs": [
        {
          "output_type": "stream",
          "text": [
            "/usr/local/lib/python3.6/dist-packages/statsmodels/compat/pandas.py:56: FutureWarning: The pandas.core.datetools module is deprecated and will be removed in a future version. Please use the pandas.tseries module instead.\n",
            "  from pandas.core import datetools\n"
          ],
          "name": "stderr"
        }
      ]
    },
    {
      "metadata": {
        "id": "f2f1tirQT-m4",
        "colab_type": "code",
        "colab": {
          "autoexec": {
            "startup": false,
            "wait_interval": 0
          },
          "output_extras": [
            {
              "item_id": 1
            }
          ],
          "base_uri": "https://localhost:8080/",
          "height": 34
        },
        "outputId": "e232614d-7d52-49ee-ac2a-b2c151370d1c",
        "executionInfo": {
          "status": "ok",
          "timestamp": 1519061767358,
          "user_tz": 300,
          "elapsed": 373,
          "user": {
            "displayName": "Baruch Tabanpour",
            "photoUrl": "//lh3.googleusercontent.com/-QdGwhAZwzFk/AAAAAAAAAAI/AAAAAAAAB3k/YuLNs6IqnJA/s50-c-k-no/photo.jpg",
            "userId": "117368641394038196827"
          }
        }
      },
      "cell_type": "code",
      "source": [
        "sms.NormalIndPower().solve_power(es, power=0.9, alpha=0.05, ratio=1)"
      ],
      "execution_count": 12,
      "outputs": [
        {
          "output_type": "execute_result",
          "data": {
            "text/plain": [
              "76.65294037206691"
            ]
          },
          "metadata": {
            "tags": []
          },
          "execution_count": 12
        }
      ]
    },
    {
      "metadata": {
        "id": "gm0x02hHRrlo",
        "colab_type": "text"
      },
      "cell_type": "markdown",
      "source": [
        "## AB Testing Gotchas"
      ]
    },
    {
      "metadata": {
        "id": "CNskkEpFRmDC",
        "colab_type": "text"
      },
      "cell_type": "markdown",
      "source": [
        "Problems with A/B Testing:\n",
        "http://varianceexplained.org/r/bayesian-ab-testing/\n",
        "\n",
        "\n",
        "### P-hacking\n",
        "\n",
        "P-hacking is when you tweak your data in an attempt to hack your p-value into a number that you want. If you are desperate to get a certain p-value, you can always manipulate your data or your test in a way that gives you the desired result.\n",
        "\n",
        "To avoid p-hacking, avoid manipulating your data or test. Additionally, you can calculate confidence intervals to see how precise your result is, instead of solely relying on p-value to reject or accept the Null Hypothesis.\n",
        "\n",
        "https://en.wikipedia.org/wiki/Data_dredging\n",
        "\n",
        "\n",
        "### Peeking\n",
        "\n",
        "When you run a test, you may be tempted to stop your A/B test once the $p$-value reaches a certain threshold, like .05, but in doing so, you risk jumping to false conclusions too soon. In addition, if you end your test early, the power of your test decreases (see Designing an AB Test above), making it less likely that $H_A$ is true when you reject $H_0$.\n",
        "\n",
        "- One solution is to decide the number of samples before your test begins (you can use the power calculation above)\n",
        "- You can also correct for data peeking. Choose intervals at which you will peek, then apply a correction based on the number of peeks and the interval of peeking.\n",
        "\n",
        "https://www.talyarkoni.org/blog/2010/05/06/the-capricious-nature-of-p-05-or-why-data-peeking-is-evil/\n",
        "\n",
        "### Multiple Comparisons Problem\n",
        "\n",
        "The probability of getting at least one significant result due to Type-1 error (false positive) goes up as you conduct more and more comparisons for the same test.\n",
        "\n",
        "When you have multiple hypotheses that you want to test (e.g. trial rate, subscription rate, time to subscription), you might think to test each hypothesis separately under the same significance level. Let's say you are testing 20 hypotheses for the same test with a significance level of .05. What is the probability of observing at least one significant result? \\\\\n",
        "\n",
        "$P$(at least one significant result)$= 1 - P$(no significant result) \\\\\n",
        "$ = 1 - (1 - .05)^{20}$ \\\\\n",
        "$\\approx .64$ \\\\\n",
        "\n",
        "Thus, there is a 64% chance that we would observe at least one significant result when there is actually no significant result if we conduct 20 comparisons.\n",
        "\n",
        "#### Bonferroni Correction\n",
        "\n",
        "To correct for the above error, we can set the significance level to $\\alpha/n$, where $n$ is the number of comparisons you do. This can make the test too conservative; there are other p-value corrections not mentioned here (see [here for other methods](https://en.wikipedia.org/wiki/Family-wise_error_rate#Controlling_procedures)).\n",
        "\n",
        "So, in the above case, $\\alpha$ becomes .0025, and the probability to discover at least one significant result is $\\approx .0488$\n",
        "\n",
        "\n",
        "\n",
        "\n"
      ]
    },
    {
      "metadata": {
        "id": "_6vKMTWsRpqW",
        "colab_type": "text"
      },
      "cell_type": "markdown",
      "source": [
        "## Bayesian AB Testing\n",
        "\n",
        "Good blog posts on Bayesian AB testing:\n",
        "\n",
        "- http://varianceexplained.org/statistics/beta_distribution_and_baseball/\n",
        "- http://varianceexplained.org/r/empirical_bayes_baseball/\n",
        "- http://varianceexplained.org/r/credible_intervals_baseball/\n",
        "- http://varianceexplained.org/r/bayesian_fdr_baseball/\n",
        "- http://varianceexplained.org/r/bayesian_ab_baseball/\n",
        "\n",
        "\n"
      ]
    },
    {
      "metadata": {
        "id": "SwtWsS3MjGn_",
        "colab_type": "text"
      },
      "cell_type": "markdown",
      "source": [
        "#### Beta Distribution:\n",
        "\n",
        "TLDR: We use the beta distribution when we have binary data. It is the distribution around the probability of success given # of successes and # of failures.\n",
        "\n",
        "The beta distribution is conjugate to the binomial distribution. Distributions A and B are conjugate if a likelihood distribution (A) times a prior distribution (B), gives back a posterior with distribution (B).\n",
        "\n",
        "The binomial distribution gives us a distribution around the number of successes you will have in $n$ trials when the probability of success for any trial is $p$.\n",
        "\n",
        "http://varianceexplained.org/statistics/beta_distribution_and_baseball/\n",
        "\n",
        "If $P(X) \\tilde{} \\text{Beta}(\\alpha, \\beta)$\n",
        "- $E[X] = \\frac{\\alpha}{\\alpha + \\beta}$ ( [derivations](https://en.wikipedia.org/wiki/Beta_distribution#Mean))\n",
        "- $var[X] = \\frac{\\alpha\\beta}{(\\alpha + \\beta)^2(\\alpha + \\beta + 1)} $\n",
        "\n",
        "With algebra, we can get\n",
        "- $\\alpha = (\\frac{1-\\mu}{\\sigma^2} - \\frac{1}{\\mu})\\mu^2$\n",
        "- $\\beta = \\alpha(\\frac{1}{\\mu} - 1)$\n",
        "\n",
        "\n",
        "**Example**\n",
        "\n",
        "Let's say we expect around 27% of our users to sign up to our newsletter from a button on the home page from last quarter results, and with a variance of 0.00065482. We can model this using a beta distribution below:"
      ]
    },
    {
      "metadata": {
        "id": "fgqs-cq9KuiD",
        "colab_type": "code",
        "colab": {
          "autoexec": {
            "startup": false,
            "wait_interval": 0
          }
        }
      },
      "cell_type": "code",
      "source": [
        "def _return_params_beta(mean, var):\n",
        "  alpha = (((1 - mean) / var) - (1 / mean)) * mean**2\n",
        "  beta = alpha * (1 / mean - 1)\n",
        "  return alpha, beta"
      ],
      "execution_count": 0,
      "outputs": []
    },
    {
      "metadata": {
        "id": "2ObltqhQUid0",
        "colab_type": "code",
        "colab": {
          "autoexec": {
            "startup": false,
            "wait_interval": 0
          },
          "output_extras": [
            {
              "item_id": 1
            }
          ],
          "base_uri": "https://localhost:8080/",
          "height": 34
        },
        "outputId": "2fda1b89-d583-4c69-f866-c0d4ca3fe25c",
        "executionInfo": {
          "status": "ok",
          "timestamp": 1516050663809,
          "user_tz": 300,
          "elapsed": 252,
          "user": {
            "displayName": "Baruch Tabanpour",
            "photoUrl": "//lh3.googleusercontent.com/-QdGwhAZwzFk/AAAAAAAAAAI/AAAAAAAAB3k/YuLNs6IqnJA/s50-c-k-no/photo.jpg",
            "userId": "117368641394038196827"
          }
        }
      },
      "cell_type": "code",
      "source": [
        "_return_params_beta(.27, 0.00065482)"
      ],
      "execution_count": 22,
      "outputs": [
        {
          "output_type": "execute_result",
          "data": {
            "text/plain": [
              "(80.99966189181761, 218.99908585565498)"
            ]
          },
          "metadata": {
            "tags": []
          },
          "execution_count": 22
        }
      ]
    },
    {
      "metadata": {
        "id": "lbh9ZFjFP4Ap",
        "colab_type": "code",
        "colab": {
          "autoexec": {
            "startup": false,
            "wait_interval": 0
          }
        }
      },
      "cell_type": "code",
      "source": [
        "a, b = 81, 219\n",
        "# we can get sigma using scipy\n",
        "sigma = stats.beta.stats(81, 219, moments='mvsk')[1]\n"
      ],
      "execution_count": 0,
      "outputs": []
    },
    {
      "metadata": {
        "id": "nkogHhp7jFcY",
        "colab_type": "code",
        "colab": {
          "autoexec": {
            "startup": false,
            "wait_interval": 0
          },
          "output_extras": [
            {
              "item_id": 1
            }
          ],
          "base_uri": "https://localhost:8080/",
          "height": 265
        },
        "outputId": "799f1abc-098f-4219-80fb-bd4005c5659d",
        "executionInfo": {
          "status": "ok",
          "timestamp": 1516050893043,
          "user_tz": 300,
          "elapsed": 451,
          "user": {
            "displayName": "Baruch Tabanpour",
            "photoUrl": "//lh3.googleusercontent.com/-QdGwhAZwzFk/AAAAAAAAAAI/AAAAAAAAB3k/YuLNs6IqnJA/s50-c-k-no/photo.jpg",
            "userId": "117368641394038196827"
          }
        }
      },
      "cell_type": "code",
      "source": [
        "# Choose alpha and beta based on mean and sigma\n",
        "a, b = 81, 219\n",
        "beta_dist = stats.beta(a, b)\n",
        "x = np.linspace(0, 1, 1002)[1:-1]\n",
        "plt.plot(x, beta_dist.pdf(x))\n",
        "plt.show()\n",
        "# we see the mean is .27, and the beta distribution gives us a distribution around the sign-up rate"
      ],
      "execution_count": 24,
      "outputs": [
        {
          "output_type": "display_data",
          "data": {
            "image/png": "[encoded data removed]",
            "text/plain": [
              "<matplotlib.figure.Figure at 0x7ff524d95ef0>"
            ]
          },
          "metadata": {
            "tags": []
          }
        }
      ]
    },
    {
      "metadata": {
        "id": "zkmoq_RZ2qfr",
        "colab_type": "text"
      },
      "cell_type": "markdown",
      "source": [
        "#### Updating Beta Distribution\n",
        "\n",
        "Let's say we start a new quarter and we want to update our posterior to reflect the number of sign-ups we actually observed. The beta distribution is appropriate here because we can update it very easily. The new beta distribution is:\n",
        "\n",
        "$\\beta(\\alpha_0 +$ signups$, \\beta_0 +$ failed_signups)\n",
        "\n",
        "Halfway into the second quarter, we gather some stats and see that out of 300 new visitors, we only had 100 signups. We can easily update our prior to get our new posterior distribution, ~$\\beta(81 + 100, 219 + 200)$, which looks like:\n",
        "\n"
      ]
    },
    {
      "metadata": {
        "id": "qKytBxFUFztv",
        "colab_type": "code",
        "colab": {
          "autoexec": {
            "startup": false,
            "wait_interval": 0
          },
          "output_extras": [
            {
              "item_id": 1
            }
          ],
          "base_uri": "https://localhost:8080/",
          "height": 265
        },
        "outputId": "3c5f922f-27aa-4318-cfb1-cb242c80ea5c",
        "executionInfo": {
          "status": "ok",
          "timestamp": 1515554952345,
          "user_tz": 300,
          "elapsed": 852,
          "user": {
            "displayName": "Inna Shteinbuk",
            "photoUrl": "//lh5.googleusercontent.com/-_vXxKfahMKs/AAAAAAAAAAI/AAAAAAAAK8k/srNREuaEhA8/s50-c-k-no/photo.jpg",
            "userId": "109370904258545758972"
          }
        }
      },
      "cell_type": "code",
      "source": [
        "a2, b2 = 81 + 100, 219 + 200\n",
        "beta_dist2 = stats.beta(a2, b2)\n",
        "x2 = np.linspace(0, 1, 1002)[1:-1]\n",
        "plt.plot(x, beta_dist.pdf(x))\n",
        "plt.plot(x2, beta_dist2.pdf(x2))\n",
        "plt.show()"
      ],
      "execution_count": 20,
      "outputs": [
        {
          "output_type": "display_data",
          "data": {
            "image/png": "[encoded data removed]",
            "text/plain": [
              "<matplotlib.figure.Figure at 0x7fab144d34e0>"
            ]
          },
          "metadata": {
            "tags": []
          }
        }
      ]
    },
    {
      "metadata": {
        "id": "cZ6fzYkZH23h",
        "colab_type": "text"
      },
      "cell_type": "markdown",
      "source": [
        "The green curve (posterior beta distribution) has a mean of .303. The beta distribution is good because we can incorporate what we expect the probability of sign-ups to be (prior beta distribution) into the current data we observe."
      ]
    },
    {
      "metadata": {
        "id": "Rc8wx8G9T0p0",
        "colab_type": "text"
      },
      "cell_type": "markdown",
      "source": [
        "#### Empirical Bayes Estimates\n",
        "\n",
        "Use Emperical Bayes if you want to do a fair comparison between estimates derived from your data when some estimates have very few samples.\n",
        "\n",
        "In Emperical Bayes, we estimate our prior based on observed data, whereas in Bayesian Methods (like Bayesian AB testing), we keep our prior fixed before we observe the data.\n",
        "\n",
        "\n",
        "Take batting average for example. Some players bat 10 times, some bat 100s of times. How do we compare all players on an equal footing? [This is an example of Emperical Bayes Estimation](http://varianceexplained.org/r/empirical_bayes_baseball/). You compute the prior using all the data, and then multiply the prior by the likelihood of each player's batting average to get an Empirical Bayes Estimate. E.g. This graph plots the posterior batting average (Empirical Bayes) compared the actual batting average: the values less than and greater than the prior average get closer to the prior average but not lesser or greater.\n",
        "\n",
        "*shrinkage*: all values get pushed towards the mean of the prior when we update our data with the prior. \\\\\n",
        "![alt text](http://varianceexplained.org/figs/2015-10-01-empirical_bayes_baseball/unnamed-chunk-11-1.png)\n",
        "\n",
        "With the new 'shrunk' data, we don't have to worry about having less counts for one player and more counts for another, since we update each players posterior performance with the overall prior average performance. However, we still want an interval rather than a point estimate around each player's batting average to quantify the uncertainty.\n",
        "\n",
        "We can quantify uncertainty around our point estimates using *Credible intervals*. We can calculate the *credible* interval of our beta distribution, which says that some percentage (i.e. 95%) of our posterior distribution lies within a region around our point estimate by using the quantile of the beta distribution.\n",
        "\n",
        "*Credible intervals vs. Confidence intervals*: Frequentist confidence intervals are derived from a fixed distribution, whereas credible intervals are derived from a posterior distribution that was updated by our priors. (more on this in a couple cells)."
      ]
    },
    {
      "metadata": {
        "id": "HkntcSNklVZW",
        "colab_type": "text"
      },
      "cell_type": "markdown",
      "source": [
        "### Bayesian AB Testing\n",
        "\n",
        "http://varianceexplained.org/r/bayesian_ab_baseball/\n",
        "\n",
        "\n",
        "TLDR: You can analyze AB test results using Bayesian methods, like hypothesis testing, but you need to pick a prior.\n",
        "\n",
        "**Example 1**\n",
        "\n",
        "You've designed 2 different sign-up buttons, and want to test them. So, you create 2 different versions of your website where only the sign-up button is changed, version A and version B. We expect that a sign-up button's performance on our site will have success with a mean around .25 and variance .00015 using data from an existing button. We can model how we expect our buttons to perform (prior) with a beta distribution:\n",
        "\n",
        "\n",
        "\n"
      ]
    },
    {
      "metadata": {
        "id": "1OurdIoKXFy6",
        "colab_type": "code",
        "colab": {
          "autoexec": {
            "startup": false,
            "wait_interval": 0
          }
        }
      },
      "cell_type": "code",
      "source": [
        "%matplotlib inline\n",
        "import numpy as np\n",
        "from scipy import stats\n",
        "from matplotlib import pyplot as plt"
      ],
      "execution_count": 0,
      "outputs": []
    },
    {
      "metadata": {
        "id": "ZCMTQMyPWtdF",
        "colab_type": "code",
        "colab": {
          "autoexec": {
            "startup": false,
            "wait_interval": 0
          },
          "output_extras": [
            {
              "item_id": 1
            }
          ],
          "base_uri": "https://localhost:8080/",
          "height": 34
        },
        "outputId": "67747284-dbac-4237-88be-e17f5b95af8e",
        "executionInfo": {
          "status": "ok",
          "timestamp": 1516055568908,
          "user_tz": 300,
          "elapsed": 1787,
          "user": {
            "displayName": "Baruch Tabanpour",
            "photoUrl": "//lh3.googleusercontent.com/-QdGwhAZwzFk/AAAAAAAAAAI/AAAAAAAAB3k/YuLNs6IqnJA/s50-c-k-no/photo.jpg",
            "userId": "117368641394038196827"
          }
        }
      },
      "cell_type": "code",
      "source": [
        "alpha_0, beta_0 = _return_params_beta(mean=.15, var=.00015)\n",
        "alpha_0, beta_0"
      ],
      "execution_count": 28,
      "outputs": [
        {
          "output_type": "execute_result",
          "data": {
            "text/plain": [
              "(127.35, 721.65)"
            ]
          },
          "metadata": {
            "tags": []
          },
          "execution_count": 28
        }
      ]
    },
    {
      "metadata": {
        "id": "Ja-mvramWmxP",
        "colab_type": "code",
        "colab": {
          "autoexec": {
            "startup": false,
            "wait_interval": 0
          },
          "output_extras": [
            {
              "item_id": 1
            }
          ],
          "base_uri": "https://localhost:8080/",
          "height": 265
        },
        "outputId": "455e399f-7331-49ba-f7cb-f39e7a93ff39",
        "executionInfo": {
          "status": "ok",
          "timestamp": 1516055569822,
          "user_tz": 300,
          "elapsed": 499,
          "user": {
            "displayName": "Baruch Tabanpour",
            "photoUrl": "//lh3.googleusercontent.com/-QdGwhAZwzFk/AAAAAAAAAAI/AAAAAAAAB3k/YuLNs6IqnJA/s50-c-k-no/photo.jpg",
            "userId": "117368641394038196827"
          }
        }
      },
      "cell_type": "code",
      "source": [
        "\n",
        "beta_dist = stats.beta(alpha_0, beta_0)\n",
        "x = np.linspace(0, 1, 1002)[1:-1]\n",
        "plt.plot(x, beta_dist.pdf(x))\n",
        "plt.show()"
      ],
      "execution_count": 29,
      "outputs": [
        {
          "output_type": "display_data",
          "data": {
            "image/png": "[encoded data removed]",
            "text/plain": [
              "<matplotlib.figure.Figure at 0x7ff54b962668>"
            ]
          },
          "metadata": {
            "tags": []
          }
        }
      ]
    },
    {
      "metadata": {
        "id": "UYw3I53aYaSr",
        "colab_type": "text"
      },
      "cell_type": "markdown",
      "source": [
        "It's been 1 month since we started our experiment and we see that for version A of our website, 100 signed up out of 985 visitors, and for version B of our website, 78 signed up out of the 600 visitors. Let's update our prior belief using this new data for version A and B. "
      ]
    },
    {
      "metadata": {
        "id": "2JvJ8CL12hl5",
        "colab_type": "code",
        "colab": {
          "autoexec": {
            "startup": false,
            "wait_interval": 0
          },
          "output_extras": [
            {
              "item_id": 1
            }
          ],
          "base_uri": "https://localhost:8080/",
          "height": 265
        },
        "outputId": "653a81cd-29f1-4d58-943c-4790a0feae80",
        "executionInfo": {
          "status": "ok",
          "timestamp": 1516055573127,
          "user_tz": 300,
          "elapsed": 910,
          "user": {
            "displayName": "Baruch Tabanpour",
            "photoUrl": "//lh3.googleusercontent.com/-QdGwhAZwzFk/AAAAAAAAAAI/AAAAAAAAB3k/YuLNs6IqnJA/s50-c-k-no/photo.jpg",
            "userId": "117368641394038196827"
          }
        }
      },
      "cell_type": "code",
      "source": [
        "alpha_A, beta_A = alpha_0 + 100, beta_0 + 885\n",
        "alpha_B, beta_B = alpha_0 + 78, beta_0 + 522\n",
        "\n",
        "beta_distA = stats.beta(alpha_A, beta_A)\n",
        "beta_distB = stats.beta(alpha_B, beta_B)\n",
        "x2 = np.linspace(0, 0.5, 1002)[1:-1]\n",
        "\n",
        "plt.plot(x, beta_dist.pdf(x),\n",
        "         label=r'$\\alpha_0=%.1f,\\ \\beta_0=%.1f$' % (alpha_0, beta_0))\n",
        "plt.plot(x, beta_distA.pdf(x),\n",
        "         label=r'$\\alpha_A=%.1f,\\ \\beta_A=%.1f$' % (alpha_A, beta_A))\n",
        "plt.plot(x, beta_distB.pdf(x2),\n",
        "        label=r'$\\alpha_B=%.1f,\\ \\beta_B=%.1f$' % (alpha_B, beta_B))\n",
        "plt.legend(loc=0)\n",
        "plt.show()"
      ],
      "execution_count": 30,
      "outputs": [
        {
          "output_type": "display_data",
          "data": {
            "image/png": "[encoded data removed]",
            "text/plain": [
              "<matplotlib.figure.Figure at 0x7ff524d31390>"
            ]
          },
          "metadata": {
            "tags": []
          }
        }
      ]
    },
    {
      "metadata": {
        "id": "o5ghO600e6G1",
        "colab_type": "text"
      },
      "cell_type": "markdown",
      "source": [
        "Based on this, we see that website B cleary looks to be a winner here. It does better than both website A and the prior.\n"
      ]
    },
    {
      "metadata": {
        "id": "Zd_sWJIyQXZ8",
        "colab_type": "text"
      },
      "cell_type": "markdown",
      "source": [
        "#### Credible Intervals\n",
        "\n",
        "TLDR: A way to summarize and express uncertainty in our posterior distribution, e.g. 95% of the posterior distribution lies within a particular region.\n",
        "\n",
        "**Example 1 cont'd**\n",
        "\n",
        "In the example above, how do we quantify our belief that button B is better? We could find website B's 95% credible interval by using the quantile of the beta distribution:"
      ]
    },
    {
      "metadata": {
        "id": "xblXlQ3vUnz2",
        "colab_type": "code",
        "colab": {
          "autoexec": {
            "startup": false,
            "wait_interval": 0
          },
          "output_extras": [
            {
              "item_id": 1
            }
          ],
          "base_uri": "https://localhost:8080/",
          "height": 68
        },
        "outputId": "c9125db9-29df-430c-aaa5-895f4b97026b",
        "executionInfo": {
          "status": "ok",
          "timestamp": 1516055577440,
          "user_tz": 300,
          "elapsed": 292,
          "user": {
            "displayName": "Baruch Tabanpour",
            "photoUrl": "//lh3.googleusercontent.com/-QdGwhAZwzFk/AAAAAAAAAAI/AAAAAAAAB3k/YuLNs6IqnJA/s50-c-k-no/photo.jpg",
            "userId": "117368641394038196827"
          }
        }
      },
      "cell_type": "code",
      "source": [
        "print('average stats', 78/(522+78))\n",
        "print('low', stats.beta.ppf(.025, alpha_B, beta_B))\n",
        "print('high', stats.beta.ppf(.975, alpha_B, beta_B))"
      ],
      "execution_count": 31,
      "outputs": [
        {
          "output_type": "stream",
          "text": [
            "average stats 0.13\n",
            "low 0.12424278055818447\n",
            "high 0.16013069007485325\n"
          ],
          "name": "stdout"
        }
      ]
    },
    {
      "metadata": {
        "id": "S2_EsiecYq-W",
        "colab_type": "text"
      },
      "cell_type": "markdown",
      "source": [
        "#### Difference between Credible Intervals and Confidence Intervals\n",
        "\n",
        "Credible intervals are similar to frequentist confidence intervals, but take the prior into account.\n",
        "\n",
        "In Frequentist Statistics, there is one true population statistic that we try to estimate with samples from that population. The  confidence interval around our sample statistic is variable, and depends on our sample data. The population statistics are fixed.\n",
        "\n",
        "In Bayesian Statistics, we assume a distribution over our population mean (prior), and we update our belief of that distribution with our data (likelihood). So the credible interval is fixed because the posterior distribution is fixed given the data we observed. But the population statistic is variable. Therefore the confidence interval is not always equal to the credible interval.\n",
        "\n",
        "In other words, the Frequentist makes assumptions on the distribution of the sample statistic (i.e. the sample mean minus the population mean is t-distributed if we were to sample from a normally distributed population). The Bayesian makes assumptions on the distribution of the population or the prior (i.e. we've seen prior data indicating that the population mean follows this distribution).\n",
        "\n",
        "\n",
        "If we have very little data, the frequentist confidence interval would be very large. The Bayesian view takes into account a prior, so the credible interval under the Bayesian perspective could be a lot smaller.\n",
        "\n",
        "\n",
        "---\n",
        "\n",
        "**Example 2**\n",
        "\n",
        "What if we didn't have such a clear winner and our results were actually this:\n",
        "for version A of our website, 185 signed up out of 970 visitors, and for version B of our website, 220 signed up out of the 1070 visitors.\n"
      ]
    },
    {
      "metadata": {
        "id": "JmxmmdREhDkO",
        "colab_type": "code",
        "colab": {
          "autoexec": {
            "startup": false,
            "wait_interval": 0
          },
          "output_extras": [
            {
              "item_id": 1
            },
            {
              "item_id": 2
            }
          ],
          "base_uri": "https://localhost:8080/",
          "height": 316
        },
        "outputId": "fa655eeb-22f3-4e97-eb6a-b9b90b180be0",
        "executionInfo": {
          "status": "ok",
          "timestamp": 1516055580181,
          "user_tz": 300,
          "elapsed": 488,
          "user": {
            "displayName": "Baruch Tabanpour",
            "photoUrl": "//lh3.googleusercontent.com/-QdGwhAZwzFk/AAAAAAAAAAI/AAAAAAAAB3k/YuLNs6IqnJA/s50-c-k-no/photo.jpg",
            "userId": "117368641394038196827"
          }
        }
      },
      "cell_type": "code",
      "source": [
        "alpha_A, beta_A = alpha_0 + 185, beta_0 + 785\n",
        "alpha_B, beta_B = alpha_0 + 220, beta_0 + 850\n",
        "print(alpha_0, beta_0)\n",
        "print(alpha_A, beta_A)\n",
        "print(alpha_B, beta_B)\n",
        "\n",
        "\n",
        "beta_distA = stats.beta(alpha_A, beta_A)\n",
        "beta_distB = stats.beta(alpha_B, beta_B)\n",
        "x2 = np.linspace(0, 0.6, 1002)[1:-1]\n",
        "\n",
        "\n",
        "plt.plot(x, beta_dist.pdf(x2),\n",
        "         label=r'$\\alpha_0=%.1f,\\ \\beta_0=%.1f$' % (alpha_0, beta_0))\n",
        "plt.plot(x, beta_distA.pdf(x2),\n",
        "         label=r'$\\alpha_A=%.1f,\\ \\beta_A=%.1f$' % (alpha_A, beta_A))\n",
        "plt.plot(x, beta_distB.pdf(x2),\n",
        "        label=r'$\\alpha_B=%.1f,\\ \\beta_B=%.1f$' % (alpha_B, beta_B))\n",
        "plt.legend(loc=0)\n",
        "plt.show()"
      ],
      "execution_count": 32,
      "outputs": [
        {
          "output_type": "stream",
          "text": [
            "127.35 721.65\n",
            "312.35 1506.65\n",
            "347.35 1571.65\n"
          ],
          "name": "stdout"
        },
        {
          "output_type": "display_data",
          "data": {
            "image/png": "[encoded data removed]",
            "text/plain": [
              "<matplotlib.figure.Figure at 0x7ff524d31668>"
            ]
          },
          "metadata": {
            "tags": []
          }
        }
      ]
    },
    {
      "metadata": {
        "id": "309yCiAOlutA",
        "colab_type": "text"
      },
      "cell_type": "markdown",
      "source": [
        "Is version A or B better in this case? It seems that version B is slightly better, but by how much? We can try many different approaches to arrive to a conclusion: simulation of posterior draws, numerical integration, and closed form solutions.\n",
        "\n",
        "#### Computing Credible Intervals\n",
        "\n",
        "##### Simulation of posterior draws\n",
        "\n",
        "Let's use the posterior distributions to simulate 1 million draws, then compare the results in the example below:\n",
        "\n"
      ]
    },
    {
      "metadata": {
        "id": "Sd5EN_O6lQYb",
        "colab_type": "code",
        "colab": {
          "autoexec": {
            "startup": false,
            "wait_interval": 0
          },
          "output_extras": [
            {
              "item_id": 1
            }
          ],
          "base_uri": "https://localhost:8080/",
          "height": 34
        },
        "outputId": "84fb8e11-385d-4453-d600-5cd0f229b83a",
        "executionInfo": {
          "status": "ok",
          "timestamp": 1516055583797,
          "user_tz": 300,
          "elapsed": 704,
          "user": {
            "displayName": "Baruch Tabanpour",
            "photoUrl": "//lh3.googleusercontent.com/-QdGwhAZwzFk/AAAAAAAAAAI/AAAAAAAAB3k/YuLNs6IqnJA/s50-c-k-no/photo.jpg",
            "userId": "117368641394038196827"
          }
        }
      },
      "cell_type": "code",
      "source": [
        "\n",
        "sim_size = 1000000\n",
        "A_sim = stats.beta.rvs(alpha_A, beta_A, size=sim_size)\n",
        "B_sim = stats.beta.rvs(alpha_B, beta_B, size=sim_size)\n",
        "\n",
        "np.sum(B_sim > A_sim) / sim_size"
      ],
      "execution_count": 33,
      "outputs": [
        {
          "output_type": "execute_result",
          "data": {
            "text/plain": [
              "0.77175"
            ]
          },
          "metadata": {
            "tags": []
          },
          "execution_count": 33
        }
      ]
    },
    {
      "metadata": {
        "id": "8d6W1jLxxGTH",
        "colab_type": "text"
      },
      "cell_type": "markdown",
      "source": [
        "So, 77% of the time, B does better, and we can conclude that there's about a 77% probability that version B is better given our posterior distribution."
      ]
    },
    {
      "metadata": {
        "id": "W7nWy33yozrn",
        "colab_type": "text"
      },
      "cell_type": "markdown",
      "source": [
        "##### Numerical Integration\n",
        "\n",
        "Each posterior is an independent distribution, and we can combine them into a joint distribution. Then we can use numerical integration to find the area of the joint distribution where version B is greater than A.\n",
        "\n",
        "Numerical integration is not a good solution when problems have multiple dimensions.\n",
        "  "
      ]
    },
    {
      "metadata": {
        "id": "W-j1gmsBEaos",
        "colab_type": "text"
      },
      "cell_type": "markdown",
      "source": [
        "\n",
        "##### Closed-form solution:\n",
        "\n",
        "We can also sometimes calculate the closed form solution, which is derived [here](https://www.evanmiller.org/bayesian-ab-testing.html#binary_ab_derivation) for the beta distribution:\n",
        "  $$ p_A \\sim \\mbox{Beta}(\\alpha_A, \\beta_A) $$\n",
        "  $$ p_B \\sim \\mbox{Beta}(\\alpha_B, \\beta_B) $$\n",
        "  $${\\rm Pr}(p_B > p_A) = \\sum_{i=0}^{\\alpha_B-1}\\frac{B(\\alpha_A+i,\\beta_A+\\beta_B)}{(\\beta_B+i) \n",
        "B(1+i, \\beta_B)\n",
        "B(\\alpha_A, \\beta_A)\n",
        "}$$\n",
        "where $B$ is the beta function.\n",
        "\n",
        "\n"
      ]
    },
    {
      "metadata": {
        "id": "Mj-OyBdA83RM",
        "colab_type": "code",
        "colab": {
          "autoexec": {
            "startup": false,
            "wait_interval": 0
          }
        }
      },
      "cell_type": "code",
      "source": [
        "# use log beta because beta function can be less numerically stable\n",
        "\n",
        "import math\n",
        "\n",
        "def log_beta_func(a, b):\n",
        "    beta = math.exp(math.lgamma(a) + math.lgamma(b) - math.lgamma(a+b))\n",
        "    return beta\n",
        "\n",
        "def exp_error(alpha_A, beta_A, alpha_B, beta_B):\n",
        "  total_sum = 0\n",
        "  for i in range(int(alpha_B - 1)):\n",
        "    lnum = log_beta_func(alpha_A + i, beta_A + beta_B) \n",
        "    lden = math.log(beta_B + i) + log_beta_func(1 + i, beta_B) + \\\n",
        "        log_beta_func(alpha_A, beta_A)\n",
        "    total_sum += math.exp(lnum - lden)\n",
        "  return total_sum\n",
        "\n",
        "1 - exp_error(alpha_A, beta_A, alpha_B, beta_B)"
      ],
      "execution_count": 0,
      "outputs": []
    },
    {
      "metadata": {
        "id": "SaCtke2JtWeL",
        "colab_type": "text"
      },
      "cell_type": "markdown",
      "source": [
        "##### Normal Approximation\n",
        "\n",
        "Another way to calculate this probability is by assuming the two functions are normal and calculating the probability that one distribution is greater than the other. In this case, the probability that B is greater than A is just:\n",
        "$P(B<A) = P(B-A < 0) = P(X < 0)$ where $X$ is normally distributed with mean $\\mu_B - \\mu_A$ and variance $var_A + var_B$. The normal will not fit well with low $\\alpha$ or low $\\beta$.\n",
        "\n",
        "\n",
        "Using the last method, we can calculate a credible interval for the difference in the two websites, by assuming the difference is normal:"
      ]
    },
    {
      "metadata": {
        "id": "6imFdM7Uy2LE",
        "colab_type": "code",
        "colab": {
          "autoexec": {
            "startup": false,
            "wait_interval": 0
          },
          "output_extras": [
            {
              "item_id": 1
            }
          ],
          "base_uri": "https://localhost:8080/",
          "height": 136
        },
        "outputId": "e4aefa40-a78f-40a3-cd99-32d0ba774353",
        "executionInfo": {
          "status": "ok",
          "timestamp": 1516055693888,
          "user_tz": 300,
          "elapsed": 430,
          "user": {
            "displayName": "Baruch Tabanpour",
            "photoUrl": "//lh3.googleusercontent.com/-QdGwhAZwzFk/AAAAAAAAAAI/AAAAAAAAB3k/YuLNs6IqnJA/s50-c-k-no/photo.jpg",
            "userId": "117368641394038196827"
          }
        }
      },
      "cell_type": "code",
      "source": [
        "def _return_mu_var(a, b):\n",
        "  mu = a / (a + b)\n",
        "  var = a * b / ((a + b) ** 2 * (a + b + 1))\n",
        "  return mu, var\n",
        "\n",
        "mu_A, var_A = _return_mu_var(alpha_A, beta_A)\n",
        "mu_B, var_B = _return_mu_var(alpha_B, beta_B)\n",
        "\n",
        "mu_diff = mu_B - mu_A\n",
        "var_diff = var_A + var_B\n",
        "\n",
        "posterior = stats.norm.cdf(0, mu_diff, var_diff)\n",
        "low_estimate = stats.norm.ppf(.025, mu_diff, var_diff)\n",
        "high_estimate = stats.norm.ppf(.975, mu_diff, var_diff)\n",
        "\n",
        "\n",
        "print('posterior probability that B > A', 1 - posterior)\n",
        "print('\\n')\n",
        "\n",
        "print('estimate', mu_diff)\n",
        "print('credible interval for above estimate:')\n",
        "print('lower bound', low_estimate)\n",
        "print('higher bound', high_estimate)\n"
      ],
      "execution_count": 39,
      "outputs": [
        {
          "output_type": "stream",
          "text": [
            "posterior probability that B > A 1.0\n",
            "\n",
            "\n",
            "estimate 0.009290504004828865\n",
            "credible interval for above estimate:\n",
            "lower bound 0.008986008745105292\n",
            "higher bound 0.009594999264552437\n"
          ],
          "name": "stdout"
        }
      ]
    },
    {
      "metadata": {
        "id": "Nh4lGEm8R1Vj",
        "colab_type": "text"
      },
      "cell_type": "markdown",
      "source": [
        "## Multi-Armed Bandits for AB testing"
      ]
    },
    {
      "metadata": {
        "id": "AAwgcW__RuvS",
        "colab_type": "text"
      },
      "cell_type": "markdown",
      "source": [
        "\n",
        "\n",
        "### Epsilon Greedy\n",
        "\n",
        "### UCB\n",
        "\n",
        "### Thompson Sampling\n",
        "\n",
        "\n"
      ]
    },
    {
      "metadata": {
        "id": "peW5XebjxSWE",
        "colab_type": "text"
      },
      "cell_type": "markdown",
      "source": [
        "### Bayesian Inference\n",
        "https://ocw.mit.edu/courses/mathematics/18-05-introduction-to-probability-and-statistics-spring-2014/readings/"
      ]
    },
    {
      "metadata": {
        "id": "N8uZ6uxhO7Vg",
        "colab_type": "text"
      },
      "cell_type": "markdown",
      "source": [
        "<a id='ml'></a>\n",
        "# ML\n",
        "## Supervised ML"
      ]
    },
    {
      "metadata": {
        "id": "VQTWrPcfCrI5",
        "colab_type": "text"
      },
      "cell_type": "markdown",
      "source": [
        "## Linear Models"
      ]
    },
    {
      "metadata": {
        "id": "y5ukkAeMTh9v",
        "colab_type": "text"
      },
      "cell_type": "markdown",
      "source": [
        "\n",
        "\n",
        "http://cs231n.github.io/linear-classify/\n",
        "\n",
        "Linear models fit linear equations to your data.\n",
        "\n",
        "A scoring function maps your data to some outcome (class label scores or continuous variable), and a loss function measures the difference between your predicted score and ground truth so that we can keep improving the weights in the scoring function to minimize the loss function.\n",
        "\n",
        "### Definitions\n",
        "\n",
        "**Scoring Function:**\n",
        "\n",
        "The scoring function maps input data to some outcome $y$.\n",
        "\n",
        "$f(x_i, W, b) = Wx_i + b $, where\n",
        "\n",
        "Data: $x_i \\in R^D$ where $i = 1 ... N$\n",
        "\n",
        "Labels: $y_i \\in 1 ... K$, or Continuous Variable: $y_i \\in R$\n",
        "\n",
        "$W$: weights, $k$x$D$\n",
        "\n",
        "$x_i$: data, $D$x$1$\n",
        "\n",
        "$b$: bias, $k$x$1$\n",
        "\n",
        "\n",
        "**Bias Trick**\n",
        "\n",
        "Combine bias as an extra column in W and add an extra 1 as a row in $x_i$ so \n",
        "\n",
        "$$f(x_i, W) = Wx_i$$\n",
        "\n",
        "**Loss Function**\n",
        "\n",
        "Also called cost function or objective function. Loss functions measure the difference between our prediction and the ground truth.\n",
        "\n",
        "\n",
        "### Linear Regression\n",
        "\n",
        "Linear regression maps your data to some continuous output using a scoring function $$f(x_i, W) = Wx_i$$ and usually uses least squares to fit the model.\n",
        "\n",
        "We need to find the coefficients W to minimize the residual sum of squares (least squares method):\n",
        "\n",
        "$$RSS(W) = \\sum_{i=1}^{n}{(y_i - Wx_i)^2}$$\n",
        "\n",
        "When we differentiate with respect to $W$, we get the normal equations:\n",
        "\n",
        "$$\\textbf{X}^T(\\textbf{y} - \\textbf{X} W) = 0$$\n",
        "\n",
        "where $\\textbf{X}$ is $n$x$D$ (each row is an input vector), and $\\textbf{y}$ is $n$x$1$. Solving for $W$,\n",
        "\n",
        "$$W = (\\textbf{X}^T\\textbf{X})^{-1}\\textbf{X}^T \\textbf{y} $$\n",
        "\n",
        "\n",
        "#### Why do we use least squares?\n",
        "The error decomposes into recognizable quantities:\n",
        "$$E[f(\\textbf{X}) -  \\textbf{y}] = E_X[E[(f(\\textbf{X}) - y)^2 | \\textbf{X}]]$$\n",
        "$$= E_X[f(\\textbf{X})^2 -2 f(\\textbf{X})E[y|\\textbf{X}] + E[y^2|\\textbf{X}]]$$\n",
        "$$= E_X[(f(\\textbf{X}) - E[y|\\textbf{X}])^2 + E[y^2|\\textbf{X}] - E[y|\\textbf{X}]^2]$$\n",
        "$$= E_X[(f(\\textbf{X}) - E[y|\\textbf{X}])^2] + E[var[y|\\textbf{X}]]$$\n",
        "$$= E_X[f(\\textbf{X}) - E[y|\\textbf{X}]]^2 + (E[f(\\textbf{X})^2] - E[f(\\textbf{X})]^2) + E_X[var[y|\\textbf{X}]]$$\n",
        "$$= E_X[f(\\textbf{X}) - E[y|\\textbf{X}]]^2 + var[f(\\textbf{X})] + E_X[var[y|\\textbf{X}]]$$\n",
        "\n",
        "= Squared bias w.r.t to data + variance of the model + inherent noise in the data.\n",
        "\n",
        "So, minimizing least squares treats bias and variance equally in the lost function.\n",
        "\n",
        "### Logistic Regression\n",
        "\n",
        "Logistic regression is used for classification. The scoring function adds a softmax to the output of the linear regression:\n",
        "\n",
        "$$f(x_i, W, b) = softmax(Wx_i + b) $$\n",
        "\n",
        "where the Softmax function is $softmax(x) = \\frac{e^x}{1 + e^x} = p(x)$. It squashes the linear regression output into a probability $\\in [0, 1]$. The raw output of the classifier $Wx_i + b$ is referred to the logits or log-odds, since $log(\\frac{p}{1 - p}) = Wx_i + b$.\n",
        "\n",
        "The loss often used in logistic regression is the cross-entropy loss:\n",
        "\n",
        "$$H(p,q) = - \\sum_x p(x) \\log q(x)$$\n",
        "\n",
        "where $p(x)$ is the ground truth class distribution and $q(x)$ is the output from our classifier.\n"
      ]
    },
    {
      "metadata": {
        "id": "pNYp3Tgqzj59",
        "colab_type": "text"
      },
      "cell_type": "markdown",
      "source": [
        "### SVM - Max-Margin Classifier\n",
        "\n",
        "Support Vector Machine is another linear model, and uses SVM Loss. SVM wants the score of the correct class for each input to be higher than the incorrect classes by a fixed margin $\\Delta$.\n",
        "\n",
        "Let's call the score for each prediction $s$. That is, the score for the $j$-th class is $s_j = f(x_i, W)_j$. The multi-class SVM loss is:\n",
        "\n",
        "$$ L_i = \\sum_{j \\neq y_i}max(0, s_j - s_{y_i} + \\Delta)   $$\n",
        "\n"
      ]
    },
    {
      "metadata": {
        "id": "P_Hlk1KYfF5M",
        "colab_type": "text"
      },
      "cell_type": "markdown",
      "source": [
        "### Bias variance trade off\n",
        "\n",
        "![alt text](https://www.kdnuggets.com/wp-content/uploads/bias-and-variance.jpg)\n",
        "\n",
        "The bias-variance tradeoff is a problem encountered in supervised learning (look at the squared-error loss decomposition in Linear Regression above). Ideally we would reduce both the variance and bias term in our model loss. Unfortunately, this is very hard to do and we often have to compromise between the bias and variance losses of our model.\n",
        "\n",
        "Models with low bias tend to be more complex and overfit the training data by capturing the noise in the training data (they have higher variance). Models with low variance tend to be simpler and generalize better, but underfit on the training data (they have higher bias).\n"
      ]
    },
    {
      "metadata": {
        "id": "jPorYyvaCvtu",
        "colab_type": "text"
      },
      "cell_type": "markdown",
      "source": [
        "## Multi-Class / Multi-Label"
      ]
    },
    {
      "metadata": {
        "id": "EidFx4dI4VxJ",
        "colab_type": "text"
      },
      "cell_type": "markdown",
      "source": [
        "\n",
        "\n",
        "\n",
        "### Multiclass classification\n",
        "\n",
        "The output of a mutli-class classification is a single class instance per data-point. There can be more than 2 classes, but each data-point is only assigned one class label. There are some methods that are inherently multi-class, such a multi-class logistic regression and SVM. You can also use several smaller binary classifiers as follows:\n",
        "\n",
        "#### One vs. All classification (OVA) or One vs. Rest (OVR):\n",
        "\n",
        "Pick a technique for building binary classifiers (i.e. binary logistic regression), and build $N$ binary classifiers. For the $i$-th classifier, let positive examples be the points in class $i$, negative examples are points not in class $i$. \n",
        "\n",
        "If $f_i$ is the $i$-th classifier, classify with:\n",
        "$$f(x) = \\underset{i}{\\mathrm{argmax}} f_i(x)$$\n",
        "\n",
        "#### All vs. All classification (AVA) or One vs. One (OVO):\n",
        "\n",
        "Build N(N-1) binary classifiers, each classifier distinguishes between a different pair of classes, i and j.\n",
        "\n",
        "Let $f_{i,j}$ be the classifier where class $i$ are the positive examples, and class $j$ are the negative. $f_{j,i} = -f_{i,j}$. \n",
        "\n",
        "$$ f(x) =  \\underset{i}{\\mathrm{argmax}}(\\sum_j f_{ij}(x))$$\n",
        "\n",
        "#### OVO vs. AVA:\n",
        "AVA requires O(N^2) classifiers, OVA requres O(N). But, each classifier in AVA has less data to classify."
      ]
    },
    {
      "metadata": {
        "id": "c4HwQ3vsIxVl",
        "colab_type": "text"
      },
      "cell_type": "markdown",
      "source": [
        "## Over-fitting and Regularization\n",
        "\n",
        "## Hyper-Parameter Tuning\n",
        "\n",
        "## Metrics\n",
        "\n",
        "### Accuracy\n",
        "\n",
        "### Cross-Entropy Loss\n",
        "\n",
        "### F1 Score - Precision/Recall\n"
      ]
    },
    {
      "metadata": {
        "id": "BJqWV-23Hlw7",
        "colab_type": "text"
      },
      "cell_type": "markdown",
      "source": [
        "## Non-Linear Models\n",
        "\n",
        "### Neural Nets\n",
        "--DONE (i have to type up my paper notes from this)--\n",
        "\n",
        "### Nearest Neighbors\n",
        "\n",
        "Rarely used in practice. Take the difference of two data-points. The closer the distance metric, the more similar they are. \n",
        "\n",
        "For example have two images: image 1, $I_1$, and image 2, $I_2$. We can take the $L_1$ distance between the 2 images by taking the sum of difference between pixels, $p$ of each image. i.e. \n",
        "\n",
        "$$d(I_1, I_2) = \\sum_p{|I_1^p - I_2^p|}$$\n",
        "\n",
        "To train a nearest neighbors classifier, remember all X and y. Then when you predict for some image, return the corresponding label to the nearest image using the distance metric above.\n",
        "\n",
        "\n",
        "Advantage: \n",
        "  - No time to train, just storing past results.\n",
        "\n",
        "Disadvantage:\n",
        "  - Needs space to store all the training data\n",
        "  - High computational cost during test time.\n",
        "\n",
        "#### k-Nearest Neighbor\n",
        "\n",
        "Instead of finding the nearest image, find the top-k nearest images. k is a hyperparameter that you tune for. The probability of the label is the empirical distribution of the labels of the k neighbors.\n",
        "\n",
        "\n",
        "\n",
        "\n"
      ]
    },
    {
      "metadata": {
        "id": "Of-P_KZxIBKY",
        "colab_type": "text"
      },
      "cell_type": "markdown",
      "source": [
        "# Unsupervised ML\n",
        "\n",
        "## Unsupervised / Clustering / Embeddings\n",
        "\n",
        "### K-Means\n",
        "### EM\n",
        "### Gaussian Mixture Model\n",
        "### Dimensionality Reduction & Plotting\n",
        "### Auto-encoding\n",
        "\n",
        "## HMM and Kalman Filters\n",
        "\n",
        "## Sequence Predictions / RNNs\n",
        "\n",
        "## Meta-learning\n",
        "\n"
      ]
    },
    {
      "metadata": {
        "id": "bgNEnkAYIGN5",
        "colab_type": "text"
      },
      "cell_type": "markdown",
      "source": [
        "# Reinforcement Learning\n",
        "\n"
      ]
    },
    {
      "metadata": {
        "id": "hNxH78XkO94I",
        "colab_type": "text"
      },
      "cell_type": "markdown",
      "source": [
        "<a id='appliedML'></a>\n",
        "# Applied ML"
      ]
    },
    {
      "metadata": {
        "id": "iHLg7gNqaEnU",
        "colab_type": "text"
      },
      "cell_type": "markdown",
      "source": [
        "## Feature Engineering\n",
        "\n",
        "### How to deal with categorical variables\n",
        "\n",
        "\n",
        "Dummy Coding:\n",
        "\n",
        "- One hot encode (see curse of dimensionality below)\n",
        "\n",
        "\n",
        "\n",
        "Combine Levels:\n",
        "\n",
        "- If a feature variable has too many classes, you can combine them into groups, e.g. if you have too many zip codes, combine multiple zipcodes into different districts.\n",
        "- Combine levels based on the frequency of the variable, e.g. if some zipcodes are less frequent, combine them to one.\n",
        "- You can combine categories by their commonalities (i.e. location or distance)\n",
        "\n",
        "\n",
        "\n",
        "Convert to Numbers:\n",
        "\n",
        "- Label encoders (where number for the class is between 0 and n (number of classes) - 1)\n",
        "- Numeric bins, e.g. Age (0-17, 17-34, etc.)\n",
        "  - Label encode them, e.g. each bin will be a different numeric bin\n",
        "  - Create a new feature using mean or mode of each bin\n",
        "  - 2 new features, one lower bound, another upper bound\n",
        "  \n",
        "If you convert categoricals to continuous variables, the meaning associated with increasing the continuous variable should translate to the same meaning with the categorical variable.\n",
        "\n",
        "\n",
        "\n",
        "\n",
        "### Curse of Dimensionality\n",
        "\n",
        "\n",
        "When you add categorical or continuous variables to your dataset, you will need exponentially more rows to achieve the same statistical significance.\n",
        "\n",
        "As an example, let's say you have 2 categorical binary variables. There are 2^2 or 4 combinations. So if you had 100 evenly distributed data points, you would have an average of 25 data points per class combination. Now let's say you had 3 categorical variables. In order to have the same 25 data points per class combination, you would need 2^3 * 25 = 200 datapoints in total. We added one categorical variables to our dataset, and now we need double the data to achieve the same significance.\n",
        "\n",
        "In other words, as you increase the number of variables, the data you need to achieve significance increases exponentially.\n",
        "\n",
        "\n"
      ]
    },
    {
      "metadata": {
        "id": "2HCeLRP89clx",
        "colab_type": "text"
      },
      "cell_type": "markdown",
      "source": [
        "\n",
        "\n",
        "## Text Representations\n",
        "\n",
        "There are many ways to represent text as numbers to be used in statistical models.\n",
        "\n",
        "\n",
        "### Bag of Words\n",
        "\n",
        "Build a fixed length vocabulary $V$ from your corpus. Assign a vector of length $V$ to new text by assigning each entry of the vector with the count of the word in the text.\n",
        "\n",
        "### TF-IDF (term frequency - inverse document frequency)\n",
        "\n",
        "Build a fixed length vocabulary $V$ from your corpus. We assign a score to each word that represents how 'important' this word is in your corpus.\n",
        "\n",
        "Given some new text, we weight each word by its frequency in that text and with the inverse document frequency in a previously seen corpus.\n",
        "\n",
        "tf = $\\frac{t_d}{\\sum_{d' \\in{N}}{t_{d'}}}$ \\\\\n",
        "\n",
        "- $t_d$ is the number of times term $t$ occurs in the document $d$. \n",
        "- The denominator is the total number of terms in the document.\n",
        "- N is the number of documents. \\\\\n",
        "\n",
        "idf = $ln{ \\frac{N}{\\text{Number of documents with term t in it}}} $ \\\\\n",
        "\n",
        "Each term gets a $tfidf = tf * idf$ score, and the vector representation of the text contains the tf-idf values for each word in the vocabulary.\n",
        "\n",
        "### Word vectors\n",
        "\n",
        "The problem with the above vector representations of text is that if you take two words, and compute the cosine similarity, we get 0. For example, if our vocabulary contained two words, \"cat\" and \"dog\", a document with the word cat could be represented as [0, 1], and a document with the word dog could be represented as [1, 0]. If you take the dot-product, we obtain 0, although we know cats and dogs are both pets, so the similarity of the two documents should probably be bigger than 0. We will now discuss methods that fix this issue.\n",
        "\n"
      ]
    },
    {
      "metadata": {
        "id": "6y_2g2rM-bHs",
        "colab_type": "text"
      },
      "cell_type": "markdown",
      "source": [
        "### Word2vec \n",
        "1 hidden layer neural network that takes in a word and its context words within a corpus, and learns a vector representation of that word.\n",
        "\n",
        "Paper with very good explanations and derivations: https://arxiv.org/pdf/1411.2738.pdf\n",
        "\n",
        "2 types:\n",
        "\n",
        "- CBOW: given a window of context words surrounding a word, predict the word itself\n",
        "- Skipgram: given a word, predict the surrounding context words\n",
        "\n",
        "*Model definition:*\n",
        "\n",
        "- Vocabulary size, $V$\n",
        "- Hidden layer $\\textbf{h}$, size, $N$\n",
        "- Weights between input layer and hidden layer, $\\textbf{W}_{VxN}$\n",
        "  - Each row of $W$ is the $N$ dimensional vector representation of the $k$th word in the input layer.\n",
        "  \n",
        "- Weights between hidden layer and output layer $\\textbf{W}'_{NxV}$\n",
        "- Context window size, $C$\n",
        "\n"
      ]
    },
    {
      "metadata": {
        "id": "pPFW4L-t-_WA",
        "colab_type": "text"
      },
      "cell_type": "markdown",
      "source": [
        ""
      ]
    },
    {
      "metadata": {
        "id": "ruS4I38dqKyM",
        "colab_type": "text"
      },
      "cell_type": "markdown",
      "source": [
        "**CBOW**:\n",
        "\n",
        "Architecture looks like this:\n",
        "\n",
        "*Input layer:* Each input word from your context is a one hot encoded vector.\n",
        "\n",
        "*Hidden layer:* Input to the hidden layer is the average of your context word vectors.\n",
        "\n",
        "$$\\textbf{h} = \\frac{1}{C}\\textbf{W}^T(\\textbf{x}_1 + \\textbf{x}_2 + ... + \\textbf{x}_C) $$\n",
        "\n",
        "This is just\n",
        "$$\\textbf{h} = \\frac{1}{C}(\\textbf{v}_{w_1} + \\textbf{v}_{w_2} + ... + \\textbf{v}_{w_C})^T $$\n",
        "\n",
        "where $ w_1,... w_c$ are the words in the context and $\\textbf{v}_{w_c}$ is the vector representation of input word $w_c$.\n",
        "\n",
        "$\\textbf{W}^Tx_C$ copies the $k$th row of $\\textbf{W}$ to $\\textbf{v}_{w_c}$.\n",
        "\n",
        "*Output layer*:\n",
        "\n",
        "We need to compute a score, $u_j$ for each word in the vocabulary.\n",
        "\n",
        "$$u_j = \\textbf{v}'^T_{w_j}\\textbf{h}$$\n",
        "\n",
        "where $\\textbf{v}'_{w_j}$ is the $j$th column of matrix $\\textbf{W}'$.\n",
        "\n",
        "We use softmax to obtain the posterior distribution of words (which is a multinomial distribution).\n",
        "\n",
        "$$p(w_j|w_1, ... w_C) = y_j = \\frac{exp(u_j)}{\\sum_{j'=1}^Vexp(u_{j'})}$$\n",
        "\n",
        "The training objective is to maximize the above equation for the actual output word $w_O$, where $j*$ is the index of $w_O$.\n",
        "\n",
        "$$\\max p(w_j|w_1, ... w_C) = \\max y_{j*}$$\n",
        "\n",
        "The loss equation we want to minimize is:\n",
        "\n",
        "$$E = -logp(w_O|w_1, ..., w_C) $$\n",
        "$$ =  -u_{j*} + log\\sum_{j'=1}^{V}{exp( \\textbf{v}'^T_{w_j} \\cdot h)}$$\n",
        "$$ = - \\textbf{v}'^T_{w_O} \\cdot \\textbf{h}  + log \\sum_{j'=1}^{V} {\\textbf{v}'^T_{w_j} \\cdot \\textbf{h}}$$\n",
        "\n",
        "Update equation for hidden->output weight matrix:\n",
        "\n",
        "$$\\frac{\\partial{E}}{\\partial{w'_{ij}}} = \\frac{\\partial{E}}{\\partial{u_{j}}} \\frac{\\partial{u_j}}{\\partial{w'_{ij}}}  = e_j \\cdot h_i$$\n",
        "where\n",
        "$$\\frac{\\partial{E}}{\\partial{u_{j}}} = e_j = y_j - t_j$$\n",
        "$t_j = \\mathbb{1}(j = j^*)$.\n",
        "\n",
        "Using SGD, the update equation looks like:\n",
        "\n",
        "$$w'^{(new)}_{ij} =  w'^{(old)}_{ij} - \\eta \\cdot e_j \\cdot h_i $$\n",
        "\n",
        "or\n",
        "\n",
        "$$v'^{(new)}_{w_j} =  v'^{(old)}_{w_j} - \\eta \\cdot e_j \\cdot \\textbf{h} $$\n",
        "for $j = 1, 2, ... V$\n",
        "where $\\eta$ is the learning rate.\n",
        "\n",
        "Update equation for input->hidden weight matrix:\n",
        "(derivation similar, look at [the paper mentioned earlier](https://arxiv.org/pdf/1411.2738.pdf))\n",
        "\n",
        "We need to apply the following equation to every input context word vector:\n",
        "\n",
        "$$v^{(new)}_{w_{I, c}} =  v^{(old)}_{w_{I, c}} - \\frac{1}{C} \\cdot \\eta \\cdot EH^T $$\n",
        "\n",
        "where $v_{w_{I, c}}$ is the input vector of the $c$ word in the input context, $\\eta$ is the learning rate, $EH = \\frac{\\partial E}{\\partial{h_i}}$\n",
        "\n",
        "Since $EH$ is the sum of the output vectors of all words in the vocabulary weighted by their prediction error $e_j$, we can intuitively understand this update equation as adding a part of every vector to the input of the context word.\n",
        "\n",
        "![alt text](https://i.stack.imgur.com/fYxO9.png)\n"
      ]
    },
    {
      "metadata": {
        "id": "tZAP9qlg0Y6y",
        "colab_type": "text"
      },
      "cell_type": "markdown",
      "source": [
        "Silly example that isn't real but demonstrates the math, let's check that 2 words get more similar:"
      ]
    },
    {
      "metadata": {
        "id": "GmCZtoW-5IaS",
        "colab_type": "code",
        "colab": {
          "autoexec": {
            "startup": false,
            "wait_interval": 0
          }
        }
      },
      "cell_type": "code",
      "source": [
        "import numpy as np\n",
        "\n",
        "document = \"Some polar bears in the Arctic are shedding pounds during the time they should be beefing up, a new study shows. It’s the climate change diet and scientists say it’s not good. They blame global warming for the dwindling ice cover on the Arctic Ocean that bears need for hunting seals each spring.\"\n",
        "sentence1 = document.split('.')[0]\n",
        "\n",
        "doc_dict = {}\n",
        "idx_num = 0\n",
        "for sentence in document.split('.'):\n",
        "  sentence_tknzd = sentence.split(' ')\n",
        "  for word in sentence_tknzd:\n",
        "    word.strip(',')\n",
        "    if word not in doc_dict:\n",
        "      doc_dict[word] = idx_num\n",
        "    idx_num += 1\n",
        "\n",
        "sentence1_tknzd = sentence1.split(' ')"
      ],
      "execution_count": 0,
      "outputs": []
    },
    {
      "metadata": {
        "id": "ZSEpIoQTAfhB",
        "colab_type": "code",
        "colab": {
          "autoexec": {
            "startup": false,
            "wait_interval": 0
          }
        }
      },
      "cell_type": "code",
      "source": [
        "# Initialize weights matrix W, and W'\n",
        "# let's give only 20 features for now:\n",
        "vocab_size = len(doc_dict) + 1\n",
        "num_features = 20\n",
        "\n",
        "W = np.random.standard_normal(size=(vocab_size, num_features))\n",
        "\n",
        "W_prime = np.random.standard_normal(size=(num_features, vocab_size))\n",
        "\n",
        "# Set some hyperparameters of model:\n",
        "learning_rate = 0.1\n",
        "win_size = 3"
      ],
      "execution_count": 0,
      "outputs": []
    },
    {
      "metadata": {
        "id": "JF-dNTCZSlj4",
        "colab_type": "code",
        "colab": {
          "autoexec": {
            "startup": false,
            "wait_interval": 0
          },
          "output_extras": [
            {
              "item_id": 1
            }
          ],
          "base_uri": "https://localhost:8080/",
          "height": 34
        },
        "outputId": "0dd8939b-1987-40bf-e1da-8527ee552d33",
        "executionInfo": {
          "status": "ok",
          "timestamp": 1519335520482,
          "user_tz": 300,
          "elapsed": 1064,
          "user": {
            "displayName": "Inna Shteinbuk",
            "photoUrl": "//lh5.googleusercontent.com/-_vXxKfahMKs/AAAAAAAAAAI/AAAAAAAAK8k/srNREuaEhA8/s50-c-k-no/photo.jpg",
            "userId": "109370904258545758972"
          }
        }
      },
      "cell_type": "code",
      "source": [
        "# Check distance between polar and bears\n",
        "polar_vec = W[doc_dict['polar']]\n",
        "bears_vec = W[doc_dict['bears']]\n",
        "cosine_similarity(polar_vec.reshape(1, num_features), bears_vec.reshape(1, num_features))"
      ],
      "execution_count": 110,
      "outputs": [
        {
          "output_type": "execute_result",
          "data": {
            "text/plain": [
              "array([[0.3498866]])"
            ]
          },
          "metadata": {
            "tags": []
          },
          "execution_count": 110
        }
      ]
    },
    {
      "metadata": {
        "id": "4o7K6PRdX-vb",
        "colab_type": "code",
        "colab": {
          "autoexec": {
            "startup": false,
            "wait_interval": 0
          }
        }
      },
      "cell_type": "code",
      "source": [
        "# Go through 10 epochs:\n",
        "for x in range(10):\n",
        "  for target_idx in range(0, len(sentence1_tknzd)):\n",
        "    # Get all indices\n",
        "    start_idx = max(target_idx - win_size, 0)\n",
        "    end_idx = min(len(sentence1_tknzd) - 1, target_idx + win_size)\n",
        "    target_word = sentence1_tknzd[target_idx]\n",
        "    context = [sentence1_tknzd[idx] for idx in range(start_idx, target_idx)]\n",
        "    context += [sentence1_tknzd[idx] for idx in range(target_idx + 1, end_idx + 1)]\n",
        "\n",
        "    # Input vectors:\n",
        "    inp = np.array([doc_dict[c] for c in context])\n",
        "    input_layer = np.zeros((len(inp), vocab_size))\n",
        "    input_layer[np.arange(len(inp)), inp] = 1\n",
        "\n",
        "    # you can just use np.mean function?\n",
        "    # Average input word vectors (context) to get hidden layer.\n",
        "    h = (1 / len(context)) * np.sum([np.dot(W.T, x) for x in input_layer], axis=0)\n",
        "\n",
        "    scores = np.array([np.dot(W_prime[:, i].T, h) for i in range(vocab_size)])\n",
        "\n",
        "    # Apply softmax\n",
        "    output_layer = np.exp(scores) / np.sum(np.exp(scores), axis=0)\n",
        "\n",
        "    # compute error e\n",
        "    t_j = np.zeros(vocab_size)\n",
        "    t_j[target_idx] = 1\n",
        "    e = output_layer - t_j\n",
        "\n",
        "    # Update W'\n",
        "    W_prime -= np.array([learning_rate * e[j] * h for j in range(vocab_size)]).T\n",
        "\n",
        "    # Update W\n",
        "    # Only updating input context vectors\n",
        "    # EH [1, 20]\n",
        "    EH = np.array([np.sum(W_prime[i, :] * e) for i in range(num_features)])\n",
        "    EH_weighted = EH * learning_rate * (1 / vocab_size)\n",
        "    W[a] -= EH_weighted\n",
        "\n"
      ],
      "execution_count": 0,
      "outputs": []
    },
    {
      "metadata": {
        "id": "kB7Ij13cdHFi",
        "colab_type": "code",
        "colab": {
          "autoexec": {
            "startup": false,
            "wait_interval": 0
          },
          "output_extras": [
            {
              "item_id": 1
            }
          ],
          "base_uri": "https://localhost:8080/",
          "height": 34
        },
        "outputId": "e61ccc75-1385-4940-bfe8-965b7bccddfe",
        "executionInfo": {
          "status": "ok",
          "timestamp": 1519335592189,
          "user_tz": 300,
          "elapsed": 493,
          "user": {
            "displayName": "Inna Shteinbuk",
            "photoUrl": "//lh5.googleusercontent.com/-_vXxKfahMKs/AAAAAAAAAAI/AAAAAAAAK8k/srNREuaEhA8/s50-c-k-no/photo.jpg",
            "userId": "109370904258545758972"
          }
        }
      },
      "cell_type": "code",
      "source": [
        "polar_vec2 = W[doc_dict['polar']]\n",
        "bears_vec2 = W[doc_dict['bears']]\n",
        "cosine_similarity(polar_vec2.reshape(1, num_features), bears_vec2.reshape(1, num_features))"
      ],
      "execution_count": 119,
      "outputs": [
        {
          "output_type": "execute_result",
          "data": {
            "text/plain": [
              "array([[0.33496195]])"
            ]
          },
          "metadata": {
            "tags": []
          },
          "execution_count": 119
        }
      ]
    },
    {
      "metadata": {
        "id": "Ra8yavowJShi",
        "colab_type": "text"
      },
      "cell_type": "markdown",
      "source": [
        "It makes sense that the vectors for 'polar' and 'bears' are getting closer!"
      ]
    },
    {
      "metadata": {
        "id": "ibPpM0mQqZpR",
        "colab_type": "text"
      },
      "cell_type": "markdown",
      "source": [
        "**Skip-Gram Model**\n",
        "\n",
        "Now, our target word is at the input layer, and context at the output layer of our network.\n",
        "\n",
        "Input layer: \n",
        "- One word, $w_I$.\n",
        "\n",
        "Hidden layer:\n",
        "- Input to the hidden layer is just the vector representation of the input word, $\\textbf{v}_{w_I}$:\n",
        "\n",
        "$$\\textbf{h} = \\textbf{W}^T_{(k, \\cdot)} = \\textbf{v}^T_{w_I}$$\n",
        "\n",
        "Output layer:\n",
        "- Instead of 1 multinomial distribution, we have C multinomial distributions. Each output uses the same weight matrix $W'$.\n",
        "\n",
        "\n",
        "![alt text](https://wuciawe.github.io/files/2017-02-12-notes-on-word2vec/sg.png)"
      ]
    },
    {
      "metadata": {
        "id": "L5jKwXH5vhZE",
        "colab_type": "text"
      },
      "cell_type": "markdown",
      "source": [
        "**Computational Efficiency of Word2vec**\n",
        "\n",
        "\n",
        "These models have 2 vector representations (input vector $\\textbf{v}_w$ and output vector $\\textbf{v'}_w$ ) for each word. \n",
        "\n",
        "To update $\\textbf{v'}_w$, we need to iterate through every word $w_j$ in the vocabulary, check the output probability $y_j$ and compare it with the expected output (1 or 0). This is very expensive!\n",
        "\n",
        "\n",
        "2 solutions: (1) Hierarchical Softmax, (2) Sampling\n",
        "\n",
        "Idea behind (1) Hierarchical Softmax:\n",
        "This is an efficient way of computing softmax where we get rid of the output vector representation for words. Instead, the vocabulary is represented as a binary tree, where the words are leaves, and the probability of each word is derived from the unique path between the root and the leaf node word.\n",
        "(can read paper for thorough explanation)\n",
        "\n",
        "Idea behind (2) Negative Sampling:\n",
        "Our problem is that we have too many output vectors, so let's keep the output word and just sample a few other words as negative samples. We determine the distribution empirically, and the word2vec paper defines one distribution. They also use a simplified training objective.\n",
        "\n",
        "\n",
        "\n"
      ]
    },
    {
      "metadata": {
        "id": "307WYeM1gQfa",
        "colab_type": "text"
      },
      "cell_type": "markdown",
      "source": [
        "#### Fasttext\n",
        "\n",
        "https://fasttext.cc\n",
        "\n",
        "Fasttext for word embeddings is just like word2vec, except it looks at character ngrams for training as well.\n",
        "\n",
        "So, for the word 'king' if you specified the smallest ngram to be 3 and largest to be 4, it would look at 'kin', 'ing' as well. To use 'king' as an input, we represent it using the sum of the vectors for {'kin', 'ing', 'king'} .\n",
        "\n",
        "This is good because:\n",
        "- It could generate better word embeddings for rare words, i.e. a rare word may not have many context words, but some of its character n-grams might.\n",
        "- Could handle out of vocabulary words well, a word could have a vector from its character ngrams \n",
        "\n",
        "\n",
        "#### Fasttext classification\n",
        "\n",
        "First  we average our word representations into a text representation (into the hidden layer) which is fed into a linear classifier, similar to CBOW architecture of word2vec. We still use a context-window, (this size is one of the hyperparameters). Use softmax to compute probability distribution over classes. Then minimize negative log likelihood over the classes. Train with SGD and decaying learning rate.\n",
        "\n"
      ]
    },
    {
      "metadata": {
        "id": "RclBK1P3Iy1g",
        "colab_type": "text"
      },
      "cell_type": "markdown",
      "source": [
        "\n",
        "\n",
        "\n",
        "### Named Entity Recognition\n",
        "### Part-of-Speech Tagging\n",
        "### Machine Translation\n",
        "\n",
        "IBM models (statistical machine translation), deep-learning beat the shit out of it, sequence2sequence with Attention\n",
        "\n"
      ]
    },
    {
      "metadata": {
        "id": "hauXXYWjU28W",
        "colab_type": "text"
      },
      "cell_type": "markdown",
      "source": [
        "## Image Representations\n",
        "\n",
        "\n",
        "A computer sees an image as a matrix of numbers, m pixels by n pixels. If it is an RGB image, the matrix is 3 dimensional, each dimension representing a different color channel. Each number is an integer from 0 (black) to 255 (white).\n",
        "\n",
        "It's common to normalize pixels: get a mean image by taking the mean of all pixels in your training data, then subtract the mean image from each image. This makes your pixels lie approximately between values [-127, 127]. Could also scale input features to lie between [-1, 1].\n",
        "\n",
        "### Issues with using raw pixels\n",
        "\n",
        "If we use raw pixels as representations though, we have a similar problem that we did with bag-of-words representations of text. If we take the cosine similarity between two identical images, but with one image slightly translated to the right, the cosine similarity will be very different than two identical images without translation. Our representation of images should be translation invariant, and ideally rotation invariant, and should also capture a \"similarity\" measure that makes sense to humans visually. \n",
        "\n"
      ]
    },
    {
      "metadata": {
        "id": "oSnzz5VBU5Ct",
        "colab_type": "text"
      },
      "cell_type": "markdown",
      "source": [
        "### Convolutional Neural Networks\n",
        "\n",
        "Image representations are often learned with deep convolution neural nets. Typical datasets for learning image representations are [ImageNet](http://www.image-net.org), [Open Images Dataset](https://github.com/openimages/dataset), CIFAR, MNIST, [COCO](http://cocodataset.org/#home). Some network architectures are NASnet, ResNet, Inception models. Pre-trained architectures can be found [here](https://github.com/tensorflow/models/tree/master/research/slim/nets/nasnet) or [here](https://github.com/tensorflow/models/tree/master/research/slim). New tasks can be learned with transfer learning, fine-tuning the last layers of these architectures.\n",
        "\n",
        "\n",
        "### Distance Measures\n",
        "\n"
      ]
    },
    {
      "metadata": {
        "id": "DChKrbW_UqLY",
        "colab_type": "text"
      },
      "cell_type": "markdown",
      "source": [
        "\n",
        "\n",
        "## Approximate Nearest Neighbors\n",
        "\n",
        "If you have a large search index, approximate methods for nearest neighbor search will be more efficient. Some packages are [Annoy](https://github.com/spotify/annoy), [faiss](https://github.com/facebookresearch/faiss), etc.\n",
        "\n",
        "TODO: describe one of these methods.\n"
      ]
    },
    {
      "metadata": {
        "id": "gEX-VWrSUtAG",
        "colab_type": "text"
      },
      "cell_type": "markdown",
      "source": [
        "## Recommendation Algorithms\n",
        "\n"
      ]
    },
    {
      "metadata": {
        "id": "809hAPPtRi5r",
        "colab_type": "text"
      },
      "cell_type": "markdown",
      "source": [
        "### Collaborative Filtering\n",
        "\n",
        "\n",
        "### Content Based Filtering\n",
        "\n",
        "\n",
        "\n",
        "\n",
        "\n",
        "\n",
        "\n"
      ]
    },
    {
      "metadata": {
        "id": "aQ-Tz5jDRlq0",
        "colab_type": "text"
      },
      "cell_type": "markdown",
      "source": [
        "### Cold-start\n",
        "\n",
        "\n",
        "### Examples\n"
      ]
    },
    {
      "metadata": {
        "id": "9ajaGDyKPe7M",
        "colab_type": "text"
      },
      "cell_type": "markdown",
      "source": [
        "## Putting stuff into production\n",
        "\n",
        "To put a model into production, you should:\n",
        "\n",
        "- Train a model and Cross-Validate your performance to ensure generalizability.\n",
        "- Serialize/Deserialize the model\n",
        "- Package your environment (Docker)\n",
        "- Make a standard API for other to interface with your model\n",
        "- Store Application logs and Service logs\n",
        "- Create alerting based on latency, error counts, etc.\n",
        "- Monitor how the model performs, AB-test, etc.\n"
      ]
    },
    {
      "metadata": {
        "id": "MoAudHeKI0iK",
        "colab_type": "text"
      },
      "cell_type": "markdown",
      "source": [
        "<a id='data'></a>\n",
        "# Systems\n",
        "\n",
        "## Data\n",
        "\n",
        "## Parallel Computing in Python\n",
        "\n",
        "### MPI (Message Passing Interface)\n",
        "\n",
        "http://materials.jeremybejarano.com/MPIwithPython\n",
        "\n",
        "You write the code for all processes in one program, and then you run the same program on all CPUs. They communicate with each other via the same program using MPI.\n",
        "\n",
        "**Load Balancing**: this is when you are running multiple processes, and one process has more work than the others. The program is as slow as the slowest process. In order to make the program more efficient, we need to balance the workload across all processes. This is called Load Balancing."
      ]
    },
    {
      "metadata": {
        "id": "MdVg-rHYlIAf",
        "colab_type": "text"
      },
      "cell_type": "markdown",
      "source": [
        "Relational Databases (SQL)\n",
        "\n",
        "Distributed Data Stores (Hadoop)\n",
        "\n",
        "Distributed Computation (Spark)"
      ]
    },
    {
      "metadata": {
        "id": "pCUQAqNyjpCy",
        "colab_type": "text"
      },
      "cell_type": "markdown",
      "source": [
        ""
      ]
    }
  ]
}